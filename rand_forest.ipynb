{
 "cells": [
  {
   "attachments": {},
   "cell_type": "markdown",
   "metadata": {},
   "source": [
    "In this notebook we will be fitting a random forest to our model. We will proceed with the same filters as done in our Logistic model (minimum minutes played and games played)"
   ]
  },
  {
   "attachments": {},
   "cell_type": "markdown",
   "metadata": {},
   "source": [
    "# Model"
   ]
  },
  {
   "attachments": {},
   "cell_type": "markdown",
   "metadata": {},
   "source": [
    "A random forest is considered an \"Ensemble\" Model. These types of models take in a large number of different models that are performing slightly better than chance, and then combine them into a stronger model. For a random forest, this means that `n-estimator` total decision trees are created, then their results are combined (by  picking the result the majority of trees agree with). Each tree is trained on random subsets of the data, with random subsets of the features."
   ]
  },
  {
   "attachments": {},
   "cell_type": "markdown",
   "metadata": {},
   "source": [
    "This also begs the question, why do these models work? We can consider a simple example, where we can imagine that we have a `n` total models that predict the correct results, say 51% of the time. If we assume each model is independent in their predictions, then we can utilize a bernoulli model and apply the law of large numbers. In simpler terms, we can imagine every model is like a coin flip, where the true result is a heads (with 51% chance), and the incorrect result is tails (49%). If we consider an ensemble of 10 models, then we will simply consider how many heads we have vs tails. If we have more heads, we pick that result, and more tails we pick the other result. Clearly, this will lead to quite a bit of variance in our results, and we will often pick the wrong result. But imagine we are flipping 1000 coins, or even 100000 coins. We see that we will have, with probability approaching 1, that as our number of models grow, the number of heads will be greater than the number of tails. In our case, the independence assumption is violated since we utilize the same data, however, we can still yield good results even without this assumption. "
   ]
  },
  {
   "cell_type": "code",
   "execution_count": 5,
   "metadata": {},
   "outputs": [],
   "source": [
    "import pandas as pd\n",
    "import numpy as np"
   ]
  },
  {
   "cell_type": "code",
   "execution_count": 6,
   "metadata": {},
   "outputs": [],
   "source": [
    "nba_train = pd.read_csv('Data_Scripting_Cleaning/Full_data/Training_Sets/nba_train.csv')\n",
    "nba_test = pd.read_csv('Data_Scripting_Cleaning/Full_data/Test_Sets/nba_test.csv')\n"
   ]
  },
  {
   "cell_type": "code",
   "execution_count": 7,
   "metadata": {},
   "outputs": [],
   "source": [
    "min_minutes = nba_train[(nba_train['all_nba_c_year']==1)].MP.min()\n",
    "min_G = nba_train[(nba_train['all_nba_c_year']==1)].G.min()\n",
    "nba_filt_train = nba_train[(nba_train['MP']>=min_minutes) & (nba_train['G']>=min_G)]\n",
    "nba_filt_test = nba_test[(nba_test['MP']>=min_minutes) & (nba_test['G']>=min_G)]\n",
    "\n",
    "y_train = nba_filt_train['all_nba_c_year']\n",
    "\n",
    "y_test = nba_filt_test['all_nba_c_year']"
   ]
  },
  {
   "attachments": {},
   "cell_type": "markdown",
   "metadata": {},
   "source": [
    "### Fitting the Model"
   ]
  },
  {
   "attachments": {},
   "cell_type": "markdown",
   "metadata": {},
   "source": [
    "To fit this model we will consider a grid of hyper-parameters. Since this grid is quite large (7200), we will utilize a randomized search where we consider 500 random subsets of the hyper-parameters.\n",
    "\n",
    "We can also consider what these hyper-parameters mean.\n",
    "1) n_estimators: How many decision trees will be created in total\n",
    "2) max_depth: The longest path between the root node and the leaf. This is essentially controlling how many splits are allowed.\n",
    "3) min_samples_lead: Minimum number of samples to required for a leaf node. This determines how specific a leaf can be.\n",
    "4) min_samples_split: Minimum number of samples a node must have for it to be split\n",
    "5) max_features: Maximum number features randomly selected for each tree."
   ]
  },
  {
   "cell_type": "code",
   "execution_count": 8,
   "metadata": {},
   "outputs": [
    {
     "data": {
      "text/html": [
       "<style>#sk-container-id-1 {color: black;background-color: white;}#sk-container-id-1 pre{padding: 0;}#sk-container-id-1 div.sk-toggleable {background-color: white;}#sk-container-id-1 label.sk-toggleable__label {cursor: pointer;display: block;width: 100%;margin-bottom: 0;padding: 0.3em;box-sizing: border-box;text-align: center;}#sk-container-id-1 label.sk-toggleable__label-arrow:before {content: \"▸\";float: left;margin-right: 0.25em;color: #696969;}#sk-container-id-1 label.sk-toggleable__label-arrow:hover:before {color: black;}#sk-container-id-1 div.sk-estimator:hover label.sk-toggleable__label-arrow:before {color: black;}#sk-container-id-1 div.sk-toggleable__content {max-height: 0;max-width: 0;overflow: hidden;text-align: left;background-color: #f0f8ff;}#sk-container-id-1 div.sk-toggleable__content pre {margin: 0.2em;color: black;border-radius: 0.25em;background-color: #f0f8ff;}#sk-container-id-1 input.sk-toggleable__control:checked~div.sk-toggleable__content {max-height: 200px;max-width: 100%;overflow: auto;}#sk-container-id-1 input.sk-toggleable__control:checked~label.sk-toggleable__label-arrow:before {content: \"▾\";}#sk-container-id-1 div.sk-estimator input.sk-toggleable__control:checked~label.sk-toggleable__label {background-color: #d4ebff;}#sk-container-id-1 div.sk-label input.sk-toggleable__control:checked~label.sk-toggleable__label {background-color: #d4ebff;}#sk-container-id-1 input.sk-hidden--visually {border: 0;clip: rect(1px 1px 1px 1px);clip: rect(1px, 1px, 1px, 1px);height: 1px;margin: -1px;overflow: hidden;padding: 0;position: absolute;width: 1px;}#sk-container-id-1 div.sk-estimator {font-family: monospace;background-color: #f0f8ff;border: 1px dotted black;border-radius: 0.25em;box-sizing: border-box;margin-bottom: 0.5em;}#sk-container-id-1 div.sk-estimator:hover {background-color: #d4ebff;}#sk-container-id-1 div.sk-parallel-item::after {content: \"\";width: 100%;border-bottom: 1px solid gray;flex-grow: 1;}#sk-container-id-1 div.sk-label:hover label.sk-toggleable__label {background-color: #d4ebff;}#sk-container-id-1 div.sk-serial::before {content: \"\";position: absolute;border-left: 1px solid gray;box-sizing: border-box;top: 0;bottom: 0;left: 50%;z-index: 0;}#sk-container-id-1 div.sk-serial {display: flex;flex-direction: column;align-items: center;background-color: white;padding-right: 0.2em;padding-left: 0.2em;position: relative;}#sk-container-id-1 div.sk-item {position: relative;z-index: 1;}#sk-container-id-1 div.sk-parallel {display: flex;align-items: stretch;justify-content: center;background-color: white;position: relative;}#sk-container-id-1 div.sk-item::before, #sk-container-id-1 div.sk-parallel-item::before {content: \"\";position: absolute;border-left: 1px solid gray;box-sizing: border-box;top: 0;bottom: 0;left: 50%;z-index: -1;}#sk-container-id-1 div.sk-parallel-item {display: flex;flex-direction: column;z-index: 1;position: relative;background-color: white;}#sk-container-id-1 div.sk-parallel-item:first-child::after {align-self: flex-end;width: 50%;}#sk-container-id-1 div.sk-parallel-item:last-child::after {align-self: flex-start;width: 50%;}#sk-container-id-1 div.sk-parallel-item:only-child::after {width: 0;}#sk-container-id-1 div.sk-dashed-wrapped {border: 1px dashed gray;margin: 0 0.4em 0.5em 0.4em;box-sizing: border-box;padding-bottom: 0.4em;background-color: white;}#sk-container-id-1 div.sk-label label {font-family: monospace;font-weight: bold;display: inline-block;line-height: 1.2em;}#sk-container-id-1 div.sk-label-container {text-align: center;}#sk-container-id-1 div.sk-container {/* jupyter's `normalize.less` sets `[hidden] { display: none; }` but bootstrap.min.css set `[hidden] { display: none !important; }` so we also need the `!important` here to be able to override the default hidden behavior on the sphinx rendered scikit-learn.org. See: https://github.com/scikit-learn/scikit-learn/issues/21755 */display: inline-block !important;position: relative;}#sk-container-id-1 div.sk-text-repr-fallback {display: none;}</style><div id=\"sk-container-id-1\" class=\"sk-top-container\"><div class=\"sk-text-repr-fallback\"><pre>ColumnTransformer(transformers=[(&#x27;select&#x27;, &#x27;passthrough&#x27;,\n",
       "                                 [&#x27;Age&#x27;, &#x27;G&#x27;, &#x27;GS&#x27;, &#x27;MP&#x27;, &#x27;FG&#x27;, &#x27;FGA&#x27;, &#x27;FG%&#x27;,\n",
       "                                  &#x27;3P&#x27;, &#x27;3PA&#x27;, &#x27;3P%&#x27;, &#x27;2P&#x27;, &#x27;2PA&#x27;, &#x27;2P%&#x27;,\n",
       "                                  &#x27;eFG%&#x27;, &#x27;FT&#x27;, &#x27;FTA&#x27;, &#x27;FT%&#x27;, &#x27;ORB&#x27;, &#x27;DRB&#x27;,\n",
       "                                  &#x27;TRB&#x27;, &#x27;AST&#x27;, &#x27;STL&#x27;, &#x27;BLK&#x27;, &#x27;TOV&#x27;, &#x27;PF&#x27;,\n",
       "                                  &#x27;PTS&#x27;, &#x27;PER&#x27;, &#x27;TS%&#x27;, &#x27;3PAr&#x27;, &#x27;FTr&#x27;, ...]),\n",
       "                                (&#x27;ohe&#x27;, OneHotEncoder(handle_unknown=&#x27;ignore&#x27;),\n",
       "                                 [&#x27;Tm&#x27;])])</pre><b>In a Jupyter environment, please rerun this cell to show the HTML representation or trust the notebook. <br />On GitHub, the HTML representation is unable to render, please try loading this page with nbviewer.org.</b></div><div class=\"sk-container\" hidden><div class=\"sk-item sk-dashed-wrapped\"><div class=\"sk-label-container\"><div class=\"sk-label sk-toggleable\"><input class=\"sk-toggleable__control sk-hidden--visually\" id=\"sk-estimator-id-1\" type=\"checkbox\" ><label for=\"sk-estimator-id-1\" class=\"sk-toggleable__label sk-toggleable__label-arrow\">ColumnTransformer</label><div class=\"sk-toggleable__content\"><pre>ColumnTransformer(transformers=[(&#x27;select&#x27;, &#x27;passthrough&#x27;,\n",
       "                                 [&#x27;Age&#x27;, &#x27;G&#x27;, &#x27;GS&#x27;, &#x27;MP&#x27;, &#x27;FG&#x27;, &#x27;FGA&#x27;, &#x27;FG%&#x27;,\n",
       "                                  &#x27;3P&#x27;, &#x27;3PA&#x27;, &#x27;3P%&#x27;, &#x27;2P&#x27;, &#x27;2PA&#x27;, &#x27;2P%&#x27;,\n",
       "                                  &#x27;eFG%&#x27;, &#x27;FT&#x27;, &#x27;FTA&#x27;, &#x27;FT%&#x27;, &#x27;ORB&#x27;, &#x27;DRB&#x27;,\n",
       "                                  &#x27;TRB&#x27;, &#x27;AST&#x27;, &#x27;STL&#x27;, &#x27;BLK&#x27;, &#x27;TOV&#x27;, &#x27;PF&#x27;,\n",
       "                                  &#x27;PTS&#x27;, &#x27;PER&#x27;, &#x27;TS%&#x27;, &#x27;3PAr&#x27;, &#x27;FTr&#x27;, ...]),\n",
       "                                (&#x27;ohe&#x27;, OneHotEncoder(handle_unknown=&#x27;ignore&#x27;),\n",
       "                                 [&#x27;Tm&#x27;])])</pre></div></div></div><div class=\"sk-parallel\"><div class=\"sk-parallel-item\"><div class=\"sk-item\"><div class=\"sk-label-container\"><div class=\"sk-label sk-toggleable\"><input class=\"sk-toggleable__control sk-hidden--visually\" id=\"sk-estimator-id-2\" type=\"checkbox\" ><label for=\"sk-estimator-id-2\" class=\"sk-toggleable__label sk-toggleable__label-arrow\">select</label><div class=\"sk-toggleable__content\"><pre>[&#x27;Age&#x27;, &#x27;G&#x27;, &#x27;GS&#x27;, &#x27;MP&#x27;, &#x27;FG&#x27;, &#x27;FGA&#x27;, &#x27;FG%&#x27;, &#x27;3P&#x27;, &#x27;3PA&#x27;, &#x27;3P%&#x27;, &#x27;2P&#x27;, &#x27;2PA&#x27;, &#x27;2P%&#x27;, &#x27;eFG%&#x27;, &#x27;FT&#x27;, &#x27;FTA&#x27;, &#x27;FT%&#x27;, &#x27;ORB&#x27;, &#x27;DRB&#x27;, &#x27;TRB&#x27;, &#x27;AST&#x27;, &#x27;STL&#x27;, &#x27;BLK&#x27;, &#x27;TOV&#x27;, &#x27;PF&#x27;, &#x27;PTS&#x27;, &#x27;PER&#x27;, &#x27;TS%&#x27;, &#x27;3PAr&#x27;, &#x27;FTr&#x27;, &#x27;ORB%&#x27;, &#x27;DRB%&#x27;, &#x27;TRB%&#x27;, &#x27;AST%&#x27;, &#x27;STL%&#x27;, &#x27;BLK%&#x27;, &#x27;TOV%&#x27;, &#x27;USG%&#x27;, &#x27;OWS&#x27;, &#x27;DWS&#x27;, &#x27;WS&#x27;, &#x27;WS/48&#x27;, &#x27;OBPM&#x27;, &#x27;DBPM&#x27;, &#x27;BPM&#x27;, &#x27;VORP&#x27;, &#x27;W&#x27;, &#x27;num_all_nba&#x27;]</pre></div></div></div><div class=\"sk-serial\"><div class=\"sk-item\"><div class=\"sk-estimator sk-toggleable\"><input class=\"sk-toggleable__control sk-hidden--visually\" id=\"sk-estimator-id-3\" type=\"checkbox\" ><label for=\"sk-estimator-id-3\" class=\"sk-toggleable__label sk-toggleable__label-arrow\">passthrough</label><div class=\"sk-toggleable__content\"><pre>passthrough</pre></div></div></div></div></div></div><div class=\"sk-parallel-item\"><div class=\"sk-item\"><div class=\"sk-label-container\"><div class=\"sk-label sk-toggleable\"><input class=\"sk-toggleable__control sk-hidden--visually\" id=\"sk-estimator-id-4\" type=\"checkbox\" ><label for=\"sk-estimator-id-4\" class=\"sk-toggleable__label sk-toggleable__label-arrow\">ohe</label><div class=\"sk-toggleable__content\"><pre>[&#x27;Tm&#x27;]</pre></div></div></div><div class=\"sk-serial\"><div class=\"sk-item\"><div class=\"sk-estimator sk-toggleable\"><input class=\"sk-toggleable__control sk-hidden--visually\" id=\"sk-estimator-id-5\" type=\"checkbox\" ><label for=\"sk-estimator-id-5\" class=\"sk-toggleable__label sk-toggleable__label-arrow\">OneHotEncoder</label><div class=\"sk-toggleable__content\"><pre>OneHotEncoder(handle_unknown=&#x27;ignore&#x27;)</pre></div></div></div></div></div></div></div></div></div></div>"
      ],
      "text/plain": [
       "ColumnTransformer(transformers=[('select', 'passthrough',\n",
       "                                 ['Age', 'G', 'GS', 'MP', 'FG', 'FGA', 'FG%',\n",
       "                                  '3P', '3PA', '3P%', '2P', '2PA', '2P%',\n",
       "                                  'eFG%', 'FT', 'FTA', 'FT%', 'ORB', 'DRB',\n",
       "                                  'TRB', 'AST', 'STL', 'BLK', 'TOV', 'PF',\n",
       "                                  'PTS', 'PER', 'TS%', '3PAr', 'FTr', ...]),\n",
       "                                ('ohe', OneHotEncoder(handle_unknown='ignore'),\n",
       "                                 ['Tm'])])"
      ]
     },
     "execution_count": 8,
     "metadata": {},
     "output_type": "execute_result"
    }
   ],
   "source": [
    "from sklearn.compose import ColumnTransformer\n",
    "from sklearn.pipeline import Pipeline\n",
    "from sklearn.preprocessing import StandardScaler, OneHotEncoder\n",
    "\n",
    "#Now we will fit a random forest model to the data. We will fit this data into a pipeline to scale the data and then fit the model.\n",
    "\n",
    "num_features = ['Age','G', 'GS', 'MP', 'FG', 'FGA', 'FG%', '3P', '3PA', '3P%',\n",
    "       '2P', '2PA', '2P%', 'eFG%', 'FT', 'FTA', 'FT%', 'ORB', 'DRB', 'TRB',\n",
    "       'AST', 'STL', 'BLK', 'TOV', 'PF', 'PTS', 'PER', 'TS%', '3PAr', 'FTr',\n",
    "       'ORB%', 'DRB%', 'TRB%', 'AST%', 'STL%', 'BLK%', 'TOV%', 'USG%', 'OWS',\n",
    "       'DWS', 'WS', 'WS/48', 'OBPM', 'DBPM', 'BPM', 'VORP', 'W',\n",
    "       'num_all_nba']\n",
    "cat_features = ['Tm']\n",
    "\n",
    "\n",
    "preprocessor = ColumnTransformer(\n",
    "    [(\"select\", \"passthrough\", num_features),\n",
    "     (\"ohe\", OneHotEncoder(handle_unknown=\"ignore\"), cat_features)],\n",
    "     remainder=\"drop\"\n",
    ")\n",
    "\n",
    "preprocessor.fit(nba_filt_train)"
   ]
  },
  {
   "cell_type": "code",
   "execution_count": 9,
   "metadata": {},
   "outputs": [],
   "source": [
    "X_train = pd.DataFrame(preprocessor.transform(nba_filt_train), columns = preprocessor.get_feature_names_out())\n",
    "X_test = pd.DataFrame(preprocessor.transform(nba_filt_test), columns = preprocessor.get_feature_names_out())"
   ]
  },
  {
   "cell_type": "code",
   "execution_count": 6,
   "metadata": {},
   "outputs": [
    {
     "data": {
      "text/html": [
       "<style>#sk-container-id-2 {color: black;background-color: white;}#sk-container-id-2 pre{padding: 0;}#sk-container-id-2 div.sk-toggleable {background-color: white;}#sk-container-id-2 label.sk-toggleable__label {cursor: pointer;display: block;width: 100%;margin-bottom: 0;padding: 0.3em;box-sizing: border-box;text-align: center;}#sk-container-id-2 label.sk-toggleable__label-arrow:before {content: \"▸\";float: left;margin-right: 0.25em;color: #696969;}#sk-container-id-2 label.sk-toggleable__label-arrow:hover:before {color: black;}#sk-container-id-2 div.sk-estimator:hover label.sk-toggleable__label-arrow:before {color: black;}#sk-container-id-2 div.sk-toggleable__content {max-height: 0;max-width: 0;overflow: hidden;text-align: left;background-color: #f0f8ff;}#sk-container-id-2 div.sk-toggleable__content pre {margin: 0.2em;color: black;border-radius: 0.25em;background-color: #f0f8ff;}#sk-container-id-2 input.sk-toggleable__control:checked~div.sk-toggleable__content {max-height: 200px;max-width: 100%;overflow: auto;}#sk-container-id-2 input.sk-toggleable__control:checked~label.sk-toggleable__label-arrow:before {content: \"▾\";}#sk-container-id-2 div.sk-estimator input.sk-toggleable__control:checked~label.sk-toggleable__label {background-color: #d4ebff;}#sk-container-id-2 div.sk-label input.sk-toggleable__control:checked~label.sk-toggleable__label {background-color: #d4ebff;}#sk-container-id-2 input.sk-hidden--visually {border: 0;clip: rect(1px 1px 1px 1px);clip: rect(1px, 1px, 1px, 1px);height: 1px;margin: -1px;overflow: hidden;padding: 0;position: absolute;width: 1px;}#sk-container-id-2 div.sk-estimator {font-family: monospace;background-color: #f0f8ff;border: 1px dotted black;border-radius: 0.25em;box-sizing: border-box;margin-bottom: 0.5em;}#sk-container-id-2 div.sk-estimator:hover {background-color: #d4ebff;}#sk-container-id-2 div.sk-parallel-item::after {content: \"\";width: 100%;border-bottom: 1px solid gray;flex-grow: 1;}#sk-container-id-2 div.sk-label:hover label.sk-toggleable__label {background-color: #d4ebff;}#sk-container-id-2 div.sk-serial::before {content: \"\";position: absolute;border-left: 1px solid gray;box-sizing: border-box;top: 0;bottom: 0;left: 50%;z-index: 0;}#sk-container-id-2 div.sk-serial {display: flex;flex-direction: column;align-items: center;background-color: white;padding-right: 0.2em;padding-left: 0.2em;position: relative;}#sk-container-id-2 div.sk-item {position: relative;z-index: 1;}#sk-container-id-2 div.sk-parallel {display: flex;align-items: stretch;justify-content: center;background-color: white;position: relative;}#sk-container-id-2 div.sk-item::before, #sk-container-id-2 div.sk-parallel-item::before {content: \"\";position: absolute;border-left: 1px solid gray;box-sizing: border-box;top: 0;bottom: 0;left: 50%;z-index: -1;}#sk-container-id-2 div.sk-parallel-item {display: flex;flex-direction: column;z-index: 1;position: relative;background-color: white;}#sk-container-id-2 div.sk-parallel-item:first-child::after {align-self: flex-end;width: 50%;}#sk-container-id-2 div.sk-parallel-item:last-child::after {align-self: flex-start;width: 50%;}#sk-container-id-2 div.sk-parallel-item:only-child::after {width: 0;}#sk-container-id-2 div.sk-dashed-wrapped {border: 1px dashed gray;margin: 0 0.4em 0.5em 0.4em;box-sizing: border-box;padding-bottom: 0.4em;background-color: white;}#sk-container-id-2 div.sk-label label {font-family: monospace;font-weight: bold;display: inline-block;line-height: 1.2em;}#sk-container-id-2 div.sk-label-container {text-align: center;}#sk-container-id-2 div.sk-container {/* jupyter's `normalize.less` sets `[hidden] { display: none; }` but bootstrap.min.css set `[hidden] { display: none !important; }` so we also need the `!important` here to be able to override the default hidden behavior on the sphinx rendered scikit-learn.org. See: https://github.com/scikit-learn/scikit-learn/issues/21755 */display: inline-block !important;position: relative;}#sk-container-id-2 div.sk-text-repr-fallback {display: none;}</style><div id=\"sk-container-id-2\" class=\"sk-top-container\"><div class=\"sk-text-repr-fallback\"><pre>RandomizedSearchCV(cv=5, estimator=RandomForestClassifier(random_state=0),\n",
       "                   n_iter=500,\n",
       "                   param_distributions={&#x27;max_depth&#x27;: [5, 10, 15, 20, 25],\n",
       "                                        &#x27;max_features&#x27;: [&#x27;sqrt&#x27;, &#x27;log2&#x27;, 0.2,\n",
       "                                                         0.4],\n",
       "                                        &#x27;min_samples_leaf&#x27;: [1, 2, 5, 10, 15,\n",
       "                                                             20],\n",
       "                                        &#x27;min_samples_split&#x27;: [2, 5, 10, 15, 20,\n",
       "                                                              25, 30, 40],\n",
       "                                        &#x27;n_estimators&#x27;: [100, 200, 300, 400,\n",
       "                                                         500]},\n",
       "                   random_state=0)</pre><b>In a Jupyter environment, please rerun this cell to show the HTML representation or trust the notebook. <br />On GitHub, the HTML representation is unable to render, please try loading this page with nbviewer.org.</b></div><div class=\"sk-container\" hidden><div class=\"sk-item sk-dashed-wrapped\"><div class=\"sk-label-container\"><div class=\"sk-label sk-toggleable\"><input class=\"sk-toggleable__control sk-hidden--visually\" id=\"sk-estimator-id-6\" type=\"checkbox\" ><label for=\"sk-estimator-id-6\" class=\"sk-toggleable__label sk-toggleable__label-arrow\">RandomizedSearchCV</label><div class=\"sk-toggleable__content\"><pre>RandomizedSearchCV(cv=5, estimator=RandomForestClassifier(random_state=0),\n",
       "                   n_iter=500,\n",
       "                   param_distributions={&#x27;max_depth&#x27;: [5, 10, 15, 20, 25],\n",
       "                                        &#x27;max_features&#x27;: [&#x27;sqrt&#x27;, &#x27;log2&#x27;, 0.2,\n",
       "                                                         0.4],\n",
       "                                        &#x27;min_samples_leaf&#x27;: [1, 2, 5, 10, 15,\n",
       "                                                             20],\n",
       "                                        &#x27;min_samples_split&#x27;: [2, 5, 10, 15, 20,\n",
       "                                                              25, 30, 40],\n",
       "                                        &#x27;n_estimators&#x27;: [100, 200, 300, 400,\n",
       "                                                         500]},\n",
       "                   random_state=0)</pre></div></div></div><div class=\"sk-parallel\"><div class=\"sk-parallel-item\"><div class=\"sk-item\"><div class=\"sk-label-container\"><div class=\"sk-label sk-toggleable\"><input class=\"sk-toggleable__control sk-hidden--visually\" id=\"sk-estimator-id-7\" type=\"checkbox\" ><label for=\"sk-estimator-id-7\" class=\"sk-toggleable__label sk-toggleable__label-arrow\">estimator: RandomForestClassifier</label><div class=\"sk-toggleable__content\"><pre>RandomForestClassifier(random_state=0)</pre></div></div></div><div class=\"sk-serial\"><div class=\"sk-item\"><div class=\"sk-estimator sk-toggleable\"><input class=\"sk-toggleable__control sk-hidden--visually\" id=\"sk-estimator-id-8\" type=\"checkbox\" ><label for=\"sk-estimator-id-8\" class=\"sk-toggleable__label sk-toggleable__label-arrow\">RandomForestClassifier</label><div class=\"sk-toggleable__content\"><pre>RandomForestClassifier(random_state=0)</pre></div></div></div></div></div></div></div></div></div></div>"
      ],
      "text/plain": [
       "RandomizedSearchCV(cv=5, estimator=RandomForestClassifier(random_state=0),\n",
       "                   n_iter=500,\n",
       "                   param_distributions={'max_depth': [5, 10, 15, 20, 25],\n",
       "                                        'max_features': ['sqrt', 'log2', 0.2,\n",
       "                                                         0.4],\n",
       "                                        'min_samples_leaf': [1, 2, 5, 10, 15,\n",
       "                                                             20],\n",
       "                                        'min_samples_split': [2, 5, 10, 15, 20,\n",
       "                                                              25, 30, 40],\n",
       "                                        'n_estimators': [100, 200, 300, 400,\n",
       "                                                         500]},\n",
       "                   random_state=0)"
      ]
     },
     "execution_count": 6,
     "metadata": {},
     "output_type": "execute_result"
    }
   ],
   "source": [
    "#Now we can fit our Random Forest model to the data.\n",
    "from sklearn.ensemble import RandomForestClassifier\n",
    "from sklearn.model_selection import GridSearchCV\n",
    "from sklearn.model_selection import RandomizedSearchCV\n",
    "rf = RandomForestClassifier(random_state=0)\n",
    "param_grid = {\n",
    "   'n_estimators': [100, 200, 300, 400, 500],\n",
    "   'max_depth': [5, 10, 15, 20, 25],\n",
    "   'min_samples_split': [2, 5, 10, 15, 20, 25, 30, 40],\n",
    "   'min_samples_leaf': [1, 2, 5, 10, 15, 20],\n",
    "   'max_features': [ 'sqrt', 'log2', 0.2, .4]\n",
    "}\n",
    "\n",
    "\n",
    "CV_rfc = RandomizedSearchCV(estimator=rf, param_distributions=param_grid, cv= 5,\n",
    "                            random_state=0, n_iter=500)\n",
    "CV_rfc.fit(X_train, y_train)\n"
   ]
  },
  {
   "cell_type": "code",
   "execution_count": 2,
   "metadata": {},
   "outputs": [
    {
     "ename": "NameError",
     "evalue": "name 'CV_rfc' is not defined",
     "output_type": "error",
     "traceback": [
      "\u001b[0;31m---------------------------------------------------------------------------\u001b[0m",
      "\u001b[0;31mNameError\u001b[0m                                 Traceback (most recent call last)",
      "Cell \u001b[0;32mIn[2], line 1\u001b[0m\n\u001b[0;32m----> 1\u001b[0m CV_rfc\u001b[39m.\u001b[39mbest_params_\n\u001b[1;32m      3\u001b[0m rf_mod \u001b[39m=\u001b[39m RandomForestClassifier(random_state\u001b[39m=\u001b[39m\u001b[39m0\u001b[39m, n_estimators\u001b[39m=\u001b[39m \u001b[39m100\u001b[39m, min_samples_split\u001b[39m=\u001b[39m \u001b[39m25\u001b[39m, min_samples_leaf\u001b[39m=\u001b[39m \u001b[39m2\u001b[39m, max_features\u001b[39m=\u001b[39m \u001b[39m.2\u001b[39m, max_depth\u001b[39m=\u001b[39m \u001b[39m25\u001b[39m)\n",
      "\u001b[0;31mNameError\u001b[0m: name 'CV_rfc' is not defined"
     ]
    }
   ],
   "source": [
    "CV_rfc.best_params_\n"
   ]
  },
  {
   "attachments": {},
   "cell_type": "markdown",
   "metadata": {},
   "source": [
    "### Results"
   ]
  },
  {
   "attachments": {},
   "cell_type": "markdown",
   "metadata": {},
   "source": [
    "Now we may look at how our model did on our test set. "
   ]
  },
  {
   "attachments": {},
   "cell_type": "markdown",
   "metadata": {},
   "source": [
    "We see that we have 82% Precision, and 75% recall. This is similar to the results we had from our logistic regression prior. "
   ]
  },
  {
   "cell_type": "code",
   "execution_count": 42,
   "metadata": {},
   "outputs": [
    {
     "name": "stdout",
     "output_type": "stream",
     "text": [
      "              precision    recall  f1-score   support\n",
      "\n",
      " Not All-NBA       0.96      0.98      0.97       819\n",
      "     All-NBA       0.82      0.75      0.78       123\n",
      "\n",
      "    accuracy                           0.95       942\n",
      "   macro avg       0.89      0.86      0.88       942\n",
      "weighted avg       0.94      0.95      0.94       942\n",
      "\n"
     ]
    }
   ],
   "source": [
    "from sklearn.metrics import classification_report\n",
    "print(classification_report(y_test, CV_rfc.predict(X_test), target_names=['Not All-NBA', 'All-NBA']))"
   ]
  },
  {
   "attachments": {},
   "cell_type": "markdown",
   "metadata": {},
   "source": [
    "Looking at our confusion matrix we have the following:"
   ]
  },
  {
   "cell_type": "code",
   "execution_count": 43,
   "metadata": {},
   "outputs": [
    {
     "data": {
      "text/html": [
       "<div>\n",
       "<style scoped>\n",
       "    .dataframe tbody tr th:only-of-type {\n",
       "        vertical-align: middle;\n",
       "    }\n",
       "\n",
       "    .dataframe tbody tr th {\n",
       "        vertical-align: top;\n",
       "    }\n",
       "\n",
       "    .dataframe thead th {\n",
       "        text-align: right;\n",
       "    }\n",
       "</style>\n",
       "<table border=\"1\" class=\"dataframe\">\n",
       "  <thead>\n",
       "    <tr style=\"text-align: right;\">\n",
       "      <th>Predicted</th>\n",
       "      <th>0</th>\n",
       "      <th>1</th>\n",
       "      <th>All</th>\n",
       "    </tr>\n",
       "    <tr>\n",
       "      <th>Actual</th>\n",
       "      <th></th>\n",
       "      <th></th>\n",
       "      <th></th>\n",
       "    </tr>\n",
       "  </thead>\n",
       "  <tbody>\n",
       "    <tr>\n",
       "      <th>0</th>\n",
       "      <td>799</td>\n",
       "      <td>20</td>\n",
       "      <td>819</td>\n",
       "    </tr>\n",
       "    <tr>\n",
       "      <th>1</th>\n",
       "      <td>31</td>\n",
       "      <td>92</td>\n",
       "      <td>123</td>\n",
       "    </tr>\n",
       "    <tr>\n",
       "      <th>All</th>\n",
       "      <td>830</td>\n",
       "      <td>112</td>\n",
       "      <td>942</td>\n",
       "    </tr>\n",
       "  </tbody>\n",
       "</table>\n",
       "</div>"
      ],
      "text/plain": [
       "Predicted    0    1  All\n",
       "Actual                  \n",
       "0          799   20  819\n",
       "1           31   92  123\n",
       "All        830  112  942"
      ]
     },
     "execution_count": 43,
     "metadata": {},
     "output_type": "execute_result"
    }
   ],
   "source": [
    "pd.crosstab(y_test, CV_rfc.predict(X_test), rownames=['Actual'], colnames=['Predicted'], margins=True)"
   ]
  },
  {
   "attachments": {},
   "cell_type": "markdown",
   "metadata": {},
   "source": [
    "We can view our false positives as:"
   ]
  },
  {
   "cell_type": "code",
   "execution_count": 30,
   "metadata": {},
   "outputs": [],
   "source": [
    "#add probabilities to test dataframe\n",
    "nba_test_prob = nba_filt_test.copy()\n",
    "nba_test_prob['prob_all_nba'] = CV_rfc.predict_proba(X_test)[:,1]"
   ]
  },
  {
   "cell_type": "code",
   "execution_count": 31,
   "metadata": {},
   "outputs": [
    {
     "data": {
      "text/html": [
       "<div>\n",
       "<style scoped>\n",
       "    .dataframe tbody tr th:only-of-type {\n",
       "        vertical-align: middle;\n",
       "    }\n",
       "\n",
       "    .dataframe tbody tr th {\n",
       "        vertical-align: top;\n",
       "    }\n",
       "\n",
       "    .dataframe thead th {\n",
       "        text-align: right;\n",
       "    }\n",
       "</style>\n",
       "<table border=\"1\" class=\"dataframe\">\n",
       "  <thead>\n",
       "    <tr style=\"text-align: right;\">\n",
       "      <th></th>\n",
       "      <th>Player</th>\n",
       "      <th>year</th>\n",
       "      <th>num_all_nba</th>\n",
       "      <th>prob_all_nba</th>\n",
       "    </tr>\n",
       "  </thead>\n",
       "  <tbody>\n",
       "    <tr>\n",
       "      <th>463</th>\n",
       "      <td>Ja Morant</td>\n",
       "      <td>2023</td>\n",
       "      <td>1</td>\n",
       "      <td>0.595865</td>\n",
       "    </tr>\n",
       "    <tr>\n",
       "      <th>577</th>\n",
       "      <td>James Harden</td>\n",
       "      <td>2023</td>\n",
       "      <td>7</td>\n",
       "      <td>0.563259</td>\n",
       "    </tr>\n",
       "    <tr>\n",
       "      <th>2591</th>\n",
       "      <td>Kevin Durant</td>\n",
       "      <td>2023</td>\n",
       "      <td>10</td>\n",
       "      <td>0.717942</td>\n",
       "    </tr>\n",
       "    <tr>\n",
       "      <th>3050</th>\n",
       "      <td>Rudy Gobert</td>\n",
       "      <td>2022</td>\n",
       "      <td>4</td>\n",
       "      <td>0.684923</td>\n",
       "    </tr>\n",
       "    <tr>\n",
       "      <th>851</th>\n",
       "      <td>James Harden</td>\n",
       "      <td>2021</td>\n",
       "      <td>7</td>\n",
       "      <td>0.655188</td>\n",
       "    </tr>\n",
       "    <tr>\n",
       "      <th>3168</th>\n",
       "      <td>Joel Embiid</td>\n",
       "      <td>2020</td>\n",
       "      <td>2</td>\n",
       "      <td>0.533650</td>\n",
       "    </tr>\n",
       "    <tr>\n",
       "      <th>3419</th>\n",
       "      <td>Karl-Anthony Towns</td>\n",
       "      <td>2017</td>\n",
       "      <td>0</td>\n",
       "      <td>0.574464</td>\n",
       "    </tr>\n",
       "    <tr>\n",
       "      <th>2983</th>\n",
       "      <td>Pau Gasol</td>\n",
       "      <td>2012</td>\n",
       "      <td>3</td>\n",
       "      <td>0.577528</td>\n",
       "    </tr>\n",
       "    <tr>\n",
       "      <th>2650</th>\n",
       "      <td>Carmelo Anthony</td>\n",
       "      <td>2011</td>\n",
       "      <td>4</td>\n",
       "      <td>0.554912</td>\n",
       "    </tr>\n",
       "    <tr>\n",
       "      <th>1552</th>\n",
       "      <td>Paul Pierce</td>\n",
       "      <td>2011</td>\n",
       "      <td>4</td>\n",
       "      <td>0.640203</td>\n",
       "    </tr>\n",
       "    <tr>\n",
       "      <th>2849</th>\n",
       "      <td>Carlos Boozer</td>\n",
       "      <td>2010</td>\n",
       "      <td>1</td>\n",
       "      <td>0.581386</td>\n",
       "    </tr>\n",
       "    <tr>\n",
       "      <th>2944</th>\n",
       "      <td>Carmelo Anthony</td>\n",
       "      <td>2008</td>\n",
       "      <td>2</td>\n",
       "      <td>0.509595</td>\n",
       "    </tr>\n",
       "    <tr>\n",
       "      <th>1152</th>\n",
       "      <td>Chauncey Billups</td>\n",
       "      <td>2008</td>\n",
       "      <td>2</td>\n",
       "      <td>0.803494</td>\n",
       "    </tr>\n",
       "    <tr>\n",
       "      <th>1951</th>\n",
       "      <td>Andrei Kirilenko</td>\n",
       "      <td>2004</td>\n",
       "      <td>0</td>\n",
       "      <td>0.581611</td>\n",
       "    </tr>\n",
       "    <tr>\n",
       "      <th>2347</th>\n",
       "      <td>Elton Brand</td>\n",
       "      <td>2002</td>\n",
       "      <td>0</td>\n",
       "      <td>0.536571</td>\n",
       "    </tr>\n",
       "    <tr>\n",
       "      <th>1250</th>\n",
       "      <td>John Stockton</td>\n",
       "      <td>2000</td>\n",
       "      <td>11</td>\n",
       "      <td>0.559754</td>\n",
       "    </tr>\n",
       "    <tr>\n",
       "      <th>3326</th>\n",
       "      <td>Shaquille O'Neal</td>\n",
       "      <td>1993</td>\n",
       "      <td>0</td>\n",
       "      <td>0.631352</td>\n",
       "    </tr>\n",
       "    <tr>\n",
       "      <th>1803</th>\n",
       "      <td>Horace Grant</td>\n",
       "      <td>1992</td>\n",
       "      <td>0</td>\n",
       "      <td>0.565560</td>\n",
       "    </tr>\n",
       "    <tr>\n",
       "      <th>2755</th>\n",
       "      <td>Marques Johnson</td>\n",
       "      <td>1983</td>\n",
       "      <td>2</td>\n",
       "      <td>0.799041</td>\n",
       "    </tr>\n",
       "    <tr>\n",
       "      <th>1642</th>\n",
       "      <td>Kiki Vandeweghe</td>\n",
       "      <td>1983</td>\n",
       "      <td>0</td>\n",
       "      <td>0.534578</td>\n",
       "    </tr>\n",
       "  </tbody>\n",
       "</table>\n",
       "</div>"
      ],
      "text/plain": [
       "                  Player  year  num_all_nba  prob_all_nba\n",
       "463            Ja Morant  2023            1      0.595865\n",
       "577         James Harden  2023            7      0.563259\n",
       "2591        Kevin Durant  2023           10      0.717942\n",
       "3050         Rudy Gobert  2022            4      0.684923\n",
       "851         James Harden  2021            7      0.655188\n",
       "3168         Joel Embiid  2020            2      0.533650\n",
       "3419  Karl-Anthony Towns  2017            0      0.574464\n",
       "2983           Pau Gasol  2012            3      0.577528\n",
       "2650     Carmelo Anthony  2011            4      0.554912\n",
       "1552         Paul Pierce  2011            4      0.640203\n",
       "2849       Carlos Boozer  2010            1      0.581386\n",
       "2944     Carmelo Anthony  2008            2      0.509595\n",
       "1152    Chauncey Billups  2008            2      0.803494\n",
       "1951    Andrei Kirilenko  2004            0      0.581611\n",
       "2347         Elton Brand  2002            0      0.536571\n",
       "1250       John Stockton  2000           11      0.559754\n",
       "3326    Shaquille O'Neal  1993            0      0.631352\n",
       "1803        Horace Grant  1992            0      0.565560\n",
       "2755     Marques Johnson  1983            2      0.799041\n",
       "1642     Kiki Vandeweghe  1983            0      0.534578"
      ]
     },
     "execution_count": 31,
     "metadata": {},
     "output_type": "execute_result"
    }
   ],
   "source": [
    "#False Positives\n",
    "nba_test_prob[(CV_rfc.predict(X_test)==1) & (y_test==0)][['Player','year','num_all_nba','prob_all_nba']].sort_values(by='year', ascending=False)"
   ]
  },
  {
   "attachments": {},
   "cell_type": "markdown",
   "metadata": {},
   "source": [
    "For our False negatives we have:"
   ]
  },
  {
   "cell_type": "code",
   "execution_count": 32,
   "metadata": {},
   "outputs": [
    {
     "data": {
      "text/html": [
       "<div>\n",
       "<style scoped>\n",
       "    .dataframe tbody tr th:only-of-type {\n",
       "        vertical-align: middle;\n",
       "    }\n",
       "\n",
       "    .dataframe tbody tr th {\n",
       "        vertical-align: top;\n",
       "    }\n",
       "\n",
       "    .dataframe thead th {\n",
       "        text-align: right;\n",
       "    }\n",
       "</style>\n",
       "<table border=\"1\" class=\"dataframe\">\n",
       "  <thead>\n",
       "    <tr style=\"text-align: right;\">\n",
       "      <th></th>\n",
       "      <th>Player</th>\n",
       "      <th>year</th>\n",
       "      <th>num_all_nba</th>\n",
       "      <th>prob_all_nba</th>\n",
       "    </tr>\n",
       "  </thead>\n",
       "  <tbody>\n",
       "    <tr>\n",
       "      <th>397</th>\n",
       "      <td>Chris Paul</td>\n",
       "      <td>2021</td>\n",
       "      <td>9</td>\n",
       "      <td>0.492275</td>\n",
       "    </tr>\n",
       "    <tr>\n",
       "      <th>1446</th>\n",
       "      <td>Ben Simmons</td>\n",
       "      <td>2020</td>\n",
       "      <td>0</td>\n",
       "      <td>0.087168</td>\n",
       "    </tr>\n",
       "    <tr>\n",
       "      <th>2359</th>\n",
       "      <td>Pascal Siakam</td>\n",
       "      <td>2020</td>\n",
       "      <td>0</td>\n",
       "      <td>0.291353</td>\n",
       "    </tr>\n",
       "    <tr>\n",
       "      <th>3377</th>\n",
       "      <td>Joel Embiid</td>\n",
       "      <td>2018</td>\n",
       "      <td>0</td>\n",
       "      <td>0.413873</td>\n",
       "    </tr>\n",
       "    <tr>\n",
       "      <th>2491</th>\n",
       "      <td>Draymond Green</td>\n",
       "      <td>2017</td>\n",
       "      <td>1</td>\n",
       "      <td>0.324777</td>\n",
       "    </tr>\n",
       "    <tr>\n",
       "      <th>3358</th>\n",
       "      <td>Dwight Howard</td>\n",
       "      <td>2014</td>\n",
       "      <td>7</td>\n",
       "      <td>0.229850</td>\n",
       "    </tr>\n",
       "    <tr>\n",
       "      <th>495</th>\n",
       "      <td>Tony Parker</td>\n",
       "      <td>2012</td>\n",
       "      <td>1</td>\n",
       "      <td>0.410776</td>\n",
       "    </tr>\n",
       "    <tr>\n",
       "      <th>2448</th>\n",
       "      <td>Paul Pierce</td>\n",
       "      <td>2009</td>\n",
       "      <td>3</td>\n",
       "      <td>0.280721</td>\n",
       "    </tr>\n",
       "    <tr>\n",
       "      <th>1010</th>\n",
       "      <td>Chauncey Billups</td>\n",
       "      <td>2009</td>\n",
       "      <td>2</td>\n",
       "      <td>0.178562</td>\n",
       "    </tr>\n",
       "    <tr>\n",
       "      <th>3005</th>\n",
       "      <td>Shaquille O'Neal</td>\n",
       "      <td>2009</td>\n",
       "      <td>13</td>\n",
       "      <td>0.119555</td>\n",
       "    </tr>\n",
       "    <tr>\n",
       "      <th>3312</th>\n",
       "      <td>Ben Wallace</td>\n",
       "      <td>2006</td>\n",
       "      <td>4</td>\n",
       "      <td>0.249529</td>\n",
       "    </tr>\n",
       "    <tr>\n",
       "      <th>3067</th>\n",
       "      <td>Yao Ming</td>\n",
       "      <td>2004</td>\n",
       "      <td>0</td>\n",
       "      <td>0.417355</td>\n",
       "    </tr>\n",
       "    <tr>\n",
       "      <th>1093</th>\n",
       "      <td>Stephon Marbury</td>\n",
       "      <td>2003</td>\n",
       "      <td>1</td>\n",
       "      <td>0.317895</td>\n",
       "    </tr>\n",
       "    <tr>\n",
       "      <th>1862</th>\n",
       "      <td>Jermaine O'Neal</td>\n",
       "      <td>2002</td>\n",
       "      <td>0</td>\n",
       "      <td>0.034703</td>\n",
       "    </tr>\n",
       "    <tr>\n",
       "      <th>1463</th>\n",
       "      <td>Eddie Jones</td>\n",
       "      <td>2000</td>\n",
       "      <td>0</td>\n",
       "      <td>0.272175</td>\n",
       "    </tr>\n",
       "    <tr>\n",
       "      <th>652</th>\n",
       "      <td>Mitch Richmond</td>\n",
       "      <td>1997</td>\n",
       "      <td>3</td>\n",
       "      <td>0.489039</td>\n",
       "    </tr>\n",
       "    <tr>\n",
       "      <th>1247</th>\n",
       "      <td>Reggie Miller</td>\n",
       "      <td>1996</td>\n",
       "      <td>1</td>\n",
       "      <td>0.295999</td>\n",
       "    </tr>\n",
       "    <tr>\n",
       "      <th>314</th>\n",
       "      <td>Mitch Richmond</td>\n",
       "      <td>1996</td>\n",
       "      <td>2</td>\n",
       "      <td>0.177085</td>\n",
       "    </tr>\n",
       "    <tr>\n",
       "      <th>2452</th>\n",
       "      <td>Dennis Rodman</td>\n",
       "      <td>1995</td>\n",
       "      <td>1</td>\n",
       "      <td>0.175055</td>\n",
       "    </tr>\n",
       "    <tr>\n",
       "      <th>1493</th>\n",
       "      <td>Mitch Richmond</td>\n",
       "      <td>1995</td>\n",
       "      <td>1</td>\n",
       "      <td>0.130411</td>\n",
       "    </tr>\n",
       "    <tr>\n",
       "      <th>23</th>\n",
       "      <td>Gary Payton</td>\n",
       "      <td>1994</td>\n",
       "      <td>0</td>\n",
       "      <td>0.019889</td>\n",
       "    </tr>\n",
       "    <tr>\n",
       "      <th>1055</th>\n",
       "      <td>Tim Hardaway</td>\n",
       "      <td>1993</td>\n",
       "      <td>1</td>\n",
       "      <td>0.183315</td>\n",
       "    </tr>\n",
       "    <tr>\n",
       "      <th>304</th>\n",
       "      <td>Joe Dumars</td>\n",
       "      <td>1993</td>\n",
       "      <td>2</td>\n",
       "      <td>0.331380</td>\n",
       "    </tr>\n",
       "    <tr>\n",
       "      <th>2845</th>\n",
       "      <td>Bernard King</td>\n",
       "      <td>1991</td>\n",
       "      <td>3</td>\n",
       "      <td>0.392719</td>\n",
       "    </tr>\n",
       "    <tr>\n",
       "      <th>284</th>\n",
       "      <td>Joe Dumars</td>\n",
       "      <td>1990</td>\n",
       "      <td>0</td>\n",
       "      <td>0.010875</td>\n",
       "    </tr>\n",
       "    <tr>\n",
       "      <th>2105</th>\n",
       "      <td>Tom Chambers</td>\n",
       "      <td>1989</td>\n",
       "      <td>0</td>\n",
       "      <td>0.333340</td>\n",
       "    </tr>\n",
       "    <tr>\n",
       "      <th>2861</th>\n",
       "      <td>Chris Mullin</td>\n",
       "      <td>1989</td>\n",
       "      <td>0</td>\n",
       "      <td>0.471672</td>\n",
       "    </tr>\n",
       "    <tr>\n",
       "      <th>1462</th>\n",
       "      <td>Mark Price</td>\n",
       "      <td>1989</td>\n",
       "      <td>0</td>\n",
       "      <td>0.148201</td>\n",
       "    </tr>\n",
       "    <tr>\n",
       "      <th>3098</th>\n",
       "      <td>Patrick Ewing</td>\n",
       "      <td>1988</td>\n",
       "      <td>0</td>\n",
       "      <td>0.232592</td>\n",
       "    </tr>\n",
       "    <tr>\n",
       "      <th>717</th>\n",
       "      <td>Isiah Thomas</td>\n",
       "      <td>1987</td>\n",
       "      <td>4</td>\n",
       "      <td>0.064073</td>\n",
       "    </tr>\n",
       "    <tr>\n",
       "      <th>3541</th>\n",
       "      <td>Kareem Abdul-Jabbar</td>\n",
       "      <td>1984</td>\n",
       "      <td>3</td>\n",
       "      <td>0.364704</td>\n",
       "    </tr>\n",
       "  </tbody>\n",
       "</table>\n",
       "</div>"
      ],
      "text/plain": [
       "                   Player  year  num_all_nba  prob_all_nba\n",
       "397            Chris Paul  2021            9      0.492275\n",
       "1446          Ben Simmons  2020            0      0.087168\n",
       "2359        Pascal Siakam  2020            0      0.291353\n",
       "3377          Joel Embiid  2018            0      0.413873\n",
       "2491       Draymond Green  2017            1      0.324777\n",
       "3358        Dwight Howard  2014            7      0.229850\n",
       "495           Tony Parker  2012            1      0.410776\n",
       "2448          Paul Pierce  2009            3      0.280721\n",
       "1010     Chauncey Billups  2009            2      0.178562\n",
       "3005     Shaquille O'Neal  2009           13      0.119555\n",
       "3312          Ben Wallace  2006            4      0.249529\n",
       "3067             Yao Ming  2004            0      0.417355\n",
       "1093      Stephon Marbury  2003            1      0.317895\n",
       "1862      Jermaine O'Neal  2002            0      0.034703\n",
       "1463          Eddie Jones  2000            0      0.272175\n",
       "652        Mitch Richmond  1997            3      0.489039\n",
       "1247        Reggie Miller  1996            1      0.295999\n",
       "314        Mitch Richmond  1996            2      0.177085\n",
       "2452        Dennis Rodman  1995            1      0.175055\n",
       "1493       Mitch Richmond  1995            1      0.130411\n",
       "23            Gary Payton  1994            0      0.019889\n",
       "1055         Tim Hardaway  1993            1      0.183315\n",
       "304            Joe Dumars  1993            2      0.331380\n",
       "2845         Bernard King  1991            3      0.392719\n",
       "284            Joe Dumars  1990            0      0.010875\n",
       "2105         Tom Chambers  1989            0      0.333340\n",
       "2861         Chris Mullin  1989            0      0.471672\n",
       "1462           Mark Price  1989            0      0.148201\n",
       "3098        Patrick Ewing  1988            0      0.232592\n",
       "717          Isiah Thomas  1987            4      0.064073\n",
       "3541  Kareem Abdul-Jabbar  1984            3      0.364704"
      ]
     },
     "execution_count": 32,
     "metadata": {},
     "output_type": "execute_result"
    }
   ],
   "source": [
    "#False Negatives\n",
    "nba_test_prob[(CV_rfc.predict(X_test)==0) & (y_test==1)][['Player','year','num_all_nba','prob_all_nba']].sort_values(by='year', ascending=False)"
   ]
  },
  {
   "cell_type": "code",
   "execution_count": 44,
   "metadata": {},
   "outputs": [
    {
     "name": "stderr",
     "output_type": "stream",
     "text": [
      "/var/folders/h0/v8b9tbrn3t18vwzvgn1npc5c0000gn/T/ipykernel_31056/3950039097.py:4: SettingWithCopyWarning: \n",
      "A value is trying to be set on a copy of a slice from a DataFrame\n",
      "\n",
      "See the caveats in the documentation: https://pandas.pydata.org/pandas-docs/stable/user_guide/indexing.html#returning-a-view-versus-a-copy\n",
      "  coef_df_nz.sort_values(by='coefs', ascending=False, inplace=True)\n"
     ]
    }
   ],
   "source": [
    "coef_df = pd.DataFrame({'coefs':CV_rfc.best_estimator_.feature_importances_,\n",
    "                          'features':X_train.columns})\n",
    "coef_df_nz = coef_df[coef_df['coefs']!=0]\n",
    "coef_df_nz.sort_values(by='coefs', ascending=False, inplace=True)"
   ]
  },
  {
   "attachments": {},
   "cell_type": "markdown",
   "metadata": {},
   "source": [
    "We can also view which coefficients made the most impact on the model. We see similar to our logistic regression, VORP was one of the strongest features in prediciting All-NBA status. "
   ]
  },
  {
   "cell_type": "code",
   "execution_count": 19,
   "metadata": {},
   "outputs": [
    {
     "data": {
      "text/html": [
       "\n",
       "<div id=\"altair-viz-8b611465618b420390602df920ceaa3a\"></div>\n",
       "<script type=\"text/javascript\">\n",
       "  var VEGA_DEBUG = (typeof VEGA_DEBUG == \"undefined\") ? {} : VEGA_DEBUG;\n",
       "  (function(spec, embedOpt){\n",
       "    let outputDiv = document.currentScript.previousElementSibling;\n",
       "    if (outputDiv.id !== \"altair-viz-8b611465618b420390602df920ceaa3a\") {\n",
       "      outputDiv = document.getElementById(\"altair-viz-8b611465618b420390602df920ceaa3a\");\n",
       "    }\n",
       "    const paths = {\n",
       "      \"vega\": \"https://cdn.jsdelivr.net/npm//vega@5?noext\",\n",
       "      \"vega-lib\": \"https://cdn.jsdelivr.net/npm//vega-lib?noext\",\n",
       "      \"vega-lite\": \"https://cdn.jsdelivr.net/npm//vega-lite@4.17.0?noext\",\n",
       "      \"vega-embed\": \"https://cdn.jsdelivr.net/npm//vega-embed@6?noext\",\n",
       "    };\n",
       "\n",
       "    function maybeLoadScript(lib, version) {\n",
       "      var key = `${lib.replace(\"-\", \"\")}_version`;\n",
       "      return (VEGA_DEBUG[key] == version) ?\n",
       "        Promise.resolve(paths[lib]) :\n",
       "        new Promise(function(resolve, reject) {\n",
       "          var s = document.createElement('script');\n",
       "          document.getElementsByTagName(\"head\")[0].appendChild(s);\n",
       "          s.async = true;\n",
       "          s.onload = () => {\n",
       "            VEGA_DEBUG[key] = version;\n",
       "            return resolve(paths[lib]);\n",
       "          };\n",
       "          s.onerror = () => reject(`Error loading script: ${paths[lib]}`);\n",
       "          s.src = paths[lib];\n",
       "        });\n",
       "    }\n",
       "\n",
       "    function showError(err) {\n",
       "      outputDiv.innerHTML = `<div class=\"error\" style=\"color:red;\">${err}</div>`;\n",
       "      throw err;\n",
       "    }\n",
       "\n",
       "    function displayChart(vegaEmbed) {\n",
       "      vegaEmbed(outputDiv, spec, embedOpt)\n",
       "        .catch(err => showError(`Javascript Error: ${err.message}<br>This usually means there's a typo in your chart specification. See the javascript console for the full traceback.`));\n",
       "    }\n",
       "\n",
       "    if(typeof define === \"function\" && define.amd) {\n",
       "      requirejs.config({paths});\n",
       "      require([\"vega-embed\"], displayChart, err => showError(`Error loading script: ${err.message}`));\n",
       "    } else {\n",
       "      maybeLoadScript(\"vega\", \"5\")\n",
       "        .then(() => maybeLoadScript(\"vega-lite\", \"4.17.0\"))\n",
       "        .then(() => maybeLoadScript(\"vega-embed\", \"6\"))\n",
       "        .catch(showError)\n",
       "        .then(() => displayChart(vegaEmbed));\n",
       "    }\n",
       "  })({\"config\": {\"view\": {\"continuousWidth\": 400, \"continuousHeight\": 300}}, \"data\": {\"name\": \"data-277196feed6130a73ffe8f0cdcfda308\"}, \"mark\": \"bar\", \"encoding\": {\"x\": {\"field\": \"features\", \"sort\": \"-y\", \"type\": \"nominal\"}, \"y\": {\"field\": \"coefs\", \"type\": \"quantitative\"}}, \"$schema\": \"https://vega.github.io/schema/vega-lite/v4.17.0.json\", \"datasets\": {\"data-277196feed6130a73ffe8f0cdcfda308\": [{\"coefs\": 0.20781111496249965, \"features\": \"select__VORP\"}, {\"coefs\": 0.12100651648147738, \"features\": \"select__PER\"}, {\"coefs\": 0.1148215772879411, \"features\": \"select__WS\"}, {\"coefs\": 0.06157999346245553, \"features\": \"select__BPM\"}, {\"coefs\": 0.053950427567366545, \"features\": \"select__PTS\"}, {\"coefs\": 0.048587354190332034, \"features\": \"select__OBPM\"}, {\"coefs\": 0.04794463392327207, \"features\": \"select__W\"}, {\"coefs\": 0.04680108967255907, \"features\": \"select__WS/48\"}, {\"coefs\": 0.02855520604689521, \"features\": \"select__FG\"}, {\"coefs\": 0.022254190142916363, \"features\": \"select__DWS\"}, {\"coefs\": 0.02099669444661718, \"features\": \"select__OWS\"}, {\"coefs\": 0.017971156165619756, \"features\": \"select__2P\"}, {\"coefs\": 0.017093810334474335, \"features\": \"select__FGA\"}, {\"coefs\": 0.014180899919868132, \"features\": \"select__num_all_nba\"}, {\"coefs\": 0.012343677416328035, \"features\": \"select__USG%\"}, {\"coefs\": 0.011972961680531866, \"features\": \"select__TOV\"}, {\"coefs\": 0.011278215877251245, \"features\": \"select__FTA\"}, {\"coefs\": 0.009346458646358424, \"features\": \"select__AST\"}, {\"coefs\": 0.008439113018962075, \"features\": \"select__FT\"}, {\"coefs\": 0.007636071920094074, \"features\": \"select__MP\"}, {\"coefs\": 0.007323364030884966, \"features\": \"select__2PA\"}, {\"coefs\": 0.00686463716533887, \"features\": \"select__DRB\"}, {\"coefs\": 0.006010637141709753, \"features\": \"select__DBPM\"}, {\"coefs\": 0.005605520316767192, \"features\": \"select__FTr\"}, {\"coefs\": 0.005242845588839578, \"features\": \"select__TRB\"}, {\"coefs\": 0.005093451372872728, \"features\": \"select__TRB%\"}, {\"coefs\": 0.004532888824733549, \"features\": \"select__PF\"}, {\"coefs\": 0.0045101185987246285, \"features\": \"select__ORB\"}, {\"coefs\": 0.004255482035300718, \"features\": \"select__BLK\"}, {\"coefs\": 0.004241523566719741, \"features\": \"select__GS\"}, {\"coefs\": 0.003911432341629507, \"features\": \"select__STL\"}, {\"coefs\": 0.0039107409535256935, \"features\": \"select__eFG%\"}, {\"coefs\": 0.00387017147364477, \"features\": \"select__TOV%\"}, {\"coefs\": 0.0037389587470177264, \"features\": \"select__2P%\"}, {\"coefs\": 0.003647143628391386, \"features\": \"select__3PAr\"}, {\"coefs\": 0.0036121213831342763, \"features\": \"select__G\"}, {\"coefs\": 0.003336876683902568, \"features\": \"select__DRB%\"}, {\"coefs\": 0.0031472037557683727, \"features\": \"select__ORB%\"}, {\"coefs\": 0.003129304466558395, \"features\": \"select__BLK%\"}, {\"coefs\": 0.0029104116977023164, \"features\": \"select__FT%\"}]}}, {\"mode\": \"vega-lite\"});\n",
       "</script>"
      ],
      "text/plain": [
       "alt.Chart(...)"
      ]
     },
     "execution_count": 19,
     "metadata": {},
     "output_type": "execute_result"
    }
   ],
   "source": [
    "import altair as alt\n",
    "alt.Chart(coef_df_nz[0:40]).mark_bar().encode(\n",
    "    y='coefs',\n",
    "    x=alt.Y('features', sort='-y'))"
   ]
  },
  {
   "attachments": {},
   "cell_type": "markdown",
   "metadata": {},
   "source": [
    "As a final metric we can also view the ROC curve. This plots the true positive rate vs the false positive rate. To measure how effective our classifier is, we consider area under the curve (AUC). A perfect classifier would have an AUC of 1, while ours has an AUC of .974. This indicates our classifier is performing well, but we may still want to explore further models."
   ]
  },
  {
   "cell_type": "code",
   "execution_count": 40,
   "metadata": {},
   "outputs": [
    {
     "data": {
      "text/plain": [
       "Text(0, 0.5, 'True Positive Rate')"
      ]
     },
     "execution_count": 40,
     "metadata": {},
     "output_type": "execute_result"
    },
    {
     "data": {
      "image/png": "[encoded data removed]",
      "text/plain": [
       "<Figure size 640x480 with 1 Axes>"
      ]
     },
     "metadata": {},
     "output_type": "display_data"
    }
   ],
   "source": [
    "#We can also look at the ROC curve for the model.\n",
    "from sklearn.metrics import roc_curve, auc\n",
    "import matplotlib.pyplot as plt\n",
    "fpr, tpr, thresholds = roc_curve(y_test, CV_rfc.predict_proba(X_test)[:,1])\n",
    "roc_auc = auc(fpr, tpr)\n",
    "#plot ROC curve\n",
    "plt.figure()\n",
    "plt.plot(fpr, tpr, color='darkorange',\n",
    "            lw=2, label='Random Forest ROC curve (area = %0.3f)' % roc_auc)\n",
    "plt.plot([0, 1], [0, 1], color='navy', lw=2, linestyle='--', label='Random Guessing')\n",
    "plt.xlim([0.0, 1.0])\n",
    "plt.legend(loc=\"lower right\")\n",
    "plt.xlabel('False Positive Rate')\n",
    "plt.ylabel('True Positive Rate')"
   ]
  },
  {
   "cell_type": "code",
   "execution_count": 10,
   "metadata": {},
   "outputs": [
    {
     "data": {
      "text/html": [
       "<style>#sk-container-id-2 {color: black;background-color: white;}#sk-container-id-2 pre{padding: 0;}#sk-container-id-2 div.sk-toggleable {background-color: white;}#sk-container-id-2 label.sk-toggleable__label {cursor: pointer;display: block;width: 100%;margin-bottom: 0;padding: 0.3em;box-sizing: border-box;text-align: center;}#sk-container-id-2 label.sk-toggleable__label-arrow:before {content: \"▸\";float: left;margin-right: 0.25em;color: #696969;}#sk-container-id-2 label.sk-toggleable__label-arrow:hover:before {color: black;}#sk-container-id-2 div.sk-estimator:hover label.sk-toggleable__label-arrow:before {color: black;}#sk-container-id-2 div.sk-toggleable__content {max-height: 0;max-width: 0;overflow: hidden;text-align: left;background-color: #f0f8ff;}#sk-container-id-2 div.sk-toggleable__content pre {margin: 0.2em;color: black;border-radius: 0.25em;background-color: #f0f8ff;}#sk-container-id-2 input.sk-toggleable__control:checked~div.sk-toggleable__content {max-height: 200px;max-width: 100%;overflow: auto;}#sk-container-id-2 input.sk-toggleable__control:checked~label.sk-toggleable__label-arrow:before {content: \"▾\";}#sk-container-id-2 div.sk-estimator input.sk-toggleable__control:checked~label.sk-toggleable__label {background-color: #d4ebff;}#sk-container-id-2 div.sk-label input.sk-toggleable__control:checked~label.sk-toggleable__label {background-color: #d4ebff;}#sk-container-id-2 input.sk-hidden--visually {border: 0;clip: rect(1px 1px 1px 1px);clip: rect(1px, 1px, 1px, 1px);height: 1px;margin: -1px;overflow: hidden;padding: 0;position: absolute;width: 1px;}#sk-container-id-2 div.sk-estimator {font-family: monospace;background-color: #f0f8ff;border: 1px dotted black;border-radius: 0.25em;box-sizing: border-box;margin-bottom: 0.5em;}#sk-container-id-2 div.sk-estimator:hover {background-color: #d4ebff;}#sk-container-id-2 div.sk-parallel-item::after {content: \"\";width: 100%;border-bottom: 1px solid gray;flex-grow: 1;}#sk-container-id-2 div.sk-label:hover label.sk-toggleable__label {background-color: #d4ebff;}#sk-container-id-2 div.sk-serial::before {content: \"\";position: absolute;border-left: 1px solid gray;box-sizing: border-box;top: 0;bottom: 0;left: 50%;z-index: 0;}#sk-container-id-2 div.sk-serial {display: flex;flex-direction: column;align-items: center;background-color: white;padding-right: 0.2em;padding-left: 0.2em;position: relative;}#sk-container-id-2 div.sk-item {position: relative;z-index: 1;}#sk-container-id-2 div.sk-parallel {display: flex;align-items: stretch;justify-content: center;background-color: white;position: relative;}#sk-container-id-2 div.sk-item::before, #sk-container-id-2 div.sk-parallel-item::before {content: \"\";position: absolute;border-left: 1px solid gray;box-sizing: border-box;top: 0;bottom: 0;left: 50%;z-index: -1;}#sk-container-id-2 div.sk-parallel-item {display: flex;flex-direction: column;z-index: 1;position: relative;background-color: white;}#sk-container-id-2 div.sk-parallel-item:first-child::after {align-self: flex-end;width: 50%;}#sk-container-id-2 div.sk-parallel-item:last-child::after {align-self: flex-start;width: 50%;}#sk-container-id-2 div.sk-parallel-item:only-child::after {width: 0;}#sk-container-id-2 div.sk-dashed-wrapped {border: 1px dashed gray;margin: 0 0.4em 0.5em 0.4em;box-sizing: border-box;padding-bottom: 0.4em;background-color: white;}#sk-container-id-2 div.sk-label label {font-family: monospace;font-weight: bold;display: inline-block;line-height: 1.2em;}#sk-container-id-2 div.sk-label-container {text-align: center;}#sk-container-id-2 div.sk-container {/* jupyter's `normalize.less` sets `[hidden] { display: none; }` but bootstrap.min.css set `[hidden] { display: none !important; }` so we also need the `!important` here to be able to override the default hidden behavior on the sphinx rendered scikit-learn.org. See: https://github.com/scikit-learn/scikit-learn/issues/21755 */display: inline-block !important;position: relative;}#sk-container-id-2 div.sk-text-repr-fallback {display: none;}</style><div id=\"sk-container-id-2\" class=\"sk-top-container\"><div class=\"sk-text-repr-fallback\"><pre>RFECV(cv=5,\n",
       "      estimator=RandomForestClassifier(max_depth=25, max_features=0.2,\n",
       "                                       min_samples_leaf=2, min_samples_split=25,\n",
       "                                       random_state=0),\n",
       "      scoring=&#x27;recall&#x27;)</pre><b>In a Jupyter environment, please rerun this cell to show the HTML representation or trust the notebook. <br />On GitHub, the HTML representation is unable to render, please try loading this page with nbviewer.org.</b></div><div class=\"sk-container\" hidden><div class=\"sk-item sk-dashed-wrapped\"><div class=\"sk-label-container\"><div class=\"sk-label sk-toggleable\"><input class=\"sk-toggleable__control sk-hidden--visually\" id=\"sk-estimator-id-6\" type=\"checkbox\" ><label for=\"sk-estimator-id-6\" class=\"sk-toggleable__label sk-toggleable__label-arrow\">RFECV</label><div class=\"sk-toggleable__content\"><pre>RFECV(cv=5,\n",
       "      estimator=RandomForestClassifier(max_depth=25, max_features=0.2,\n",
       "                                       min_samples_leaf=2, min_samples_split=25,\n",
       "                                       random_state=0),\n",
       "      scoring=&#x27;recall&#x27;)</pre></div></div></div><div class=\"sk-parallel\"><div class=\"sk-parallel-item\"><div class=\"sk-item\"><div class=\"sk-label-container\"><div class=\"sk-label sk-toggleable\"><input class=\"sk-toggleable__control sk-hidden--visually\" id=\"sk-estimator-id-7\" type=\"checkbox\" ><label for=\"sk-estimator-id-7\" class=\"sk-toggleable__label sk-toggleable__label-arrow\">estimator: RandomForestClassifier</label><div class=\"sk-toggleable__content\"><pre>RandomForestClassifier(max_depth=25, max_features=0.2, min_samples_leaf=2,\n",
       "                       min_samples_split=25, random_state=0)</pre></div></div></div><div class=\"sk-serial\"><div class=\"sk-item\"><div class=\"sk-estimator sk-toggleable\"><input class=\"sk-toggleable__control sk-hidden--visually\" id=\"sk-estimator-id-8\" type=\"checkbox\" ><label for=\"sk-estimator-id-8\" class=\"sk-toggleable__label sk-toggleable__label-arrow\">RandomForestClassifier</label><div class=\"sk-toggleable__content\"><pre>RandomForestClassifier(max_depth=25, max_features=0.2, min_samples_leaf=2,\n",
       "                       min_samples_split=25, random_state=0)</pre></div></div></div></div></div></div></div></div></div></div>"
      ],
      "text/plain": [
       "RFECV(cv=5,\n",
       "      estimator=RandomForestClassifier(max_depth=25, max_features=0.2,\n",
       "                                       min_samples_leaf=2, min_samples_split=25,\n",
       "                                       random_state=0),\n",
       "      scoring='recall')"
      ]
     },
     "execution_count": 10,
     "metadata": {},
     "output_type": "execute_result"
    }
   ],
   "source": [
    "#Now we can try to do some feature selection using a recursive feature elimination method.\n",
    "from sklearn.feature_selection import RFECV\n",
    "from sklearn.ensemble import RandomForestClassifier\n",
    "\n",
    "rf_mod = RandomForestClassifier(random_state=0, n_estimators= 100, min_samples_split= 25, min_samples_leaf= 2, max_features= .2, max_depth= 25)\n",
    "\n",
    "rfecv = RFECV(estimator=rf_mod, step=1, cv=5,\n",
    "                scoring='recall')\n",
    "rfecv.fit(X_train, y_train)\n"
   ]
  },
  {
   "cell_type": "code",
   "execution_count": 20,
   "metadata": {},
   "outputs": [
    {
     "data": {
      "text/plain": [
       "array(['select__Age', 'select__G', 'select__GS', 'select__MP',\n",
       "       'select__FG', 'select__FGA', 'select__FG%', 'select__3P',\n",
       "       'select__3PA', 'select__3P%', 'select__2P', 'select__2PA',\n",
       "       'select__2P%', 'select__eFG%', 'select__FT', 'select__FTA',\n",
       "       'select__FT%', 'select__ORB', 'select__DRB', 'select__TRB',\n",
       "       'select__AST', 'select__STL', 'select__BLK', 'select__TOV',\n",
       "       'select__PF', 'select__PTS', 'select__PER', 'select__TS%',\n",
       "       'select__3PAr', 'select__FTr', 'select__ORB%', 'select__DRB%',\n",
       "       'select__TRB%', 'select__AST%', 'select__STL%', 'select__BLK%',\n",
       "       'select__TOV%', 'select__USG%', 'select__OWS', 'select__DWS',\n",
       "       'select__WS', 'select__WS/48', 'select__OBPM', 'select__DBPM',\n",
       "       'select__BPM', 'select__VORP', 'select__W', 'select__num_all_nba',\n",
       "       'ohe__Tm_BKN', 'ohe__Tm_BOS', 'ohe__Tm_DET', 'ohe__Tm_NOP',\n",
       "       'ohe__Tm_PHX', 'ohe__Tm_SAC'], dtype=object)"
      ]
     },
     "execution_count": 20,
     "metadata": {},
     "output_type": "execute_result"
    }
   ],
   "source": [
    "preprocessor.get_feature_names_out()[rfecv.get_support()]"
   ]
  },
  {
   "cell_type": "code",
   "execution_count": 22,
   "metadata": {},
   "outputs": [],
   "source": [
    "y_pred_rfecv = rfecv.predict(X_test)"
   ]
  },
  {
   "cell_type": "code",
   "execution_count": 24,
   "metadata": {},
   "outputs": [
    {
     "name": "stdout",
     "output_type": "stream",
     "text": [
      "              precision    recall  f1-score   support\n",
      "\n",
      " Not All-NBA       0.96      0.98      0.97       819\n",
      "     All-NBA       0.82      0.74      0.78       123\n",
      "\n",
      "    accuracy                           0.94       942\n",
      "   macro avg       0.89      0.86      0.87       942\n",
      "weighted avg       0.94      0.94      0.94       942\n",
      "\n"
     ]
    }
   ],
   "source": [
    "from sklearn.metrics import classification_report\n",
    "print(classification_report(y_test, y_pred_rfecv, target_names=['Not All-NBA', 'All-NBA']))"
   ]
  },
  {
   "cell_type": "code",
   "execution_count": 25,
   "metadata": {},
   "outputs": [
    {
     "data": {
      "text/html": [
       "<div>\n",
       "<style scoped>\n",
       "    .dataframe tbody tr th:only-of-type {\n",
       "        vertical-align: middle;\n",
       "    }\n",
       "\n",
       "    .dataframe tbody tr th {\n",
       "        vertical-align: top;\n",
       "    }\n",
       "\n",
       "    .dataframe thead th {\n",
       "        text-align: right;\n",
       "    }\n",
       "</style>\n",
       "<table border=\"1\" class=\"dataframe\">\n",
       "  <thead>\n",
       "    <tr style=\"text-align: right;\">\n",
       "      <th>Predicted</th>\n",
       "      <th>0</th>\n",
       "      <th>1</th>\n",
       "      <th>All</th>\n",
       "    </tr>\n",
       "    <tr>\n",
       "      <th>Actual</th>\n",
       "      <th></th>\n",
       "      <th></th>\n",
       "      <th></th>\n",
       "    </tr>\n",
       "  </thead>\n",
       "  <tbody>\n",
       "    <tr>\n",
       "      <th>0</th>\n",
       "      <td>799</td>\n",
       "      <td>20</td>\n",
       "      <td>819</td>\n",
       "    </tr>\n",
       "    <tr>\n",
       "      <th>1</th>\n",
       "      <td>32</td>\n",
       "      <td>91</td>\n",
       "      <td>123</td>\n",
       "    </tr>\n",
       "    <tr>\n",
       "      <th>All</th>\n",
       "      <td>831</td>\n",
       "      <td>111</td>\n",
       "      <td>942</td>\n",
       "    </tr>\n",
       "  </tbody>\n",
       "</table>\n",
       "</div>"
      ],
      "text/plain": [
       "Predicted    0    1  All\n",
       "Actual                  \n",
       "0          799   20  819\n",
       "1           32   91  123\n",
       "All        831  111  942"
      ]
     },
     "execution_count": 25,
     "metadata": {},
     "output_type": "execute_result"
    }
   ],
   "source": [
    "pd.crosstab(y_test, y_pred_rfecv, rownames=['Actual'], colnames=['Predicted'], margins=True)"
   ]
  }
 ],
 "metadata": {
  "kernelspec": {
   "display_name": "base",
   "language": "python",
   "name": "python3"
  },
  "language_info": {
   "codemirror_mode": {
    "name": "ipython",
    "version": 3
   },
   "file_extension": ".py",
   "mimetype": "text/x-python",
   "name": "python",
   "nbconvert_exporter": "python",
   "pygments_lexer": "ipython3",
   "version": "3.9.12"
  },
  "orig_nbformat": 4
 },
 "nbformat": 4,
 "nbformat_minor": 2
}
