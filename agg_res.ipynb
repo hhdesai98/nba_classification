{
 "cells": [
  {
   "cell_type": "code",
   "execution_count": 1,
   "metadata": {},
   "outputs": [],
   "source": [
    "import pandas as pd\n",
    "import numpy as np"
   ]
  },
  {
   "cell_type": "code",
   "execution_count": null,
   "metadata": {},
   "outputs": [],
   "source": [
    "log_g_preds = pd.read_csv(\"test_preds/log_preds_g.csv\")\n",
    "log_f_preds = pd.read_csv(\"test_preds/log_preds_f.csv\")\n",
    "log_c_preds = pd.read_csv(\"test_preds/log_preds_c.csv\")\n",
    "\n"
   ]
  },
  {
   "cell_type": "code",
   "execution_count": null,
   "metadata": {},
   "outputs": [],
   "source": [
    "rf_g_preds = pd.read_csv(\"test_preds/rf_preds_g.csv\")\n",
    "rf_f_preds = pd.read_csv(\"test_preds/rf_preds_f.csv\")\n",
    "rf_c_preds = pd.read_csv(\"test_preds/rf_preds_c.csv\")\n",
    "\n",
    "xg_g_preds = pd.read_csv(\"test_preds/xg_preds_g.csv\")\n",
    "xg_f_preds = pd.read_csv(\"test_preds/xg_preds_f.csv\")\n",
    "xg_c_preds = pd.read_csv(\"test_preds/xg_preds_c.csv\")"
   ]
  }
 ],
 "metadata": {
  "kernelspec": {
   "display_name": "base",
   "language": "python",
   "name": "python3"
  },
  "language_info": {
   "codemirror_mode": {
    "name": "ipython",
    "version": 3
   },
   "file_extension": ".py",
   "mimetype": "text/x-python",
   "name": "python",
   "nbconvert_exporter": "python",
   "pygments_lexer": "ipython3",
   "version": "3.9.12"
  },
  "orig_nbformat": 4
 },
 "nbformat": 4,
 "nbformat_minor": 2
}
