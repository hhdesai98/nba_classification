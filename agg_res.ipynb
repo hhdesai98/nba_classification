{
 "cells": [
  {
   "cell_type": "code",
   "execution_count": 27,
   "metadata": {},
   "outputs": [],
   "source": [
    "import pandas as pd\n",
    "import numpy as np\n",
    "from sklearn.metrics import classification_report"
   ]
  },
  {
   "attachments": {},
   "cell_type": "markdown",
   "metadata": {},
   "source": [
    "Now we may compare all of our results:"
   ]
  },
  {
   "cell_type": "code",
   "execution_count": 28,
   "metadata": {},
   "outputs": [],
   "source": [
    "nba_train = pd.read_csv('Data_Scripting_Cleaning/Full_data/Training_Sets/nba_szn_train.csv')\n",
    "nba_test = pd.read_csv('Data_Scripting_Cleaning/Full_data/Test_Sets/nba_szn_test.csv')\n",
    "\n",
    "min_minutes = nba_train[(nba_train['all_nba_c_year']==1)].MP.min()\n",
    "min_G = nba_train[(nba_train['all_nba_c_year']==1)].G.min()\n",
    "nba_filt_train = nba_train[(nba_train['MP']>=min_minutes) & (nba_train['G']>=min_G)]\n",
    "nba_filt_test = nba_test[(nba_test['MP']>=min_minutes) & (nba_test['G']>=min_G)]\n",
    "\n",
    "y_train = nba_filt_train['all_nba_c_year']\n",
    "\n",
    "y_test = nba_filt_test['all_nba_c_year']"
   ]
  },
  {
   "cell_type": "code",
   "execution_count": 29,
   "metadata": {},
   "outputs": [],
   "source": [
    "log_g_preds = pd.read_csv(\"test_preds/log_preds_g.csv\")\n",
    "log_f_preds = pd.read_csv(\"test_preds/log_preds_f.csv\")\n",
    "log_c_preds = pd.read_csv(\"test_preds/log_preds_c.csv\")\n",
    "log_preds_all = pd.read_csv(\"test_preds/log_preds_all.csv\")\n",
    "log_agg_preds = pd.concat([log_g_preds,log_f_preds, log_c_preds], axis = 0)\n"
   ]
  },
  {
   "cell_type": "code",
   "execution_count": 30,
   "metadata": {},
   "outputs": [],
   "source": [
    "rf_g_preds = pd.read_csv(\"test_preds/rf_preds_g.csv\")\n",
    "rf_f_preds = pd.read_csv(\"test_preds/rf_preds_f.csv\")\n",
    "rf_c_preds = pd.read_csv(\"test_preds/rf_preds_c.csv\")\n",
    "rf_preds_all = pd.read_csv(\"test_preds/rf_preds_all.csv\")\n",
    "rf_agg_preds = pd.concat([rf_g_preds,rf_f_preds, rf_c_preds], axis = 0)\n",
    "\n",
    "xg_g_preds = pd.read_csv(\"test_preds/xg_preds_g.csv\")\n",
    "xg_f_preds = pd.read_csv(\"test_preds/xg_preds_f.csv\")\n",
    "xg_c_preds = pd.read_csv(\"test_preds/xg_preds_c.csv\")\n",
    "xg_preds_all = pd.read_csv(\"test_preds/xg_preds_all.csv\")\n",
    "xg_agg_preds = pd.concat([xg_g_preds,xg_f_preds, xg_c_preds], axis = 0)\n",
    "\n",
    "ens_g_preds = pd.read_csv(\"test_preds/ens_preds_g.csv\")\n",
    "ens_f_preds = pd.read_csv(\"test_preds/ens_preds_f.csv\")\n",
    "ens_c_preds = pd.read_csv(\"test_preds/ens_preds_c.csv\")\n",
    "ens_preds_all = pd.read_csv(\"test_preds/ens_preds_all.csv\")\n",
    "ens_agg_preds = pd.concat([ens_g_preds,ens_f_preds, ens_c_preds], axis = 0)"
   ]
  },
  {
   "cell_type": "code",
   "execution_count": 31,
   "metadata": {},
   "outputs": [],
   "source": [
    "def pred_all_nba_df(nba_test, year):\n",
    "    if year<=1988:\n",
    "        return 'year must be above 1988'\n",
    "    pred_df = nba_test.copy()\n",
    "    #pred_df['prob_all_nba'] = model.predict_proba(nba_test)[:,1]\n",
    "    pred_df = pred_df[pred_df['year']==year]\n",
    "    pred_df.sort_values(by=['prob_all_nba'], ascending=False, inplace=True)\n",
    "    all_nba_g = pred_df.loc[pred_df['Position']=='G','Player'].head(8)\n",
    "    all_nba_f = pred_df.loc[pred_df['Position']=='F','Player'].head(8)\n",
    "    all_nba_c = pred_df.loc[pred_df['Position']=='C','Player'].head(4)\n",
    "    pred_team1 = pd.concat([all_nba_g.iloc[0:2], all_nba_f.iloc[0:2], all_nba_c.iloc[0:1]]).to_list()\n",
    "    pred_team2 = pd.concat([all_nba_g.iloc[2:4], all_nba_f.iloc[2:4], all_nba_c.iloc[1:2]]).to_list()\n",
    "    pred_team3 = pd.concat([all_nba_g.iloc[4:6], all_nba_f.iloc[4:6], all_nba_c.iloc[2:3]]).to_list()\n",
    "    pred_team4 = pd.concat([all_nba_g.iloc[6:8], all_nba_f.iloc[6:8], all_nba_c.iloc[3:4]]).to_list()\n",
    "    all_nba_df = pd.DataFrame({'Predicted Team 1':pred_team1, 'Predicted Team 2':pred_team2, 'Predicted Team 3':pred_team3, 'Predicted Team 4':pred_team4})\n",
    "    all_nba_df.index = ['Guard', 'Guard', 'Forward', 'Forward', 'Center']\n",
    "    return all_nba_df.transpose()\n",
    "\n",
    "def true_all_nba(nba_test,year):\n",
    "    teams = ['1st','2nd','3rd']\n",
    "    if year<=1988:\n",
    "        return 'year must be above 1988'\n",
    "    year_all_nba = nba_test[(nba_test['year']==year) & (nba_test['all_nba_tm'].isin(teams))].sort_values(by=['all_nba_tm','Position'], ascending=True)\n",
    "    team1 = year_all_nba.iloc[np.arange(0,5),:]['Player'].tolist()\n",
    "    team2 = year_all_nba.iloc[np.arange(5,10),:]['Player'].tolist()\n",
    "    team3 = year_all_nba.iloc[np.arange(10,15),:]['Player'].tolist()\n",
    "    all_nba_df = pd.DataFrame({'True Team 1':team1, 'True Team 2':team2, 'True Team 3':team3})\n",
    "    all_nba_df.index = ['Center', 'Forward', 'Forward', 'Guard', 'Guard']\n",
    "   \n",
    "    return  all_nba_df.iloc[::-1].transpose()"
   ]
  },
  {
   "attachments": {},
   "cell_type": "markdown",
   "metadata": {},
   "source": [
    "We have for the true All-NBA teams for 2023 as:"
   ]
  },
  {
   "cell_type": "code",
   "execution_count": 32,
   "metadata": {},
   "outputs": [
    {
     "data": {
      "text/html": [
       "<div>\n",
       "<style scoped>\n",
       "    .dataframe tbody tr th:only-of-type {\n",
       "        vertical-align: middle;\n",
       "    }\n",
       "\n",
       "    .dataframe tbody tr th {\n",
       "        vertical-align: top;\n",
       "    }\n",
       "\n",
       "    .dataframe thead th {\n",
       "        text-align: right;\n",
       "    }\n",
       "</style>\n",
       "<table border=\"1\" class=\"dataframe\">\n",
       "  <thead>\n",
       "    <tr style=\"text-align: right;\">\n",
       "      <th></th>\n",
       "      <th>Guard</th>\n",
       "      <th>Guard</th>\n",
       "      <th>Forward</th>\n",
       "      <th>Forward</th>\n",
       "      <th>Center</th>\n",
       "    </tr>\n",
       "  </thead>\n",
       "  <tbody>\n",
       "    <tr>\n",
       "      <th>True Team 1</th>\n",
       "      <td>Luka Dončić</td>\n",
       "      <td>Shai Gilgeous-Alexander</td>\n",
       "      <td>Jayson Tatum</td>\n",
       "      <td>Giannis Antetokounmpo</td>\n",
       "      <td>Joel Embiid</td>\n",
       "    </tr>\n",
       "    <tr>\n",
       "      <th>True Team 2</th>\n",
       "      <td>Stephen Curry</td>\n",
       "      <td>Donovan Mitchell</td>\n",
       "      <td>Jaylen Brown</td>\n",
       "      <td>Jimmy Butler</td>\n",
       "      <td>Nikola Jokić</td>\n",
       "    </tr>\n",
       "    <tr>\n",
       "      <th>True Team 3</th>\n",
       "      <td>De'Aaron Fox</td>\n",
       "      <td>Damian Lillard</td>\n",
       "      <td>LeBron James</td>\n",
       "      <td>Julius Randle</td>\n",
       "      <td>Domantas Sabonis</td>\n",
       "    </tr>\n",
       "  </tbody>\n",
       "</table>\n",
       "</div>"
      ],
      "text/plain": [
       "                     Guard                    Guard       Forward  \\\n",
       "True Team 1    Luka Dončić  Shai Gilgeous-Alexander  Jayson Tatum   \n",
       "True Team 2  Stephen Curry         Donovan Mitchell  Jaylen Brown   \n",
       "True Team 3   De'Aaron Fox           Damian Lillard  LeBron James   \n",
       "\n",
       "                           Forward            Center  \n",
       "True Team 1  Giannis Antetokounmpo       Joel Embiid  \n",
       "True Team 2           Jimmy Butler      Nikola Jokić  \n",
       "True Team 3          Julius Randle  Domantas Sabonis  "
      ]
     },
     "execution_count": 32,
     "metadata": {},
     "output_type": "execute_result"
    }
   ],
   "source": [
    "true_all_nba(nba_test, 2023)"
   ]
  },
  {
   "attachments": {},
   "cell_type": "markdown",
   "metadata": {},
   "source": [
    "# Logistic Regression"
   ]
  },
  {
   "attachments": {},
   "cell_type": "markdown",
   "metadata": {},
   "source": [
    "### Aggregate Results (Combining 3 Positional Models)"
   ]
  },
  {
   "cell_type": "code",
   "execution_count": 33,
   "metadata": {},
   "outputs": [
    {
     "name": "stdout",
     "output_type": "stream",
     "text": [
      "              precision    recall  f1-score   support\n",
      "\n",
      "           0       0.98      0.98      0.98       809\n",
      "           1       0.83      0.83      0.83       120\n",
      "\n",
      "    accuracy                           0.96       929\n",
      "   macro avg       0.90      0.90      0.90       929\n",
      "weighted avg       0.96      0.96      0.96       929\n",
      "\n"
     ]
    }
   ],
   "source": [
    "print(classification_report(log_agg_preds['all_nba_c_year'], log_agg_preds['pred_all_nba']))"
   ]
  },
  {
   "cell_type": "code",
   "execution_count": 34,
   "metadata": {},
   "outputs": [
    {
     "data": {
      "text/html": [
       "<div>\n",
       "<style scoped>\n",
       "    .dataframe tbody tr th:only-of-type {\n",
       "        vertical-align: middle;\n",
       "    }\n",
       "\n",
       "    .dataframe tbody tr th {\n",
       "        vertical-align: top;\n",
       "    }\n",
       "\n",
       "    .dataframe thead th {\n",
       "        text-align: right;\n",
       "    }\n",
       "</style>\n",
       "<table border=\"1\" class=\"dataframe\">\n",
       "  <thead>\n",
       "    <tr style=\"text-align: right;\">\n",
       "      <th></th>\n",
       "      <th>Guard</th>\n",
       "      <th>Guard</th>\n",
       "      <th>Forward</th>\n",
       "      <th>Forward</th>\n",
       "      <th>Center</th>\n",
       "    </tr>\n",
       "  </thead>\n",
       "  <tbody>\n",
       "    <tr>\n",
       "      <th>Predicted Team 1</th>\n",
       "      <td>Shai Gilgeous-Alexander</td>\n",
       "      <td>Donovan Mitchell</td>\n",
       "      <td>Giannis Antetokounmpo</td>\n",
       "      <td>Jayson Tatum</td>\n",
       "      <td>Joel Embiid</td>\n",
       "    </tr>\n",
       "    <tr>\n",
       "      <th>Predicted Team 2</th>\n",
       "      <td>Luka Dončić</td>\n",
       "      <td>Damian Lillard</td>\n",
       "      <td>LeBron James</td>\n",
       "      <td>Julius Randle</td>\n",
       "      <td>Nikola Jokić</td>\n",
       "    </tr>\n",
       "    <tr>\n",
       "      <th>Predicted Team 3</th>\n",
       "      <td>Stephen Curry</td>\n",
       "      <td>Trae Young</td>\n",
       "      <td>Kevin Durant</td>\n",
       "      <td>Jaylen Brown</td>\n",
       "      <td>Anthony Davis</td>\n",
       "    </tr>\n",
       "    <tr>\n",
       "      <th>Predicted Team 4</th>\n",
       "      <td>Ja Morant</td>\n",
       "      <td>James Harden</td>\n",
       "      <td>Jimmy Butler</td>\n",
       "      <td>Pascal Siakam</td>\n",
       "      <td>Domantas Sabonis</td>\n",
       "    </tr>\n",
       "  </tbody>\n",
       "</table>\n",
       "</div>"
      ],
      "text/plain": [
       "                                    Guard             Guard  \\\n",
       "Predicted Team 1  Shai Gilgeous-Alexander  Donovan Mitchell   \n",
       "Predicted Team 2              Luka Dončić    Damian Lillard   \n",
       "Predicted Team 3            Stephen Curry        Trae Young   \n",
       "Predicted Team 4                Ja Morant      James Harden   \n",
       "\n",
       "                                Forward        Forward            Center  \n",
       "Predicted Team 1  Giannis Antetokounmpo   Jayson Tatum       Joel Embiid  \n",
       "Predicted Team 2           LeBron James  Julius Randle      Nikola Jokić  \n",
       "Predicted Team 3           Kevin Durant   Jaylen Brown     Anthony Davis  \n",
       "Predicted Team 4           Jimmy Butler  Pascal Siakam  Domantas Sabonis  "
      ]
     },
     "execution_count": 34,
     "metadata": {},
     "output_type": "execute_result"
    }
   ],
   "source": [
    "pred_all_nba_df(log_agg_preds, 2023)"
   ]
  },
  {
   "attachments": {},
   "cell_type": "markdown",
   "metadata": {},
   "source": [
    "### Full Data Results"
   ]
  },
  {
   "cell_type": "code",
   "execution_count": 35,
   "metadata": {},
   "outputs": [
    {
     "name": "stdout",
     "output_type": "stream",
     "text": [
      "              precision    recall  f1-score   support\n",
      "\n",
      "           0       0.98      0.98      0.98       809\n",
      "           1       0.83      0.83      0.83       120\n",
      "\n",
      "    accuracy                           0.96       929\n",
      "   macro avg       0.90      0.90      0.90       929\n",
      "weighted avg       0.96      0.96      0.96       929\n",
      "\n"
     ]
    }
   ],
   "source": [
    "print(classification_report(log_preds_all['all_nba_c_year'], log_preds_all['pred_all_nba']))"
   ]
  },
  {
   "cell_type": "code",
   "execution_count": 36,
   "metadata": {},
   "outputs": [
    {
     "data": {
      "text/html": [
       "<div>\n",
       "<style scoped>\n",
       "    .dataframe tbody tr th:only-of-type {\n",
       "        vertical-align: middle;\n",
       "    }\n",
       "\n",
       "    .dataframe tbody tr th {\n",
       "        vertical-align: top;\n",
       "    }\n",
       "\n",
       "    .dataframe thead th {\n",
       "        text-align: right;\n",
       "    }\n",
       "</style>\n",
       "<table border=\"1\" class=\"dataframe\">\n",
       "  <thead>\n",
       "    <tr style=\"text-align: right;\">\n",
       "      <th></th>\n",
       "      <th>Guard</th>\n",
       "      <th>Guard</th>\n",
       "      <th>Forward</th>\n",
       "      <th>Forward</th>\n",
       "      <th>Center</th>\n",
       "    </tr>\n",
       "  </thead>\n",
       "  <tbody>\n",
       "    <tr>\n",
       "      <th>Predicted Team 1</th>\n",
       "      <td>Luka Dončić</td>\n",
       "      <td>Shai Gilgeous-Alexander</td>\n",
       "      <td>Giannis Antetokounmpo</td>\n",
       "      <td>Jayson Tatum</td>\n",
       "      <td>Joel Embiid</td>\n",
       "    </tr>\n",
       "    <tr>\n",
       "      <th>Predicted Team 2</th>\n",
       "      <td>James Harden</td>\n",
       "      <td>Damian Lillard</td>\n",
       "      <td>Jimmy Butler</td>\n",
       "      <td>LeBron James</td>\n",
       "      <td>Nikola Jokić</td>\n",
       "    </tr>\n",
       "    <tr>\n",
       "      <th>Predicted Team 3</th>\n",
       "      <td>Stephen Curry</td>\n",
       "      <td>Donovan Mitchell</td>\n",
       "      <td>Kevin Durant</td>\n",
       "      <td>Julius Randle</td>\n",
       "      <td>Anthony Davis</td>\n",
       "    </tr>\n",
       "    <tr>\n",
       "      <th>Predicted Team 4</th>\n",
       "      <td>Ja Morant</td>\n",
       "      <td>Trae Young</td>\n",
       "      <td>Pascal Siakam</td>\n",
       "      <td>Jaylen Brown</td>\n",
       "      <td>Domantas Sabonis</td>\n",
       "    </tr>\n",
       "  </tbody>\n",
       "</table>\n",
       "</div>"
      ],
      "text/plain": [
       "                          Guard                    Guard  \\\n",
       "Predicted Team 1    Luka Dončić  Shai Gilgeous-Alexander   \n",
       "Predicted Team 2   James Harden           Damian Lillard   \n",
       "Predicted Team 3  Stephen Curry         Donovan Mitchell   \n",
       "Predicted Team 4      Ja Morant               Trae Young   \n",
       "\n",
       "                                Forward        Forward            Center  \n",
       "Predicted Team 1  Giannis Antetokounmpo   Jayson Tatum       Joel Embiid  \n",
       "Predicted Team 2           Jimmy Butler   LeBron James      Nikola Jokić  \n",
       "Predicted Team 3           Kevin Durant  Julius Randle     Anthony Davis  \n",
       "Predicted Team 4          Pascal Siakam   Jaylen Brown  Domantas Sabonis  "
      ]
     },
     "execution_count": 36,
     "metadata": {},
     "output_type": "execute_result"
    }
   ],
   "source": [
    "pred_all_nba_df(log_preds_all, 2023)"
   ]
  },
  {
   "attachments": {},
   "cell_type": "markdown",
   "metadata": {},
   "source": [
    "# Random Forest Results"
   ]
  },
  {
   "attachments": {},
   "cell_type": "markdown",
   "metadata": {},
   "source": [
    "### Aggregate Results (Combining 3 Positional Models)"
   ]
  },
  {
   "cell_type": "code",
   "execution_count": 37,
   "metadata": {},
   "outputs": [
    {
     "name": "stdout",
     "output_type": "stream",
     "text": [
      "              precision    recall  f1-score   support\n",
      "\n",
      "           0       0.97      0.97      0.97       809\n",
      "           1       0.81      0.81      0.81       120\n",
      "\n",
      "    accuracy                           0.95       929\n",
      "   macro avg       0.89      0.89      0.89       929\n",
      "weighted avg       0.95      0.95      0.95       929\n",
      "\n"
     ]
    }
   ],
   "source": [
    "print(classification_report(rf_agg_preds['all_nba_c_year'], rf_agg_preds['pred_all_nba']))"
   ]
  },
  {
   "cell_type": "code",
   "execution_count": 38,
   "metadata": {},
   "outputs": [
    {
     "data": {
      "text/html": [
       "<div>\n",
       "<style scoped>\n",
       "    .dataframe tbody tr th:only-of-type {\n",
       "        vertical-align: middle;\n",
       "    }\n",
       "\n",
       "    .dataframe tbody tr th {\n",
       "        vertical-align: top;\n",
       "    }\n",
       "\n",
       "    .dataframe thead th {\n",
       "        text-align: right;\n",
       "    }\n",
       "</style>\n",
       "<table border=\"1\" class=\"dataframe\">\n",
       "  <thead>\n",
       "    <tr style=\"text-align: right;\">\n",
       "      <th></th>\n",
       "      <th>Guard</th>\n",
       "      <th>Guard</th>\n",
       "      <th>Forward</th>\n",
       "      <th>Forward</th>\n",
       "      <th>Center</th>\n",
       "    </tr>\n",
       "  </thead>\n",
       "  <tbody>\n",
       "    <tr>\n",
       "      <th>Predicted Team 1</th>\n",
       "      <td>Donovan Mitchell</td>\n",
       "      <td>Luka Dončić</td>\n",
       "      <td>Jayson Tatum</td>\n",
       "      <td>Giannis Antetokounmpo</td>\n",
       "      <td>Joel Embiid</td>\n",
       "    </tr>\n",
       "    <tr>\n",
       "      <th>Predicted Team 2</th>\n",
       "      <td>Shai Gilgeous-Alexander</td>\n",
       "      <td>Stephen Curry</td>\n",
       "      <td>Julius Randle</td>\n",
       "      <td>Kevin Durant</td>\n",
       "      <td>Nikola Jokić</td>\n",
       "    </tr>\n",
       "    <tr>\n",
       "      <th>Predicted Team 3</th>\n",
       "      <td>Damian Lillard</td>\n",
       "      <td>Ja Morant</td>\n",
       "      <td>LeBron James</td>\n",
       "      <td>Jimmy Butler</td>\n",
       "      <td>Domantas Sabonis</td>\n",
       "    </tr>\n",
       "    <tr>\n",
       "      <th>Predicted Team 4</th>\n",
       "      <td>James Harden</td>\n",
       "      <td>Jalen Brunson</td>\n",
       "      <td>Kawhi Leonard</td>\n",
       "      <td>Jaylen Brown</td>\n",
       "      <td>Anthony Davis</td>\n",
       "    </tr>\n",
       "  </tbody>\n",
       "</table>\n",
       "</div>"
      ],
      "text/plain": [
       "                                    Guard          Guard        Forward  \\\n",
       "Predicted Team 1         Donovan Mitchell    Luka Dončić   Jayson Tatum   \n",
       "Predicted Team 2  Shai Gilgeous-Alexander  Stephen Curry  Julius Randle   \n",
       "Predicted Team 3           Damian Lillard      Ja Morant   LeBron James   \n",
       "Predicted Team 4             James Harden  Jalen Brunson  Kawhi Leonard   \n",
       "\n",
       "                                Forward            Center  \n",
       "Predicted Team 1  Giannis Antetokounmpo       Joel Embiid  \n",
       "Predicted Team 2           Kevin Durant      Nikola Jokić  \n",
       "Predicted Team 3           Jimmy Butler  Domantas Sabonis  \n",
       "Predicted Team 4           Jaylen Brown     Anthony Davis  "
      ]
     },
     "execution_count": 38,
     "metadata": {},
     "output_type": "execute_result"
    }
   ],
   "source": [
    "pred_all_nba_df(rf_agg_preds, 2023)"
   ]
  },
  {
   "attachments": {},
   "cell_type": "markdown",
   "metadata": {},
   "source": [
    "### Full Model Results"
   ]
  },
  {
   "cell_type": "code",
   "execution_count": 39,
   "metadata": {},
   "outputs": [
    {
     "name": "stdout",
     "output_type": "stream",
     "text": [
      "              precision    recall  f1-score   support\n",
      "\n",
      "           0       0.97      0.97      0.97       809\n",
      "           1       0.78      0.78      0.78       120\n",
      "\n",
      "    accuracy                           0.94       929\n",
      "   macro avg       0.88      0.88      0.88       929\n",
      "weighted avg       0.94      0.94      0.94       929\n",
      "\n"
     ]
    }
   ],
   "source": [
    "print(classification_report(rf_preds_all['all_nba_c_year'], rf_preds_all['pred_all_nba']))"
   ]
  },
  {
   "cell_type": "code",
   "execution_count": 40,
   "metadata": {},
   "outputs": [
    {
     "data": {
      "text/html": [
       "<div>\n",
       "<style scoped>\n",
       "    .dataframe tbody tr th:only-of-type {\n",
       "        vertical-align: middle;\n",
       "    }\n",
       "\n",
       "    .dataframe tbody tr th {\n",
       "        vertical-align: top;\n",
       "    }\n",
       "\n",
       "    .dataframe thead th {\n",
       "        text-align: right;\n",
       "    }\n",
       "</style>\n",
       "<table border=\"1\" class=\"dataframe\">\n",
       "  <thead>\n",
       "    <tr style=\"text-align: right;\">\n",
       "      <th></th>\n",
       "      <th>Guard</th>\n",
       "      <th>Guard</th>\n",
       "      <th>Forward</th>\n",
       "      <th>Forward</th>\n",
       "      <th>Center</th>\n",
       "    </tr>\n",
       "  </thead>\n",
       "  <tbody>\n",
       "    <tr>\n",
       "      <th>Predicted Team 1</th>\n",
       "      <td>Donovan Mitchell</td>\n",
       "      <td>Stephen Curry</td>\n",
       "      <td>Jayson Tatum</td>\n",
       "      <td>Giannis Antetokounmpo</td>\n",
       "      <td>Joel Embiid</td>\n",
       "    </tr>\n",
       "    <tr>\n",
       "      <th>Predicted Team 2</th>\n",
       "      <td>Shai Gilgeous-Alexander</td>\n",
       "      <td>Luka Dončić</td>\n",
       "      <td>Jimmy Butler</td>\n",
       "      <td>Kevin Durant</td>\n",
       "      <td>Nikola Jokić</td>\n",
       "    </tr>\n",
       "    <tr>\n",
       "      <th>Predicted Team 3</th>\n",
       "      <td>Ja Morant</td>\n",
       "      <td>De'Aaron Fox</td>\n",
       "      <td>LeBron James</td>\n",
       "      <td>Julius Randle</td>\n",
       "      <td>Anthony Davis</td>\n",
       "    </tr>\n",
       "    <tr>\n",
       "      <th>Predicted Team 4</th>\n",
       "      <td>Jalen Brunson</td>\n",
       "      <td>James Harden</td>\n",
       "      <td>Kawhi Leonard</td>\n",
       "      <td>Pascal Siakam</td>\n",
       "      <td>Domantas Sabonis</td>\n",
       "    </tr>\n",
       "  </tbody>\n",
       "</table>\n",
       "</div>"
      ],
      "text/plain": [
       "                                    Guard          Guard        Forward  \\\n",
       "Predicted Team 1         Donovan Mitchell  Stephen Curry   Jayson Tatum   \n",
       "Predicted Team 2  Shai Gilgeous-Alexander    Luka Dončić   Jimmy Butler   \n",
       "Predicted Team 3                Ja Morant   De'Aaron Fox   LeBron James   \n",
       "Predicted Team 4            Jalen Brunson   James Harden  Kawhi Leonard   \n",
       "\n",
       "                                Forward            Center  \n",
       "Predicted Team 1  Giannis Antetokounmpo       Joel Embiid  \n",
       "Predicted Team 2           Kevin Durant      Nikola Jokić  \n",
       "Predicted Team 3          Julius Randle     Anthony Davis  \n",
       "Predicted Team 4          Pascal Siakam  Domantas Sabonis  "
      ]
     },
     "execution_count": 40,
     "metadata": {},
     "output_type": "execute_result"
    }
   ],
   "source": [
    "pred_all_nba_df(rf_preds_all, 2023)"
   ]
  },
  {
   "attachments": {},
   "cell_type": "markdown",
   "metadata": {},
   "source": [
    "# XGboost Results"
   ]
  },
  {
   "attachments": {},
   "cell_type": "markdown",
   "metadata": {},
   "source": [
    "### Aggregate Results (Combining 3 Positional Models)"
   ]
  },
  {
   "cell_type": "code",
   "execution_count": 41,
   "metadata": {},
   "outputs": [
    {
     "name": "stdout",
     "output_type": "stream",
     "text": [
      "              precision    recall  f1-score   support\n",
      "\n",
      "           0       0.97      0.97      0.97       809\n",
      "           1       0.81      0.81      0.81       120\n",
      "\n",
      "    accuracy                           0.95       929\n",
      "   macro avg       0.89      0.89      0.89       929\n",
      "weighted avg       0.95      0.95      0.95       929\n",
      "\n"
     ]
    }
   ],
   "source": [
    "print(classification_report(xg_agg_preds['all_nba_c_year'], xg_agg_preds['pred_all_nba']))"
   ]
  },
  {
   "cell_type": "code",
   "execution_count": 42,
   "metadata": {},
   "outputs": [
    {
     "data": {
      "text/html": [
       "<div>\n",
       "<style scoped>\n",
       "    .dataframe tbody tr th:only-of-type {\n",
       "        vertical-align: middle;\n",
       "    }\n",
       "\n",
       "    .dataframe tbody tr th {\n",
       "        vertical-align: top;\n",
       "    }\n",
       "\n",
       "    .dataframe thead th {\n",
       "        text-align: right;\n",
       "    }\n",
       "</style>\n",
       "<table border=\"1\" class=\"dataframe\">\n",
       "  <thead>\n",
       "    <tr style=\"text-align: right;\">\n",
       "      <th></th>\n",
       "      <th>Guard</th>\n",
       "      <th>Guard</th>\n",
       "      <th>Forward</th>\n",
       "      <th>Forward</th>\n",
       "      <th>Center</th>\n",
       "    </tr>\n",
       "  </thead>\n",
       "  <tbody>\n",
       "    <tr>\n",
       "      <th>Predicted Team 1</th>\n",
       "      <td>Stephen Curry</td>\n",
       "      <td>Ja Morant</td>\n",
       "      <td>Giannis Antetokounmpo</td>\n",
       "      <td>Jayson Tatum</td>\n",
       "      <td>Joel Embiid</td>\n",
       "    </tr>\n",
       "    <tr>\n",
       "      <th>Predicted Team 2</th>\n",
       "      <td>Jalen Brunson</td>\n",
       "      <td>Donovan Mitchell</td>\n",
       "      <td>Julius Randle</td>\n",
       "      <td>Kevin Durant</td>\n",
       "      <td>Nikola Jokić</td>\n",
       "    </tr>\n",
       "    <tr>\n",
       "      <th>Predicted Team 3</th>\n",
       "      <td>Luka Dončić</td>\n",
       "      <td>James Harden</td>\n",
       "      <td>LeBron James</td>\n",
       "      <td>Jaylen Brown</td>\n",
       "      <td>Anthony Davis</td>\n",
       "    </tr>\n",
       "    <tr>\n",
       "      <th>Predicted Team 4</th>\n",
       "      <td>Trae Young</td>\n",
       "      <td>Darius Garland</td>\n",
       "      <td>Jimmy Butler</td>\n",
       "      <td>Pascal Siakam</td>\n",
       "      <td>Domantas Sabonis</td>\n",
       "    </tr>\n",
       "  </tbody>\n",
       "</table>\n",
       "</div>"
      ],
      "text/plain": [
       "                          Guard             Guard                Forward  \\\n",
       "Predicted Team 1  Stephen Curry         Ja Morant  Giannis Antetokounmpo   \n",
       "Predicted Team 2  Jalen Brunson  Donovan Mitchell          Julius Randle   \n",
       "Predicted Team 3    Luka Dončić      James Harden           LeBron James   \n",
       "Predicted Team 4     Trae Young    Darius Garland           Jimmy Butler   \n",
       "\n",
       "                        Forward            Center  \n",
       "Predicted Team 1   Jayson Tatum       Joel Embiid  \n",
       "Predicted Team 2   Kevin Durant      Nikola Jokić  \n",
       "Predicted Team 3   Jaylen Brown     Anthony Davis  \n",
       "Predicted Team 4  Pascal Siakam  Domantas Sabonis  "
      ]
     },
     "execution_count": 42,
     "metadata": {},
     "output_type": "execute_result"
    }
   ],
   "source": [
    "pred_all_nba_df(xg_agg_preds, 2023)"
   ]
  },
  {
   "attachments": {},
   "cell_type": "markdown",
   "metadata": {},
   "source": [
    "### Full Model Results"
   ]
  },
  {
   "cell_type": "code",
   "execution_count": 43,
   "metadata": {},
   "outputs": [
    {
     "name": "stdout",
     "output_type": "stream",
     "text": [
      "              precision    recall  f1-score   support\n",
      "\n",
      "           0       0.97      0.97      0.97       809\n",
      "           1       0.80      0.80      0.80       120\n",
      "\n",
      "    accuracy                           0.95       929\n",
      "   macro avg       0.89      0.89      0.89       929\n",
      "weighted avg       0.95      0.95      0.95       929\n",
      "\n"
     ]
    }
   ],
   "source": [
    "print(classification_report(xg_preds_all['all_nba_c_year'], xg_preds_all['pred_all_nba']))"
   ]
  },
  {
   "cell_type": "code",
   "execution_count": 44,
   "metadata": {},
   "outputs": [
    {
     "data": {
      "text/html": [
       "<div>\n",
       "<style scoped>\n",
       "    .dataframe tbody tr th:only-of-type {\n",
       "        vertical-align: middle;\n",
       "    }\n",
       "\n",
       "    .dataframe tbody tr th {\n",
       "        vertical-align: top;\n",
       "    }\n",
       "\n",
       "    .dataframe thead th {\n",
       "        text-align: right;\n",
       "    }\n",
       "</style>\n",
       "<table border=\"1\" class=\"dataframe\">\n",
       "  <thead>\n",
       "    <tr style=\"text-align: right;\">\n",
       "      <th></th>\n",
       "      <th>Guard</th>\n",
       "      <th>Guard</th>\n",
       "      <th>Forward</th>\n",
       "      <th>Forward</th>\n",
       "      <th>Center</th>\n",
       "    </tr>\n",
       "  </thead>\n",
       "  <tbody>\n",
       "    <tr>\n",
       "      <th>Predicted Team 1</th>\n",
       "      <td>Donovan Mitchell</td>\n",
       "      <td>Luka Dončić</td>\n",
       "      <td>Jayson Tatum</td>\n",
       "      <td>Giannis Antetokounmpo</td>\n",
       "      <td>Joel Embiid</td>\n",
       "    </tr>\n",
       "    <tr>\n",
       "      <th>Predicted Team 2</th>\n",
       "      <td>Shai Gilgeous-Alexander</td>\n",
       "      <td>Ja Morant</td>\n",
       "      <td>LeBron James</td>\n",
       "      <td>Jimmy Butler</td>\n",
       "      <td>Nikola Jokić</td>\n",
       "    </tr>\n",
       "    <tr>\n",
       "      <th>Predicted Team 3</th>\n",
       "      <td>Stephen Curry</td>\n",
       "      <td>Damian Lillard</td>\n",
       "      <td>Kevin Durant</td>\n",
       "      <td>Julius Randle</td>\n",
       "      <td>Anthony Davis</td>\n",
       "    </tr>\n",
       "    <tr>\n",
       "      <th>Predicted Team 4</th>\n",
       "      <td>Jalen Brunson</td>\n",
       "      <td>James Harden</td>\n",
       "      <td>Kawhi Leonard</td>\n",
       "      <td>Pascal Siakam</td>\n",
       "      <td>Domantas Sabonis</td>\n",
       "    </tr>\n",
       "  </tbody>\n",
       "</table>\n",
       "</div>"
      ],
      "text/plain": [
       "                                    Guard           Guard        Forward  \\\n",
       "Predicted Team 1         Donovan Mitchell     Luka Dončić   Jayson Tatum   \n",
       "Predicted Team 2  Shai Gilgeous-Alexander       Ja Morant   LeBron James   \n",
       "Predicted Team 3            Stephen Curry  Damian Lillard   Kevin Durant   \n",
       "Predicted Team 4            Jalen Brunson    James Harden  Kawhi Leonard   \n",
       "\n",
       "                                Forward            Center  \n",
       "Predicted Team 1  Giannis Antetokounmpo       Joel Embiid  \n",
       "Predicted Team 2           Jimmy Butler      Nikola Jokić  \n",
       "Predicted Team 3          Julius Randle     Anthony Davis  \n",
       "Predicted Team 4          Pascal Siakam  Domantas Sabonis  "
      ]
     },
     "execution_count": 44,
     "metadata": {},
     "output_type": "execute_result"
    }
   ],
   "source": [
    "pred_all_nba_df(xg_preds_all, 2023)"
   ]
  },
  {
   "attachments": {},
   "cell_type": "markdown",
   "metadata": {},
   "source": [
    "# Ensemble Results"
   ]
  },
  {
   "attachments": {},
   "cell_type": "markdown",
   "metadata": {},
   "source": [
    "### Aggregate Results (Combining 3 Positional Models)"
   ]
  },
  {
   "cell_type": "code",
   "execution_count": 45,
   "metadata": {},
   "outputs": [
    {
     "name": "stdout",
     "output_type": "stream",
     "text": [
      "              precision    recall  f1-score   support\n",
      "\n",
      "           0       0.97      0.97      0.97       809\n",
      "           1       0.81      0.81      0.81       120\n",
      "\n",
      "    accuracy                           0.95       929\n",
      "   macro avg       0.89      0.89      0.89       929\n",
      "weighted avg       0.95      0.95      0.95       929\n",
      "\n"
     ]
    }
   ],
   "source": [
    "print(classification_report(ens_agg_preds['all_nba_c_year'], ens_agg_preds['pred_all_nba']))"
   ]
  },
  {
   "cell_type": "code",
   "execution_count": 46,
   "metadata": {},
   "outputs": [
    {
     "data": {
      "text/html": [
       "<div>\n",
       "<style scoped>\n",
       "    .dataframe tbody tr th:only-of-type {\n",
       "        vertical-align: middle;\n",
       "    }\n",
       "\n",
       "    .dataframe tbody tr th {\n",
       "        vertical-align: top;\n",
       "    }\n",
       "\n",
       "    .dataframe thead th {\n",
       "        text-align: right;\n",
       "    }\n",
       "</style>\n",
       "<table border=\"1\" class=\"dataframe\">\n",
       "  <thead>\n",
       "    <tr style=\"text-align: right;\">\n",
       "      <th></th>\n",
       "      <th>Guard</th>\n",
       "      <th>Guard</th>\n",
       "      <th>Forward</th>\n",
       "      <th>Forward</th>\n",
       "      <th>Center</th>\n",
       "    </tr>\n",
       "  </thead>\n",
       "  <tbody>\n",
       "    <tr>\n",
       "      <th>Predicted Team 1</th>\n",
       "      <td>Donovan Mitchell</td>\n",
       "      <td>Stephen Curry</td>\n",
       "      <td>Jayson Tatum</td>\n",
       "      <td>Giannis Antetokounmpo</td>\n",
       "      <td>Joel Embiid</td>\n",
       "    </tr>\n",
       "    <tr>\n",
       "      <th>Predicted Team 2</th>\n",
       "      <td>Luka Dončić</td>\n",
       "      <td>Ja Morant</td>\n",
       "      <td>Julius Randle</td>\n",
       "      <td>Kevin Durant</td>\n",
       "      <td>Nikola Jokić</td>\n",
       "    </tr>\n",
       "    <tr>\n",
       "      <th>Predicted Team 3</th>\n",
       "      <td>James Harden</td>\n",
       "      <td>Jalen Brunson</td>\n",
       "      <td>LeBron James</td>\n",
       "      <td>Jaylen Brown</td>\n",
       "      <td>Domantas Sabonis</td>\n",
       "    </tr>\n",
       "    <tr>\n",
       "      <th>Predicted Team 4</th>\n",
       "      <td>Shai Gilgeous-Alexander</td>\n",
       "      <td>Damian Lillard</td>\n",
       "      <td>Jimmy Butler</td>\n",
       "      <td>Pascal Siakam</td>\n",
       "      <td>Anthony Davis</td>\n",
       "    </tr>\n",
       "  </tbody>\n",
       "</table>\n",
       "</div>"
      ],
      "text/plain": [
       "                                    Guard           Guard        Forward  \\\n",
       "Predicted Team 1         Donovan Mitchell   Stephen Curry   Jayson Tatum   \n",
       "Predicted Team 2              Luka Dončić       Ja Morant  Julius Randle   \n",
       "Predicted Team 3             James Harden   Jalen Brunson   LeBron James   \n",
       "Predicted Team 4  Shai Gilgeous-Alexander  Damian Lillard   Jimmy Butler   \n",
       "\n",
       "                                Forward            Center  \n",
       "Predicted Team 1  Giannis Antetokounmpo       Joel Embiid  \n",
       "Predicted Team 2           Kevin Durant      Nikola Jokić  \n",
       "Predicted Team 3           Jaylen Brown  Domantas Sabonis  \n",
       "Predicted Team 4          Pascal Siakam     Anthony Davis  "
      ]
     },
     "execution_count": 46,
     "metadata": {},
     "output_type": "execute_result"
    }
   ],
   "source": [
    "pred_all_nba_df(ens_agg_preds, 2023)"
   ]
  },
  {
   "attachments": {},
   "cell_type": "markdown",
   "metadata": {},
   "source": [
    "### Full Model Results"
   ]
  },
  {
   "cell_type": "code",
   "execution_count": 47,
   "metadata": {},
   "outputs": [
    {
     "name": "stdout",
     "output_type": "stream",
     "text": [
      "              precision    recall  f1-score   support\n",
      "\n",
      "           0       0.97      0.97      0.97       809\n",
      "           1       0.80      0.80      0.80       120\n",
      "\n",
      "    accuracy                           0.95       929\n",
      "   macro avg       0.89      0.89      0.89       929\n",
      "weighted avg       0.95      0.95      0.95       929\n",
      "\n"
     ]
    }
   ],
   "source": [
    "print(classification_report(ens_preds_all['all_nba_c_year'], ens_preds_all['pred_all_nba']))"
   ]
  },
  {
   "cell_type": "code",
   "execution_count": 48,
   "metadata": {},
   "outputs": [
    {
     "data": {
      "text/html": [
       "<div>\n",
       "<style scoped>\n",
       "    .dataframe tbody tr th:only-of-type {\n",
       "        vertical-align: middle;\n",
       "    }\n",
       "\n",
       "    .dataframe tbody tr th {\n",
       "        vertical-align: top;\n",
       "    }\n",
       "\n",
       "    .dataframe thead th {\n",
       "        text-align: right;\n",
       "    }\n",
       "</style>\n",
       "<table border=\"1\" class=\"dataframe\">\n",
       "  <thead>\n",
       "    <tr style=\"text-align: right;\">\n",
       "      <th></th>\n",
       "      <th>Guard</th>\n",
       "      <th>Guard</th>\n",
       "      <th>Forward</th>\n",
       "      <th>Forward</th>\n",
       "      <th>Center</th>\n",
       "    </tr>\n",
       "  </thead>\n",
       "  <tbody>\n",
       "    <tr>\n",
       "      <th>Predicted Team 1</th>\n",
       "      <td>Donovan Mitchell</td>\n",
       "      <td>Luka Dončić</td>\n",
       "      <td>Jayson Tatum</td>\n",
       "      <td>Giannis Antetokounmpo</td>\n",
       "      <td>Joel Embiid</td>\n",
       "    </tr>\n",
       "    <tr>\n",
       "      <th>Predicted Team 2</th>\n",
       "      <td>Shai Gilgeous-Alexander</td>\n",
       "      <td>Ja Morant</td>\n",
       "      <td>LeBron James</td>\n",
       "      <td>Jimmy Butler</td>\n",
       "      <td>Nikola Jokić</td>\n",
       "    </tr>\n",
       "    <tr>\n",
       "      <th>Predicted Team 3</th>\n",
       "      <td>Stephen Curry</td>\n",
       "      <td>Damian Lillard</td>\n",
       "      <td>Kevin Durant</td>\n",
       "      <td>Julius Randle</td>\n",
       "      <td>Anthony Davis</td>\n",
       "    </tr>\n",
       "    <tr>\n",
       "      <th>Predicted Team 4</th>\n",
       "      <td>Jalen Brunson</td>\n",
       "      <td>James Harden</td>\n",
       "      <td>Kawhi Leonard</td>\n",
       "      <td>Pascal Siakam</td>\n",
       "      <td>Domantas Sabonis</td>\n",
       "    </tr>\n",
       "  </tbody>\n",
       "</table>\n",
       "</div>"
      ],
      "text/plain": [
       "                                    Guard           Guard        Forward  \\\n",
       "Predicted Team 1         Donovan Mitchell     Luka Dončić   Jayson Tatum   \n",
       "Predicted Team 2  Shai Gilgeous-Alexander       Ja Morant   LeBron James   \n",
       "Predicted Team 3            Stephen Curry  Damian Lillard   Kevin Durant   \n",
       "Predicted Team 4            Jalen Brunson    James Harden  Kawhi Leonard   \n",
       "\n",
       "                                Forward            Center  \n",
       "Predicted Team 1  Giannis Antetokounmpo       Joel Embiid  \n",
       "Predicted Team 2           Jimmy Butler      Nikola Jokić  \n",
       "Predicted Team 3          Julius Randle     Anthony Davis  \n",
       "Predicted Team 4          Pascal Siakam  Domantas Sabonis  "
      ]
     },
     "execution_count": 48,
     "metadata": {},
     "output_type": "execute_result"
    }
   ],
   "source": [
    "pred_all_nba_df(ens_preds_all, 2023)"
   ]
  },
  {
   "cell_type": "code",
   "execution_count": 49,
   "metadata": {},
   "outputs": [
    {
     "data": {
      "text/html": [
       "<div>\n",
       "<style scoped>\n",
       "    .dataframe tbody tr th:only-of-type {\n",
       "        vertical-align: middle;\n",
       "    }\n",
       "\n",
       "    .dataframe tbody tr th {\n",
       "        vertical-align: top;\n",
       "    }\n",
       "\n",
       "    .dataframe thead th {\n",
       "        text-align: right;\n",
       "    }\n",
       "</style>\n",
       "<table border=\"1\" class=\"dataframe\">\n",
       "  <thead>\n",
       "    <tr style=\"text-align: right;\">\n",
       "      <th></th>\n",
       "      <th>Model</th>\n",
       "      <th>Accuracy</th>\n",
       "      <th>Precision</th>\n",
       "      <th>Recall</th>\n",
       "      <th>F-1 Score</th>\n",
       "      <th>ROC-AUC</th>\n",
       "    </tr>\n",
       "  </thead>\n",
       "  <tbody>\n",
       "    <tr>\n",
       "      <th>0</th>\n",
       "      <td>Logistic Regression</td>\n",
       "      <td>0.956943</td>\n",
       "      <td>0.833333</td>\n",
       "      <td>0.833333</td>\n",
       "      <td>0.833333</td>\n",
       "      <td>0.990678</td>\n",
       "    </tr>\n",
       "    <tr>\n",
       "      <th>1</th>\n",
       "      <td>Random Forest</td>\n",
       "      <td>0.950484</td>\n",
       "      <td>0.808333</td>\n",
       "      <td>0.808333</td>\n",
       "      <td>0.808333</td>\n",
       "      <td>0.988000</td>\n",
       "    </tr>\n",
       "    <tr>\n",
       "      <th>2</th>\n",
       "      <td>XGBoost</td>\n",
       "      <td>0.950484</td>\n",
       "      <td>0.808333</td>\n",
       "      <td>0.808333</td>\n",
       "      <td>0.808333</td>\n",
       "      <td>0.982118</td>\n",
       "    </tr>\n",
       "    <tr>\n",
       "      <th>3</th>\n",
       "      <td>Ensemble</td>\n",
       "      <td>0.950484</td>\n",
       "      <td>0.808333</td>\n",
       "      <td>0.808333</td>\n",
       "      <td>0.808333</td>\n",
       "      <td>0.993665</td>\n",
       "    </tr>\n",
       "  </tbody>\n",
       "</table>\n",
       "</div>"
      ],
      "text/plain": [
       "                 Model  Accuracy  Precision    Recall  F-1 Score   ROC-AUC\n",
       "0  Logistic Regression  0.956943   0.833333  0.833333   0.833333  0.990678\n",
       "1        Random Forest  0.950484   0.808333  0.808333   0.808333  0.988000\n",
       "2              XGBoost  0.950484   0.808333  0.808333   0.808333  0.982118\n",
       "3             Ensemble  0.950484   0.808333  0.808333   0.808333  0.993665"
      ]
     },
     "execution_count": 49,
     "metadata": {},
     "output_type": "execute_result"
    }
   ],
   "source": [
    "from sklearn.metrics import precision_score, recall_score, f1_score, accuracy_score\n",
    "from sklearn.metrics import roc_curve, auc\n",
    "\n",
    "auc_scores = [auc(*roc_curve(log_agg_preds['pred_all_nba'], log_agg_preds['prob_all_nba'])[:2]),\n",
    "                auc(*roc_curve(rf_agg_preds['pred_all_nba'], rf_agg_preds['prob_all_nba'])[:2]),\n",
    "                auc(*roc_curve(xg_agg_preds['pred_all_nba'], xg_agg_preds['prob_all_nba'])[:2]),\n",
    "                auc(*roc_curve(ens_agg_preds['pred_all_nba'], ens_agg_preds['prob_all_nba'])[:2])]\n",
    "\n",
    "\n",
    "#Putting precision and recall and ROC-AUC score into a dataframe for all 4 models\n",
    "model_names = ['Logistic Regression', 'Random Forest', 'XGBoost', 'Ensemble']\n",
    "precision = [0,0,0,0]\n",
    "recall = [0,0,0,0]\n",
    "roc_auc = [0,0,0,0]\n",
    "f1_scores = [0,0,0,0]\n",
    "accuracy = [0,0,0,0]\n",
    "for i, preds in enumerate([log_agg_preds, rf_agg_preds, xg_agg_preds, ens_agg_preds]):\n",
    "    precision[i] = precision_score(preds['all_nba_c_year'], preds['pred_all_nba'])\n",
    "    recall[i] = recall_score(preds['all_nba_c_year'], preds['pred_all_nba'])\n",
    "    roc_auc[i] = auc_scores[i]\n",
    "    f1_scores[i] = f1_score(preds['all_nba_c_year'], preds['pred_all_nba'])\n",
    "    accuracy[i] = accuracy_score(preds['all_nba_c_year'], preds['pred_all_nba'])\n",
    "res_df = pd.DataFrame({'Model': model_names, 'Accuracy': accuracy, 'Precision': precision, 'Recall': recall, 'F-1 Score':f1_scores ,'ROC-AUC': roc_auc})\n",
    "res_df.to_csv('res/results_agg.csv', index=False)\n",
    "res_df"
   ]
  },
  {
   "cell_type": "code",
   "execution_count": 50,
   "metadata": {},
   "outputs": [
    {
     "data": {
      "text/html": [
       "<div>\n",
       "<style scoped>\n",
       "    .dataframe tbody tr th:only-of-type {\n",
       "        vertical-align: middle;\n",
       "    }\n",
       "\n",
       "    .dataframe tbody tr th {\n",
       "        vertical-align: top;\n",
       "    }\n",
       "\n",
       "    .dataframe thead th {\n",
       "        text-align: right;\n",
       "    }\n",
       "</style>\n",
       "<table border=\"1\" class=\"dataframe\">\n",
       "  <thead>\n",
       "    <tr style=\"text-align: right;\">\n",
       "      <th></th>\n",
       "      <th>Model</th>\n",
       "      <th>Accuracy</th>\n",
       "      <th>Precision</th>\n",
       "      <th>Recall</th>\n",
       "      <th>F-1 Score</th>\n",
       "      <th>ROC-AUC</th>\n",
       "    </tr>\n",
       "  </thead>\n",
       "  <tbody>\n",
       "    <tr>\n",
       "      <th>0</th>\n",
       "      <td>Logistic Regression</td>\n",
       "      <td>0.956943</td>\n",
       "      <td>0.833333</td>\n",
       "      <td>0.833333</td>\n",
       "      <td>0.833333</td>\n",
       "      <td>0.975371</td>\n",
       "    </tr>\n",
       "    <tr>\n",
       "      <th>1</th>\n",
       "      <td>Random Forest</td>\n",
       "      <td>0.944026</td>\n",
       "      <td>0.783333</td>\n",
       "      <td>0.783333</td>\n",
       "      <td>0.783333</td>\n",
       "      <td>0.972930</td>\n",
       "    </tr>\n",
       "    <tr>\n",
       "      <th>2</th>\n",
       "      <td>XGBoost</td>\n",
       "      <td>0.948332</td>\n",
       "      <td>0.800000</td>\n",
       "      <td>0.800000</td>\n",
       "      <td>0.800000</td>\n",
       "      <td>0.975762</td>\n",
       "    </tr>\n",
       "    <tr>\n",
       "      <th>3</th>\n",
       "      <td>Ensemble</td>\n",
       "      <td>0.948332</td>\n",
       "      <td>0.800000</td>\n",
       "      <td>0.800000</td>\n",
       "      <td>0.800000</td>\n",
       "      <td>0.974742</td>\n",
       "    </tr>\n",
       "  </tbody>\n",
       "</table>\n",
       "</div>"
      ],
      "text/plain": [
       "                 Model  Accuracy  Precision    Recall  F-1 Score   ROC-AUC\n",
       "0  Logistic Regression  0.956943   0.833333  0.833333   0.833333  0.975371\n",
       "1        Random Forest  0.944026   0.783333  0.783333   0.783333  0.972930\n",
       "2              XGBoost  0.948332   0.800000  0.800000   0.800000  0.975762\n",
       "3             Ensemble  0.948332   0.800000  0.800000   0.800000  0.974742"
      ]
     },
     "execution_count": 50,
     "metadata": {},
     "output_type": "execute_result"
    }
   ],
   "source": [
    "pd.read_csv('res/results_all.csv')"
   ]
  }
 ],
 "metadata": {
  "kernelspec": {
   "display_name": "base",
   "language": "python",
   "name": "python3"
  },
  "language_info": {
   "codemirror_mode": {
    "name": "ipython",
    "version": 3
   },
   "file_extension": ".py",
   "mimetype": "text/x-python",
   "name": "python",
   "nbconvert_exporter": "python",
   "pygments_lexer": "ipython3",
   "version": "3.9.12"
  },
  "orig_nbformat": 4
 },
 "nbformat": 4,
 "nbformat_minor": 2
}
