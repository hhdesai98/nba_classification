{
 "cells": [
  {
   "cell_type": "code",
   "execution_count": 2,
   "metadata": {},
   "outputs": [],
   "source": [
    "import pandas as pd\n",
    "import numpy as np\n",
    "import altair as alt"
   ]
  },
  {
   "attachments": {},
   "cell_type": "markdown",
   "metadata": {},
   "source": [
    "This notebook will run the All-NBA models on only the players who are regarded as Centers."
   ]
  },
  {
   "attachments": {},
   "cell_type": "markdown",
   "metadata": {},
   "source": [
    "# Data"
   ]
  },
  {
   "attachments": {},
   "cell_type": "markdown",
   "metadata": {},
   "source": [
    "### Data Filtering"
   ]
  },
  {
   "attachments": {},
   "cell_type": "markdown",
   "metadata": {},
   "source": [
    "We will filter our data based on variables like minutes played (`MP`), games played (`G`), since we know that these awards go to the best players in the NBA, and the best players tend to play a lot. In the new 2023 CBA (collective bargaining agreement), there is a minimum game requirement (65 games) that must be met in order to win All-NBA. However, since this rule was not in place for prior awards (where this data comes from), we can instead filter so that we only consider players who have played more games than the players with the least minutes played and games played that still won All-NBA."
   ]
  },
  {
   "attachments": {},
   "cell_type": "markdown",
   "metadata": {},
   "source": [
    "First we may fit a simpler model. Which players will make all-nba, versus which players won't given their current season stats? In this case we will ignore teams and instead only focus on the binary indicator. We may extract predicted teams by ordering the probabilities and constructing the teams in that way."
   ]
  },
  {
   "cell_type": "code",
   "execution_count": 3,
   "metadata": {},
   "outputs": [],
   "source": [
    "nba_train = pd.read_csv('Data_Scripting_Cleaning/Full_data/Training_Sets/nba_szn_train.csv')\n",
    "\n",
    "nba_test = pd.read_csv('Data_Scripting_Cleaning/Full_data/Test_Sets/nba_szn_test.csv')\n",
    "\n",
    "\n",
    "min_minutes = nba_train[(nba_train['all_nba_c_year']==1)].MP.min()\n",
    "min_G = nba_train[(nba_train['all_nba_c_year']==1)].G.min()\n",
    "nba_filt_train = nba_train[(nba_train['MP']>=min_minutes) & (nba_train['G']>=min_G)]\n",
    "nba_filt_test = nba_test[(nba_test['MP']>=min_minutes) & (nba_test['G']>=min_G)]\n",
    "\n",
    "nba_filt_train = nba_filt_train[nba_filt_train.Position == 'C']\n",
    "nba_filt_test = nba_filt_test[nba_filt_test.Position == 'C']\n",
    "\n",
    "y_train = nba_filt_train['all_nba_c_year']\n",
    "\n",
    "y_test = nba_filt_test['all_nba_c_year']"
   ]
  },
  {
   "attachments": {},
   "cell_type": "markdown",
   "metadata": {},
   "source": [
    "First we can examine the proportions of All-NBA in our dataset. We created the test and training set so that 9 random seasons were in the test set, and the rest were in training. This means our proportions should be similar for the classes in each set."
   ]
  },
  {
   "attachments": {},
   "cell_type": "markdown",
   "metadata": {},
   "source": [
    "For the training set we have:"
   ]
  },
  {
   "cell_type": "code",
   "execution_count": 4,
   "metadata": {},
   "outputs": [
    {
     "data": {
      "text/plain": [
       "0    0.826011\n",
       "1    0.173989\n",
       "Name: all_nba_c_year, dtype: float64"
      ]
     },
     "execution_count": 4,
     "metadata": {},
     "output_type": "execute_result"
    }
   ],
   "source": [
    "#Proportions of all_nba_c_year\n",
    "nba_filt_train['all_nba_c_year'].value_counts(normalize=True)"
   ]
  },
  {
   "attachments": {},
   "cell_type": "markdown",
   "metadata": {},
   "source": [
    "For the testing stat we have:"
   ]
  },
  {
   "cell_type": "code",
   "execution_count": 5,
   "metadata": {},
   "outputs": [
    {
     "data": {
      "text/plain": [
       "0    0.842105\n",
       "1    0.157895\n",
       "Name: all_nba_c_year, dtype: float64"
      ]
     },
     "execution_count": 5,
     "metadata": {},
     "output_type": "execute_result"
    }
   ],
   "source": [
    "nba_filt_test['all_nba_c_year'].value_counts(normalize=True)"
   ]
  },
  {
   "attachments": {},
   "cell_type": "markdown",
   "metadata": {},
   "source": [
    "Both sets have similar proportions as expected, but clearly we have an incredibly unbalanced dataset. To account for this, we may tune the `class-weights`/`class-weight` parameter which will place more weights on the All-NBA class in order to account for this imbalance"
   ]
  },
  {
   "attachments": {},
   "cell_type": "markdown",
   "metadata": {},
   "source": [
    "# Logistic Model"
   ]
  },
  {
   "attachments": {},
   "cell_type": "markdown",
   "metadata": {},
   "source": [
    "First we can describe the model of interest under a statistical framework. Denote the following quantities:\n",
    "1) y: an n x 1 vector, containing the binary variable of interest\n",
    "2) X: and n x (p+1) matrix, consisting of the feature variables and intercept\n",
    "3) $\\beta$: A (p+1) x 1 vector of coefficients.\n",
    "\n",
    "We will also use the following functions:\n",
    "\n",
    "1) $logit(p) = log(\\frac{p}{1-p})$; this is often denoted as the log-odds\n",
    "2) $expit(x) = \\frac{1}{1+exp(-x)}$; this is the inverse function of logit, i.e. $expit(x) = logit^{-1}(x)$"
   ]
  },
  {
   "attachments": {},
   "cell_type": "markdown",
   "metadata": {},
   "source": [
    "The model we will be utilizing is:\n",
    "$$\n",
    "y_i \\sim Bernoulli(p_i = expit(x_i^{T}\\beta))\n",
    "$$\n",
    "\n",
    "Where $x_i$ is the i'th row of the feature matrix X."
   ]
  },
  {
   "attachments": {},
   "cell_type": "markdown",
   "metadata": {},
   "source": [
    "If we assume independence (clearly broken here since player performance is clearly correlated across different seasons, but we will disregard this for now), then we have a likelihood function of the form:\n",
    "\n",
    "$$\n",
    "L(\\beta) = \\prod_{i=1}^n (expit(x_i^{T}\\beta))^{y_i}\\times (1-expit(x_i^{T}\\beta))^{1-y_i}\n",
    "$$\n",
    "\n",
    "Leading to a log-likelihood function (our unregularized negative objective function) of:\n",
    "\n",
    "$$\n",
    "\\ell(\\beta) = \\sum_{i=1}^n y_i(log(expit(x_i^{T}\\beta))) + (1-y_i)log(1-expit(x_i^{T}\\beta)) \\\\ = \\sum_{i=1}^n y_i(x_i^T\\beta)-log(1+exp(x_i^T\\beta))\n",
    "$$\n",
    "\n"
   ]
  },
  {
   "attachments": {},
   "cell_type": "markdown",
   "metadata": {},
   "source": [
    "Thus we will be finding:\n",
    "\n",
    "$$\n",
    "\\underset{\\beta}{min}\\sum_{i=1}^n -y_i(x_i^T\\beta)+log(1+exp(x_i^T\\beta)) + r(\\beta)\n",
    "$$\n",
    "\n",
    "where $r(\\beta)$ is a regularization term"
   ]
  },
  {
   "attachments": {},
   "cell_type": "markdown",
   "metadata": {},
   "source": [
    "For the L1 regularizer SKlearn specifically will be minimizing:\n",
    "$$\n",
    "\\underset{\\beta}{min} \\ C\\sum_{i=1}^n -y_i(x_i^T\\beta)+log(1+exp(x_i^T\\beta)) + \\sum_{i=0}^p|\\beta_i|\n",
    "$$\n",
    "\n",
    "Where the regularizing constant is given as C>0. This is a hyperparameter we must tune"
   ]
  },
  {
   "attachments": {},
   "cell_type": "markdown",
   "metadata": {},
   "source": [
    "One issue with this model, however, is that it does not know that only 15 (10 for year $\\leq$ 1988) are selected for All-NBA. So for our predictions, we will take the top 6 players in the C category ranking them by their outputted probabilities from the model. For cross validation (for tuning C), we will use the F1 score of these modified predictions"
   ]
  },
  {
   "attachments": {},
   "cell_type": "markdown",
   "metadata": {},
   "source": [
    "### Fitting Logistic Model to NBA Data"
   ]
  },
  {
   "attachments": {},
   "cell_type": "markdown",
   "metadata": {},
   "source": [
    "We will consider the following parameter grid for C. We will select the best C based off of k-fold cross validation, with k=5. We will also tune the class-weights as well."
   ]
  },
  {
   "cell_type": "code",
   "execution_count": 6,
   "metadata": {},
   "outputs": [],
   "source": [
    "#Create custom scoring function for CV\n",
    "from sklearn.metrics import f1_score\n",
    "def predicted_all_nba(nba_test_df, model):\n",
    "    test_df = nba_test_df.copy()\n",
    "    test_df.loc[:,'prob_all_nba'] = model.predict_proba(test_df)[:,1]\n",
    "    years = test_df['year'].unique()\n",
    "    test_df['pred_all_nba'] = 0\n",
    "    test_df['4th Team'] = 0\n",
    "    for year in years:\n",
    "\n",
    "        if year <= 1988:\n",
    "            C_all_nba = test_df[(test_df['year']==year) & (test_df['Position']=='C')].sort_values(by='prob_all_nba', ascending=False).head(3)['Player'].tolist()\n",
    "\n",
    "            test_df.loc[(test_df['year']==year) & (test_df['Player'].isin(C_all_nba[0:2])), 'pred_all_nba'] = 1\n",
    "            test_df.loc[(test_df['year']==year) & (test_df['Player'].isin(C_all_nba[2:3])), '4th Team'] = 1\n",
    "        else:\n",
    "            C_all_nba = test_df[(test_df['year']==year) & (test_df['Position']=='C')].sort_values(by='prob_all_nba', ascending=False).head(4)['Player'].tolist()\n",
    "\n",
    "            test_df.loc[(test_df['year']==year) & (test_df['Player'].isin(C_all_nba[0:3])), 'pred_all_nba'] = 1\n",
    "            test_df.loc[(test_df['year']==year) & (test_df['Player'].isin(C_all_nba[3:4])), '4th Team'] = 1\n",
    "\n",
    "    return test_df[['Player', 'year','Position', 'all_nba_tm','prob_all_nba','pred_all_nba','all_nba_c_year','4th Team']]\n",
    "\n",
    "\n",
    "from sklearn.metrics import f1_score\n",
    "\n",
    "def all_nba_f1(model, X, y):\n",
    "    y_pred = predicted_all_nba(X, model)['pred_all_nba']\n",
    "    return f1_score(y, y_pred)"
   ]
  },
  {
   "cell_type": "code",
   "execution_count": 7,
   "metadata": {},
   "outputs": [
    {
     "data": {
      "text/html": [
       "<style>#sk-container-id-1 {color: black;background-color: white;}#sk-container-id-1 pre{padding: 0;}#sk-container-id-1 div.sk-toggleable {background-color: white;}#sk-container-id-1 label.sk-toggleable__label {cursor: pointer;display: block;width: 100%;margin-bottom: 0;padding: 0.3em;box-sizing: border-box;text-align: center;}#sk-container-id-1 label.sk-toggleable__label-arrow:before {content: \"▸\";float: left;margin-right: 0.25em;color: #696969;}#sk-container-id-1 label.sk-toggleable__label-arrow:hover:before {color: black;}#sk-container-id-1 div.sk-estimator:hover label.sk-toggleable__label-arrow:before {color: black;}#sk-container-id-1 div.sk-toggleable__content {max-height: 0;max-width: 0;overflow: hidden;text-align: left;background-color: #f0f8ff;}#sk-container-id-1 div.sk-toggleable__content pre {margin: 0.2em;color: black;border-radius: 0.25em;background-color: #f0f8ff;}#sk-container-id-1 input.sk-toggleable__control:checked~div.sk-toggleable__content {max-height: 200px;max-width: 100%;overflow: auto;}#sk-container-id-1 input.sk-toggleable__control:checked~label.sk-toggleable__label-arrow:before {content: \"▾\";}#sk-container-id-1 div.sk-estimator input.sk-toggleable__control:checked~label.sk-toggleable__label {background-color: #d4ebff;}#sk-container-id-1 div.sk-label input.sk-toggleable__control:checked~label.sk-toggleable__label {background-color: #d4ebff;}#sk-container-id-1 input.sk-hidden--visually {border: 0;clip: rect(1px 1px 1px 1px);clip: rect(1px, 1px, 1px, 1px);height: 1px;margin: -1px;overflow: hidden;padding: 0;position: absolute;width: 1px;}#sk-container-id-1 div.sk-estimator {font-family: monospace;background-color: #f0f8ff;border: 1px dotted black;border-radius: 0.25em;box-sizing: border-box;margin-bottom: 0.5em;}#sk-container-id-1 div.sk-estimator:hover {background-color: #d4ebff;}#sk-container-id-1 div.sk-parallel-item::after {content: \"\";width: 100%;border-bottom: 1px solid gray;flex-grow: 1;}#sk-container-id-1 div.sk-label:hover label.sk-toggleable__label {background-color: #d4ebff;}#sk-container-id-1 div.sk-serial::before {content: \"\";position: absolute;border-left: 1px solid gray;box-sizing: border-box;top: 0;bottom: 0;left: 50%;z-index: 0;}#sk-container-id-1 div.sk-serial {display: flex;flex-direction: column;align-items: center;background-color: white;padding-right: 0.2em;padding-left: 0.2em;position: relative;}#sk-container-id-1 div.sk-item {position: relative;z-index: 1;}#sk-container-id-1 div.sk-parallel {display: flex;align-items: stretch;justify-content: center;background-color: white;position: relative;}#sk-container-id-1 div.sk-item::before, #sk-container-id-1 div.sk-parallel-item::before {content: \"\";position: absolute;border-left: 1px solid gray;box-sizing: border-box;top: 0;bottom: 0;left: 50%;z-index: -1;}#sk-container-id-1 div.sk-parallel-item {display: flex;flex-direction: column;z-index: 1;position: relative;background-color: white;}#sk-container-id-1 div.sk-parallel-item:first-child::after {align-self: flex-end;width: 50%;}#sk-container-id-1 div.sk-parallel-item:last-child::after {align-self: flex-start;width: 50%;}#sk-container-id-1 div.sk-parallel-item:only-child::after {width: 0;}#sk-container-id-1 div.sk-dashed-wrapped {border: 1px dashed gray;margin: 0 0.4em 0.5em 0.4em;box-sizing: border-box;padding-bottom: 0.4em;background-color: white;}#sk-container-id-1 div.sk-label label {font-family: monospace;font-weight: bold;display: inline-block;line-height: 1.2em;}#sk-container-id-1 div.sk-label-container {text-align: center;}#sk-container-id-1 div.sk-container {/* jupyter's `normalize.less` sets `[hidden] { display: none; }` but bootstrap.min.css set `[hidden] { display: none !important; }` so we also need the `!important` here to be able to override the default hidden behavior on the sphinx rendered scikit-learn.org. See: https://github.com/scikit-learn/scikit-learn/issues/21755 */display: inline-block !important;position: relative;}#sk-container-id-1 div.sk-text-repr-fallback {display: none;}</style><div id=\"sk-container-id-1\" class=\"sk-top-container\"><div class=\"sk-text-repr-fallback\"><pre>GridSearchCV(cv=5,\n",
       "             estimator=Pipeline(steps=[(&#x27;col_transform&#x27;,\n",
       "                                        ColumnTransformer(transformers=[(&#x27;select&#x27;,\n",
       "                                                                         &#x27;passthrough&#x27;,\n",
       "                                                                         [&#x27;Age&#x27;,\n",
       "                                                                          &#x27;G&#x27;,\n",
       "                                                                          &#x27;GS&#x27;,\n",
       "                                                                          &#x27;MP&#x27;,\n",
       "                                                                          &#x27;FG&#x27;,\n",
       "                                                                          &#x27;FGA&#x27;,\n",
       "                                                                          &#x27;FG%&#x27;,\n",
       "                                                                          &#x27;3P&#x27;,\n",
       "                                                                          &#x27;3PA&#x27;,\n",
       "                                                                          &#x27;3P%&#x27;,\n",
       "                                                                          &#x27;2P&#x27;,\n",
       "                                                                          &#x27;2PA&#x27;,\n",
       "                                                                          &#x27;2P%&#x27;,\n",
       "                                                                          &#x27;eFG%&#x27;,\n",
       "                                                                          &#x27;FT&#x27;,\n",
       "                                                                          &#x27;FTA&#x27;,\n",
       "                                                                          &#x27;FT%&#x27;,\n",
       "                                                                          &#x27;ORB&#x27;,\n",
       "                                                                          &#x27;DRB&#x27;,\n",
       "                                                                          &#x27;TRB&#x27;,\n",
       "                                                                          &#x27;AST&#x27;,\n",
       "                                                                          &#x27;STL&#x27;,\n",
       "                                                                          &#x27;BLK&#x27;,\n",
       "                                                                          &#x27;TOV&#x27;,\n",
       "                                                                          &#x27;PF&#x27;,\n",
       "                                                                          &#x27;PTS&#x27;,\n",
       "                                                                          &#x27;PER&#x27;,\n",
       "                                                                          &#x27;TS%&#x27;,\n",
       "                                                                          &#x27;3PAr&#x27;,\n",
       "                                                                          &#x27;FTr&#x27;, ...])])),\n",
       "                                       (&#x27;classifier&#x27;,\n",
       "                                        LogisticRegression(max_iter=10000,\n",
       "                                                           pe...\n",
       "                                                      {0: 0.3793103448275862,\n",
       "                                                       1: 0.6206896551724138},\n",
       "                                                      {0: 0.39655172413793105,\n",
       "                                                       1: 0.603448275862069},\n",
       "                                                      {0: 0.41379310344827586,\n",
       "                                                       1: 0.5862068965517242},\n",
       "                                                      {0: 0.43103448275862066,\n",
       "                                                       1: 0.5689655172413793},\n",
       "                                                      {0: 0.4482758620689655,\n",
       "                                                       1: 0.5517241379310345},\n",
       "                                                      {0: 0.46551724137931033,\n",
       "                                                       1: 0.5344827586206897},\n",
       "                                                      {0: 0.48275862068965514,\n",
       "                                                       1: 0.5172413793103449},\n",
       "                                                      {0: 0.5, 1: 0.5}]},\n",
       "             scoring=&lt;function all_nba_f1 at 0x143987280&gt;)</pre><b>In a Jupyter environment, please rerun this cell to show the HTML representation or trust the notebook. <br />On GitHub, the HTML representation is unable to render, please try loading this page with nbviewer.org.</b></div><div class=\"sk-container\" hidden><div class=\"sk-item sk-dashed-wrapped\"><div class=\"sk-label-container\"><div class=\"sk-label sk-toggleable\"><input class=\"sk-toggleable__control sk-hidden--visually\" id=\"sk-estimator-id-1\" type=\"checkbox\" ><label for=\"sk-estimator-id-1\" class=\"sk-toggleable__label sk-toggleable__label-arrow\">GridSearchCV</label><div class=\"sk-toggleable__content\"><pre>GridSearchCV(cv=5,\n",
       "             estimator=Pipeline(steps=[(&#x27;col_transform&#x27;,\n",
       "                                        ColumnTransformer(transformers=[(&#x27;select&#x27;,\n",
       "                                                                         &#x27;passthrough&#x27;,\n",
       "                                                                         [&#x27;Age&#x27;,\n",
       "                                                                          &#x27;G&#x27;,\n",
       "                                                                          &#x27;GS&#x27;,\n",
       "                                                                          &#x27;MP&#x27;,\n",
       "                                                                          &#x27;FG&#x27;,\n",
       "                                                                          &#x27;FGA&#x27;,\n",
       "                                                                          &#x27;FG%&#x27;,\n",
       "                                                                          &#x27;3P&#x27;,\n",
       "                                                                          &#x27;3PA&#x27;,\n",
       "                                                                          &#x27;3P%&#x27;,\n",
       "                                                                          &#x27;2P&#x27;,\n",
       "                                                                          &#x27;2PA&#x27;,\n",
       "                                                                          &#x27;2P%&#x27;,\n",
       "                                                                          &#x27;eFG%&#x27;,\n",
       "                                                                          &#x27;FT&#x27;,\n",
       "                                                                          &#x27;FTA&#x27;,\n",
       "                                                                          &#x27;FT%&#x27;,\n",
       "                                                                          &#x27;ORB&#x27;,\n",
       "                                                                          &#x27;DRB&#x27;,\n",
       "                                                                          &#x27;TRB&#x27;,\n",
       "                                                                          &#x27;AST&#x27;,\n",
       "                                                                          &#x27;STL&#x27;,\n",
       "                                                                          &#x27;BLK&#x27;,\n",
       "                                                                          &#x27;TOV&#x27;,\n",
       "                                                                          &#x27;PF&#x27;,\n",
       "                                                                          &#x27;PTS&#x27;,\n",
       "                                                                          &#x27;PER&#x27;,\n",
       "                                                                          &#x27;TS%&#x27;,\n",
       "                                                                          &#x27;3PAr&#x27;,\n",
       "                                                                          &#x27;FTr&#x27;, ...])])),\n",
       "                                       (&#x27;classifier&#x27;,\n",
       "                                        LogisticRegression(max_iter=10000,\n",
       "                                                           pe...\n",
       "                                                      {0: 0.3793103448275862,\n",
       "                                                       1: 0.6206896551724138},\n",
       "                                                      {0: 0.39655172413793105,\n",
       "                                                       1: 0.603448275862069},\n",
       "                                                      {0: 0.41379310344827586,\n",
       "                                                       1: 0.5862068965517242},\n",
       "                                                      {0: 0.43103448275862066,\n",
       "                                                       1: 0.5689655172413793},\n",
       "                                                      {0: 0.4482758620689655,\n",
       "                                                       1: 0.5517241379310345},\n",
       "                                                      {0: 0.46551724137931033,\n",
       "                                                       1: 0.5344827586206897},\n",
       "                                                      {0: 0.48275862068965514,\n",
       "                                                       1: 0.5172413793103449},\n",
       "                                                      {0: 0.5, 1: 0.5}]},\n",
       "             scoring=&lt;function all_nba_f1 at 0x143987280&gt;)</pre></div></div></div><div class=\"sk-parallel\"><div class=\"sk-parallel-item\"><div class=\"sk-item\"><div class=\"sk-label-container\"><div class=\"sk-label sk-toggleable\"><input class=\"sk-toggleable__control sk-hidden--visually\" id=\"sk-estimator-id-2\" type=\"checkbox\" ><label for=\"sk-estimator-id-2\" class=\"sk-toggleable__label sk-toggleable__label-arrow\">estimator: Pipeline</label><div class=\"sk-toggleable__content\"><pre>Pipeline(steps=[(&#x27;col_transform&#x27;,\n",
       "                 ColumnTransformer(transformers=[(&#x27;select&#x27;, &#x27;passthrough&#x27;,\n",
       "                                                  [&#x27;Age&#x27;, &#x27;G&#x27;, &#x27;GS&#x27;, &#x27;MP&#x27;, &#x27;FG&#x27;,\n",
       "                                                   &#x27;FGA&#x27;, &#x27;FG%&#x27;, &#x27;3P&#x27;, &#x27;3PA&#x27;,\n",
       "                                                   &#x27;3P%&#x27;, &#x27;2P&#x27;, &#x27;2PA&#x27;, &#x27;2P%&#x27;,\n",
       "                                                   &#x27;eFG%&#x27;, &#x27;FT&#x27;, &#x27;FTA&#x27;, &#x27;FT%&#x27;,\n",
       "                                                   &#x27;ORB&#x27;, &#x27;DRB&#x27;, &#x27;TRB&#x27;, &#x27;AST&#x27;,\n",
       "                                                   &#x27;STL&#x27;, &#x27;BLK&#x27;, &#x27;TOV&#x27;, &#x27;PF&#x27;,\n",
       "                                                   &#x27;PTS&#x27;, &#x27;PER&#x27;, &#x27;TS%&#x27;, &#x27;3PAr&#x27;,\n",
       "                                                   &#x27;FTr&#x27;, ...])])),\n",
       "                (&#x27;classifier&#x27;,\n",
       "                 LogisticRegression(max_iter=10000, penalty=&#x27;l1&#x27;,\n",
       "                                    random_state=0, solver=&#x27;liblinear&#x27;))])</pre></div></div></div><div class=\"sk-serial\"><div class=\"sk-item\"><div class=\"sk-serial\"><div class=\"sk-item sk-dashed-wrapped\"><div class=\"sk-label-container\"><div class=\"sk-label sk-toggleable\"><input class=\"sk-toggleable__control sk-hidden--visually\" id=\"sk-estimator-id-3\" type=\"checkbox\" ><label for=\"sk-estimator-id-3\" class=\"sk-toggleable__label sk-toggleable__label-arrow\">col_transform: ColumnTransformer</label><div class=\"sk-toggleable__content\"><pre>ColumnTransformer(transformers=[(&#x27;select&#x27;, &#x27;passthrough&#x27;,\n",
       "                                 [&#x27;Age&#x27;, &#x27;G&#x27;, &#x27;GS&#x27;, &#x27;MP&#x27;, &#x27;FG&#x27;, &#x27;FGA&#x27;, &#x27;FG%&#x27;,\n",
       "                                  &#x27;3P&#x27;, &#x27;3PA&#x27;, &#x27;3P%&#x27;, &#x27;2P&#x27;, &#x27;2PA&#x27;, &#x27;2P%&#x27;,\n",
       "                                  &#x27;eFG%&#x27;, &#x27;FT&#x27;, &#x27;FTA&#x27;, &#x27;FT%&#x27;, &#x27;ORB&#x27;, &#x27;DRB&#x27;,\n",
       "                                  &#x27;TRB&#x27;, &#x27;AST&#x27;, &#x27;STL&#x27;, &#x27;BLK&#x27;, &#x27;TOV&#x27;, &#x27;PF&#x27;,\n",
       "                                  &#x27;PTS&#x27;, &#x27;PER&#x27;, &#x27;TS%&#x27;, &#x27;3PAr&#x27;, &#x27;FTr&#x27;, ...])])</pre></div></div></div><div class=\"sk-parallel\"><div class=\"sk-parallel-item\"><div class=\"sk-item\"><div class=\"sk-label-container\"><div class=\"sk-label sk-toggleable\"><input class=\"sk-toggleable__control sk-hidden--visually\" id=\"sk-estimator-id-4\" type=\"checkbox\" ><label for=\"sk-estimator-id-4\" class=\"sk-toggleable__label sk-toggleable__label-arrow\">select</label><div class=\"sk-toggleable__content\"><pre>[&#x27;Age&#x27;, &#x27;G&#x27;, &#x27;GS&#x27;, &#x27;MP&#x27;, &#x27;FG&#x27;, &#x27;FGA&#x27;, &#x27;FG%&#x27;, &#x27;3P&#x27;, &#x27;3PA&#x27;, &#x27;3P%&#x27;, &#x27;2P&#x27;, &#x27;2PA&#x27;, &#x27;2P%&#x27;, &#x27;eFG%&#x27;, &#x27;FT&#x27;, &#x27;FTA&#x27;, &#x27;FT%&#x27;, &#x27;ORB&#x27;, &#x27;DRB&#x27;, &#x27;TRB&#x27;, &#x27;AST&#x27;, &#x27;STL&#x27;, &#x27;BLK&#x27;, &#x27;TOV&#x27;, &#x27;PF&#x27;, &#x27;PTS&#x27;, &#x27;PER&#x27;, &#x27;TS%&#x27;, &#x27;3PAr&#x27;, &#x27;FTr&#x27;, &#x27;ORB%&#x27;, &#x27;DRB%&#x27;, &#x27;TRB%&#x27;, &#x27;AST%&#x27;, &#x27;STL%&#x27;, &#x27;BLK%&#x27;, &#x27;TOV%&#x27;, &#x27;USG%&#x27;, &#x27;OWS&#x27;, &#x27;DWS&#x27;, &#x27;WS&#x27;, &#x27;WS/48&#x27;, &#x27;OBPM&#x27;, &#x27;DBPM&#x27;, &#x27;BPM&#x27;, &#x27;VORP&#x27;, &#x27;W&#x27;, &#x27;num_all_nba&#x27;, &#x27;seed&#x27;]</pre></div></div></div><div class=\"sk-serial\"><div class=\"sk-item\"><div class=\"sk-estimator sk-toggleable\"><input class=\"sk-toggleable__control sk-hidden--visually\" id=\"sk-estimator-id-5\" type=\"checkbox\" ><label for=\"sk-estimator-id-5\" class=\"sk-toggleable__label sk-toggleable__label-arrow\">passthrough</label><div class=\"sk-toggleable__content\"><pre>passthrough</pre></div></div></div></div></div></div></div></div><div class=\"sk-item\"><div class=\"sk-estimator sk-toggleable\"><input class=\"sk-toggleable__control sk-hidden--visually\" id=\"sk-estimator-id-6\" type=\"checkbox\" ><label for=\"sk-estimator-id-6\" class=\"sk-toggleable__label sk-toggleable__label-arrow\">LogisticRegression</label><div class=\"sk-toggleable__content\"><pre>LogisticRegression(max_iter=10000, penalty=&#x27;l1&#x27;, random_state=0,\n",
       "                   solver=&#x27;liblinear&#x27;)</pre></div></div></div></div></div></div></div></div></div></div></div></div>"
      ],
      "text/plain": [
       "GridSearchCV(cv=5,\n",
       "             estimator=Pipeline(steps=[('col_transform',\n",
       "                                        ColumnTransformer(transformers=[('select',\n",
       "                                                                         'passthrough',\n",
       "                                                                         ['Age',\n",
       "                                                                          'G',\n",
       "                                                                          'GS',\n",
       "                                                                          'MP',\n",
       "                                                                          'FG',\n",
       "                                                                          'FGA',\n",
       "                                                                          'FG%',\n",
       "                                                                          '3P',\n",
       "                                                                          '3PA',\n",
       "                                                                          '3P%',\n",
       "                                                                          '2P',\n",
       "                                                                          '2PA',\n",
       "                                                                          '2P%',\n",
       "                                                                          'eFG%',\n",
       "                                                                          'FT',\n",
       "                                                                          'FTA',\n",
       "                                                                          'FT%',\n",
       "                                                                          'ORB',\n",
       "                                                                          'DRB',\n",
       "                                                                          'TRB',\n",
       "                                                                          'AST',\n",
       "                                                                          'STL',\n",
       "                                                                          'BLK',\n",
       "                                                                          'TOV',\n",
       "                                                                          'PF',\n",
       "                                                                          'PTS',\n",
       "                                                                          'PER',\n",
       "                                                                          'TS%',\n",
       "                                                                          '3PAr',\n",
       "                                                                          'FTr', ...])])),\n",
       "                                       ('classifier',\n",
       "                                        LogisticRegression(max_iter=10000,\n",
       "                                                           pe...\n",
       "                                                      {0: 0.3793103448275862,\n",
       "                                                       1: 0.6206896551724138},\n",
       "                                                      {0: 0.39655172413793105,\n",
       "                                                       1: 0.603448275862069},\n",
       "                                                      {0: 0.41379310344827586,\n",
       "                                                       1: 0.5862068965517242},\n",
       "                                                      {0: 0.43103448275862066,\n",
       "                                                       1: 0.5689655172413793},\n",
       "                                                      {0: 0.4482758620689655,\n",
       "                                                       1: 0.5517241379310345},\n",
       "                                                      {0: 0.46551724137931033,\n",
       "                                                       1: 0.5344827586206897},\n",
       "                                                      {0: 0.48275862068965514,\n",
       "                                                       1: 0.5172413793103449},\n",
       "                                                      {0: 0.5, 1: 0.5}]},\n",
       "             scoring=<function all_nba_f1 at 0x143987280>)"
      ]
     },
     "execution_count": 7,
     "metadata": {},
     "output_type": "execute_result"
    }
   ],
   "source": [
    "from sklearn.compose import ColumnTransformer\n",
    "from sklearn.pipeline import Pipeline\n",
    "from sklearn.preprocessing import OneHotEncoder\n",
    "from sklearn.linear_model import LogisticRegression\n",
    "from sklearn.model_selection import GridSearchCV\n",
    "\n",
    "num_features = ['Age','G', \n",
    "                'GS', 'MP',\n",
    "                'FG', 'FGA', \n",
    "                'FG%', \n",
    "                '3P', '3PA', '3P%',\n",
    "                '2P', '2PA', \n",
    "                '2P%', 'eFG%', \n",
    "                'FT', 'FTA', 'FT%', \n",
    "                'ORB', \n",
    "                'DRB', \n",
    "                'TRB',\n",
    "                'AST', 'STL', 'BLK', 'TOV', 'PF', 'PTS', 'PER', \n",
    "                'TS%', '3PAr', 'FTr',\n",
    "                'ORB%', 'DRB%', 'TRB%', 'AST%', 'STL%', 'BLK%', 'TOV%', 'USG%', \n",
    "                'OWS',\n",
    "                'DWS',\n",
    "                'WS', \n",
    "                'WS/48', \n",
    "                'OBPM', \n",
    "                'DBPM', \n",
    "                'BPM', \n",
    "                'VORP', 'W',\n",
    "                'num_all_nba',\n",
    "                'seed'\n",
    "                ]\n",
    "\n",
    "#cat_features = ['Tm']\n",
    "\n",
    "#Now I will create a pipeline where I extract my_features, and apply OHE to cat_features\n",
    "ct = ColumnTransformer(\n",
    "    [(\"select\", \"passthrough\", num_features),\n",
    "     #(\"ohe\", OneHotEncoder(handle_unknown=\"ignore\"), cat_features)\n",
    "     ],\n",
    "     remainder=\"drop\"\n",
    ")\n",
    "\n",
    "\n",
    "\n",
    "clf1 = Pipeline([\n",
    "    (\"col_transform\", ct),\n",
    "    (\"classifier\", LogisticRegression(penalty = 'l1', solver = 'liblinear', \n",
    "                                      max_iter = 10000, \n",
    "                                      random_state=0\n",
    "                                      ))\n",
    "])\n",
    "\n",
    "#will create parameter grid for gridsearch for C and class_weight\n",
    "#Setting the range for class weights\n",
    "#We know we wish to put more weight on 1's so we can truncate the search space to 0 to .5\n",
    "log_weights = np.linspace(0,.5,30)\n",
    "c_grid = [0.001, 0.01, 0.1, .2, .3, .4, .5, .7, .8, 1, 3, 5 ,10, 20, 50, 100, 1000]\n",
    "\n",
    "log_param_grid = {\n",
    "    'classifier__C': c_grid,\n",
    "    'classifier__class_weight': [{0: x, 1: 1.0-x} for x in log_weights]\n",
    "}\n",
    "\n",
    "#do gridsearch using all_nba_f1 as scoring metric\n",
    "log_model = GridSearchCV(clf1, log_param_grid, cv=5,              \n",
    "                           scoring=all_nba_f1,\n",
    "                           n_jobs=-1)\n",
    "log_model.fit(nba_filt_train, y_train)"
   ]
  },
  {
   "cell_type": "code",
   "execution_count": 8,
   "metadata": {},
   "outputs": [
    {
     "data": {
      "text/plain": [
       "{'classifier__C': 5,\n",
       " 'classifier__class_weight': {0: 0.034482758620689655, 1: 0.9655172413793104}}"
      ]
     },
     "execution_count": 8,
     "metadata": {},
     "output_type": "execute_result"
    }
   ],
   "source": [
    "log_model.best_params_"
   ]
  },
  {
   "attachments": {},
   "cell_type": "markdown",
   "metadata": {},
   "source": [
    "### Logistic Results"
   ]
  },
  {
   "attachments": {},
   "cell_type": "markdown",
   "metadata": {},
   "source": [
    "We now have the following metrics for our model."
   ]
  },
  {
   "cell_type": "code",
   "execution_count": 9,
   "metadata": {},
   "outputs": [],
   "source": [
    "log_c_preds = predicted_all_nba(nba_filt_test, log_model)\n",
    "log_preds = log_c_preds['pred_all_nba']\n",
    "\n",
    "log_c_preds.to_csv(\"test_preds/log_preds_c.csv\")"
   ]
  },
  {
   "cell_type": "code",
   "execution_count": 10,
   "metadata": {},
   "outputs": [
    {
     "name": "stdout",
     "output_type": "stream",
     "text": [
      "              precision    recall  f1-score   support\n",
      "\n",
      "           0       0.98      0.98      0.98       128\n",
      "           1       0.88      0.88      0.88        24\n",
      "\n",
      "    accuracy                           0.96       152\n",
      "   macro avg       0.93      0.93      0.93       152\n",
      "weighted avg       0.96      0.96      0.96       152\n",
      "\n"
     ]
    }
   ],
   "source": [
    "from sklearn.metrics import classification_report\n",
    "print(classification_report(y_test, log_preds))"
   ]
  },
  {
   "attachments": {},
   "cell_type": "markdown",
   "metadata": {},
   "source": [
    "We see that our precision and recall are not too bad for this model. Precision is the percentage of predicted positives that were true positives (how good are your guesses), and recall is the the percentage of predicted positives from the truth positives (how many of the positives did you correctly identify)."
   ]
  },
  {
   "attachments": {},
   "cell_type": "markdown",
   "metadata": {},
   "source": [
    "Looking at the confusion matrix for these results we see that we had 3 false postives, and 3 false negatives. This is quite low, but we only have 24 positives in this test set, so it accounts for about 1/7 of our data."
   ]
  },
  {
   "cell_type": "code",
   "execution_count": 11,
   "metadata": {},
   "outputs": [
    {
     "data": {
      "text/html": [
       "<div>\n",
       "<style scoped>\n",
       "    .dataframe tbody tr th:only-of-type {\n",
       "        vertical-align: middle;\n",
       "    }\n",
       "\n",
       "    .dataframe tbody tr th {\n",
       "        vertical-align: top;\n",
       "    }\n",
       "\n",
       "    .dataframe thead th {\n",
       "        text-align: right;\n",
       "    }\n",
       "</style>\n",
       "<table border=\"1\" class=\"dataframe\">\n",
       "  <thead>\n",
       "    <tr style=\"text-align: right;\">\n",
       "      <th>Predicted</th>\n",
       "      <th>0</th>\n",
       "      <th>1</th>\n",
       "    </tr>\n",
       "    <tr>\n",
       "      <th>Actual</th>\n",
       "      <th></th>\n",
       "      <th></th>\n",
       "    </tr>\n",
       "  </thead>\n",
       "  <tbody>\n",
       "    <tr>\n",
       "      <th>0</th>\n",
       "      <td>125</td>\n",
       "      <td>3</td>\n",
       "    </tr>\n",
       "    <tr>\n",
       "      <th>1</th>\n",
       "      <td>3</td>\n",
       "      <td>21</td>\n",
       "    </tr>\n",
       "  </tbody>\n",
       "</table>\n",
       "</div>"
      ],
      "text/plain": [
       "Predicted    0   1\n",
       "Actual            \n",
       "0          125   3\n",
       "1            3  21"
      ]
     },
     "execution_count": 11,
     "metadata": {},
     "output_type": "execute_result"
    }
   ],
   "source": [
    "pd.crosstab(y_test,  log_preds, rownames=[\"Actual\"], colnames=[\"Predicted\"])"
   ]
  },
  {
   "attachments": {},
   "cell_type": "markdown",
   "metadata": {},
   "source": [
    "We also see that our L1 penalty greatly reduced the number of coefficients, by looking at the size of the dataframes below. The first is the dimension of the whole feature space, while the second is the dimension of the non-zero feature space"
   ]
  },
  {
   "cell_type": "code",
   "execution_count": 12,
   "metadata": {},
   "outputs": [
    {
     "data": {
      "text/plain": [
       "(49, 2)"
      ]
     },
     "execution_count": 12,
     "metadata": {},
     "output_type": "execute_result"
    }
   ],
   "source": [
    "#Now we will extract the feature names from the pipeline\n",
    "feature_names = log_model.best_estimator_.named_steps['col_transform'].get_feature_names_out()\n",
    "coef_df = pd.DataFrame({'coef':log_model.best_estimator_['classifier'].coef_[0]\n",
    "                        ,'var':feature_names})\n",
    "coef_df.shape"
   ]
  },
  {
   "cell_type": "code",
   "execution_count": 13,
   "metadata": {},
   "outputs": [
    {
     "data": {
      "text/plain": [
       "(20, 2)"
      ]
     },
     "execution_count": 13,
     "metadata": {},
     "output_type": "execute_result"
    }
   ],
   "source": [
    "coef_df_nz = coef_df[coef_df['coef']!=0]\n",
    "coef_df_nz.shape"
   ]
  },
  {
   "attachments": {},
   "cell_type": "markdown",
   "metadata": {},
   "source": [
    "We see from our coefficient plot that VORP and FG's seems to have the highest impact on the log-odds of winning All-NBA, while 3PA has the biggest negative impact. This may be due to centers not often shooting the ball as much as smaller players (guards and forwards), so centers who shoot quite a bit may be more niche players rather than stars. "
   ]
  },
  {
   "cell_type": "code",
   "execution_count": 14,
   "metadata": {},
   "outputs": [
    {
     "data": {
      "text/html": [
       "\n",
       "<div id=\"altair-viz-5e42d98d4bbf4c1f87f18d97b9669a0e\"></div>\n",
       "<script type=\"text/javascript\">\n",
       "  var VEGA_DEBUG = (typeof VEGA_DEBUG == \"undefined\") ? {} : VEGA_DEBUG;\n",
       "  (function(spec, embedOpt){\n",
       "    let outputDiv = document.currentScript.previousElementSibling;\n",
       "    if (outputDiv.id !== \"altair-viz-5e42d98d4bbf4c1f87f18d97b9669a0e\") {\n",
       "      outputDiv = document.getElementById(\"altair-viz-5e42d98d4bbf4c1f87f18d97b9669a0e\");\n",
       "    }\n",
       "    const paths = {\n",
       "      \"vega\": \"https://cdn.jsdelivr.net/npm//vega@5?noext\",\n",
       "      \"vega-lib\": \"https://cdn.jsdelivr.net/npm//vega-lib?noext\",\n",
       "      \"vega-lite\": \"https://cdn.jsdelivr.net/npm//vega-lite@4.17.0?noext\",\n",
       "      \"vega-embed\": \"https://cdn.jsdelivr.net/npm//vega-embed@6?noext\",\n",
       "    };\n",
       "\n",
       "    function maybeLoadScript(lib, version) {\n",
       "      var key = `${lib.replace(\"-\", \"\")}_version`;\n",
       "      return (VEGA_DEBUG[key] == version) ?\n",
       "        Promise.resolve(paths[lib]) :\n",
       "        new Promise(function(resolve, reject) {\n",
       "          var s = document.createElement('script');\n",
       "          document.getElementsByTagName(\"head\")[0].appendChild(s);\n",
       "          s.async = true;\n",
       "          s.onload = () => {\n",
       "            VEGA_DEBUG[key] = version;\n",
       "            return resolve(paths[lib]);\n",
       "          };\n",
       "          s.onerror = () => reject(`Error loading script: ${paths[lib]}`);\n",
       "          s.src = paths[lib];\n",
       "        });\n",
       "    }\n",
       "\n",
       "    function showError(err) {\n",
       "      outputDiv.innerHTML = `<div class=\"error\" style=\"color:red;\">${err}</div>`;\n",
       "      throw err;\n",
       "    }\n",
       "\n",
       "    function displayChart(vegaEmbed) {\n",
       "      vegaEmbed(outputDiv, spec, embedOpt)\n",
       "        .catch(err => showError(`Javascript Error: ${err.message}<br>This usually means there's a typo in your chart specification. See the javascript console for the full traceback.`));\n",
       "    }\n",
       "\n",
       "    if(typeof define === \"function\" && define.amd) {\n",
       "      requirejs.config({paths});\n",
       "      require([\"vega-embed\"], displayChart, err => showError(`Error loading script: ${err.message}`));\n",
       "    } else {\n",
       "      maybeLoadScript(\"vega\", \"5\")\n",
       "        .then(() => maybeLoadScript(\"vega-lite\", \"4.17.0\"))\n",
       "        .then(() => maybeLoadScript(\"vega-embed\", \"6\"))\n",
       "        .catch(showError)\n",
       "        .then(() => displayChart(vegaEmbed));\n",
       "    }\n",
       "  })({\"config\": {\"view\": {\"continuousWidth\": 400, \"continuousHeight\": 300}}, \"data\": {\"name\": \"data-0ea2437c1e59027af91227d54a8fdc6d\"}, \"mark\": \"bar\", \"encoding\": {\"x\": {\"field\": \"var\", \"sort\": \"-y\", \"title\": \"Variable\", \"type\": \"nominal\"}, \"y\": {\"field\": \"coef\", \"title\": \"Coefficient\", \"type\": \"quantitative\"}}, \"$schema\": \"https://vega.github.io/schema/vega-lite/v4.17.0.json\", \"datasets\": {\"data-0ea2437c1e59027af91227d54a8fdc6d\": [{\"coef\": 0.07511068188048547, \"var\": \"select__Age\"}, {\"coef\": 0.9026016984564157, \"var\": \"select__FG\"}, {\"coef\": -1.1232259394387913, \"var\": \"select__3PA\"}, {\"coef\": 0.4799753947482027, \"var\": \"select__FTA\"}, {\"coef\": -0.10027025082653243, \"var\": \"select__FT%\"}, {\"coef\": 0.29652941796574106, \"var\": \"select__DRB\"}, {\"coef\": 0.14436149442335955, \"var\": \"select__TRB\"}, {\"coef\": -0.15762345633842598, \"var\": \"select__AST\"}, {\"coef\": 0.07019968716386386, \"var\": \"select__BLK\"}, {\"coef\": 0.05255946198803486, \"var\": \"select__TOV\"}, {\"coef\": 0.3233915506481749, \"var\": \"select__PER\"}, {\"coef\": 0.7700242815891849, \"var\": \"select__3PAr\"}, {\"coef\": 0.13453176374242445, \"var\": \"select__ORB%\"}, {\"coef\": -0.635291703784936, \"var\": \"select__STL%\"}, {\"coef\": 0.0017652782951817188, \"var\": \"select__BLK%\"}, {\"coef\": 0.21124603635088077, \"var\": \"select__USG%\"}, {\"coef\": 0.7139568148269536, \"var\": \"select__DWS\"}, {\"coef\": 1.2072922340939964, \"var\": \"select__VORP\"}, {\"coef\": 0.20962032631090188, \"var\": \"select__num_all_nba\"}, {\"coef\": -0.17697493400596745, \"var\": \"select__seed\"}]}}, {\"mode\": \"vega-lite\"});\n",
       "</script>"
      ],
      "text/plain": [
       "alt.Chart(...)"
      ]
     },
     "execution_count": 14,
     "metadata": {},
     "output_type": "execute_result"
    }
   ],
   "source": [
    "#Now we will make a bar chart of these coefficients\n",
    "alt.Chart(coef_df_nz).mark_bar().encode(\n",
    "    y=alt.Y('coef',title='Coefficient'),\n",
    "    x=alt.X('var',title='Variable', sort = '-y'))"
   ]
  },
  {
   "attachments": {},
   "cell_type": "markdown",
   "metadata": {},
   "source": [
    "We see for this dataset we have the following players who were predicted All-NBA but did not win it. (False Positives)"
   ]
  },
  {
   "cell_type": "code",
   "execution_count": 15,
   "metadata": {},
   "outputs": [
    {
     "data": {
      "text/html": [
       "<div>\n",
       "<style scoped>\n",
       "    .dataframe tbody tr th:only-of-type {\n",
       "        vertical-align: middle;\n",
       "    }\n",
       "\n",
       "    .dataframe tbody tr th {\n",
       "        vertical-align: top;\n",
       "    }\n",
       "\n",
       "    .dataframe thead th {\n",
       "        text-align: right;\n",
       "    }\n",
       "</style>\n",
       "<table border=\"1\" class=\"dataframe\">\n",
       "  <thead>\n",
       "    <tr style=\"text-align: right;\">\n",
       "      <th></th>\n",
       "      <th>Player</th>\n",
       "      <th>year</th>\n",
       "    </tr>\n",
       "  </thead>\n",
       "  <tbody>\n",
       "    <tr>\n",
       "      <th>329</th>\n",
       "      <td>Anthony Davis</td>\n",
       "      <td>2023</td>\n",
       "    </tr>\n",
       "    <tr>\n",
       "      <th>3336</th>\n",
       "      <td>Tim Duncan</td>\n",
       "      <td>2012</td>\n",
       "    </tr>\n",
       "    <tr>\n",
       "      <th>1254</th>\n",
       "      <td>Moses Malone</td>\n",
       "      <td>1988</td>\n",
       "    </tr>\n",
       "  </tbody>\n",
       "</table>\n",
       "</div>"
      ],
      "text/plain": [
       "             Player  year\n",
       "329   Anthony Davis  2023\n",
       "3336     Tim Duncan  2012\n",
       "1254   Moses Malone  1988"
      ]
     },
     "execution_count": 15,
     "metadata": {},
     "output_type": "execute_result"
    }
   ],
   "source": [
    "nba_filt_test[(log_preds==1) & (y_test!=1)][['Player',\"year\"]].sort_values(by='year', ascending=False)"
   ]
  },
  {
   "attachments": {},
   "cell_type": "markdown",
   "metadata": {},
   "source": [
    "For our False Negatives we have:"
   ]
  },
  {
   "cell_type": "code",
   "execution_count": 16,
   "metadata": {},
   "outputs": [
    {
     "data": {
      "text/html": [
       "<div>\n",
       "<style scoped>\n",
       "    .dataframe tbody tr th:only-of-type {\n",
       "        vertical-align: middle;\n",
       "    }\n",
       "\n",
       "    .dataframe tbody tr th {\n",
       "        vertical-align: top;\n",
       "    }\n",
       "\n",
       "    .dataframe thead th {\n",
       "        text-align: right;\n",
       "    }\n",
       "</style>\n",
       "<table border=\"1\" class=\"dataframe\">\n",
       "  <thead>\n",
       "    <tr style=\"text-align: right;\">\n",
       "      <th></th>\n",
       "      <th>Player</th>\n",
       "      <th>year</th>\n",
       "    </tr>\n",
       "  </thead>\n",
       "  <tbody>\n",
       "    <tr>\n",
       "      <th>373</th>\n",
       "      <td>Domantas Sabonis</td>\n",
       "      <td>2023</td>\n",
       "    </tr>\n",
       "    <tr>\n",
       "      <th>3365</th>\n",
       "      <td>Tyson Chandler</td>\n",
       "      <td>2012</td>\n",
       "    </tr>\n",
       "    <tr>\n",
       "      <th>1485</th>\n",
       "      <td>Patrick Ewing</td>\n",
       "      <td>1988</td>\n",
       "    </tr>\n",
       "  </tbody>\n",
       "</table>\n",
       "</div>"
      ],
      "text/plain": [
       "                Player  year\n",
       "373   Domantas Sabonis  2023\n",
       "3365    Tyson Chandler  2012\n",
       "1485     Patrick Ewing  1988"
      ]
     },
     "execution_count": 16,
     "metadata": {},
     "output_type": "execute_result"
    }
   ],
   "source": [
    "nba_filt_test[(log_preds!=1) & (y_test==1)][['Player',\"year\"]].sort_values(by='year', ascending=False)"
   ]
  },
  {
   "attachments": {},
   "cell_type": "markdown",
   "metadata": {},
   "source": [
    "We can also examine what the 2023 predicted All_NBA team looks like versus the actual team."
   ]
  },
  {
   "cell_type": "code",
   "execution_count": 17,
   "metadata": {},
   "outputs": [],
   "source": [
    "def pred_all_nba_df(nba_test, year, model):\n",
    "    if year<=1988:\n",
    "        return 'year must be above 1988'\n",
    "    pred_df = predicted_all_nba(nba_test, model)\n",
    "    pred_df = pred_df[pred_df['year']==year]\n",
    "    pred_df.sort_values(by=['prob_all_nba'], ascending=False, inplace=True)\n",
    "    return pred_df.head(8)\n",
    "\n",
    "def true_all_nba(nba_test,year):\n",
    "    return  nba_test[(nba_test.year==year) & (nba_test.all_nba_tm != 'None')][['Player', 'year','all_nba_tm']].sort_values(by = 'all_nba_tm')\n"
   ]
  },
  {
   "cell_type": "code",
   "execution_count": 18,
   "metadata": {},
   "outputs": [
    {
     "data": {
      "text/html": [
       "<div>\n",
       "<style scoped>\n",
       "    .dataframe tbody tr th:only-of-type {\n",
       "        vertical-align: middle;\n",
       "    }\n",
       "\n",
       "    .dataframe tbody tr th {\n",
       "        vertical-align: top;\n",
       "    }\n",
       "\n",
       "    .dataframe thead th {\n",
       "        text-align: right;\n",
       "    }\n",
       "</style>\n",
       "<table border=\"1\" class=\"dataframe\">\n",
       "  <thead>\n",
       "    <tr style=\"text-align: right;\">\n",
       "      <th></th>\n",
       "      <th>Player</th>\n",
       "      <th>year</th>\n",
       "      <th>all_nba_tm</th>\n",
       "    </tr>\n",
       "  </thead>\n",
       "  <tbody>\n",
       "    <tr>\n",
       "      <th>509</th>\n",
       "      <td>Joel Embiid</td>\n",
       "      <td>2023</td>\n",
       "      <td>1st</td>\n",
       "    </tr>\n",
       "    <tr>\n",
       "      <th>472</th>\n",
       "      <td>Nikola Jokić</td>\n",
       "      <td>2023</td>\n",
       "      <td>2nd</td>\n",
       "    </tr>\n",
       "    <tr>\n",
       "      <th>373</th>\n",
       "      <td>Domantas Sabonis</td>\n",
       "      <td>2023</td>\n",
       "      <td>3rd</td>\n",
       "    </tr>\n",
       "  </tbody>\n",
       "</table>\n",
       "</div>"
      ],
      "text/plain": [
       "               Player  year all_nba_tm\n",
       "509       Joel Embiid  2023        1st\n",
       "472      Nikola Jokić  2023        2nd\n",
       "373  Domantas Sabonis  2023        3rd"
      ]
     },
     "execution_count": 18,
     "metadata": {},
     "output_type": "execute_result"
    }
   ],
   "source": [
    "true_all_nba(nba_filt_test,2023)"
   ]
  },
  {
   "cell_type": "code",
   "execution_count": 19,
   "metadata": {},
   "outputs": [
    {
     "data": {
      "text/html": [
       "<div>\n",
       "<style scoped>\n",
       "    .dataframe tbody tr th:only-of-type {\n",
       "        vertical-align: middle;\n",
       "    }\n",
       "\n",
       "    .dataframe tbody tr th {\n",
       "        vertical-align: top;\n",
       "    }\n",
       "\n",
       "    .dataframe thead th {\n",
       "        text-align: right;\n",
       "    }\n",
       "</style>\n",
       "<table border=\"1\" class=\"dataframe\">\n",
       "  <thead>\n",
       "    <tr style=\"text-align: right;\">\n",
       "      <th></th>\n",
       "      <th>Player</th>\n",
       "      <th>year</th>\n",
       "      <th>prob_all_nba</th>\n",
       "      <th>all_nba_tm</th>\n",
       "    </tr>\n",
       "  </thead>\n",
       "  <tbody>\n",
       "    <tr>\n",
       "      <th>509</th>\n",
       "      <td>Joel Embiid</td>\n",
       "      <td>2023</td>\n",
       "      <td>0.999951</td>\n",
       "      <td>1st</td>\n",
       "    </tr>\n",
       "    <tr>\n",
       "      <th>472</th>\n",
       "      <td>Nikola Jokić</td>\n",
       "      <td>2023</td>\n",
       "      <td>0.999930</td>\n",
       "      <td>2nd</td>\n",
       "    </tr>\n",
       "    <tr>\n",
       "      <th>329</th>\n",
       "      <td>Anthony Davis</td>\n",
       "      <td>2023</td>\n",
       "      <td>0.994146</td>\n",
       "      <td>None</td>\n",
       "    </tr>\n",
       "    <tr>\n",
       "      <th>373</th>\n",
       "      <td>Domantas Sabonis</td>\n",
       "      <td>2023</td>\n",
       "      <td>0.977464</td>\n",
       "      <td>3rd</td>\n",
       "    </tr>\n",
       "    <tr>\n",
       "      <th>34</th>\n",
       "      <td>Bam Adebayo</td>\n",
       "      <td>2023</td>\n",
       "      <td>0.614939</td>\n",
       "      <td>None</td>\n",
       "    </tr>\n",
       "    <tr>\n",
       "      <th>169</th>\n",
       "      <td>Jarrett Allen</td>\n",
       "      <td>2023</td>\n",
       "      <td>0.587108</td>\n",
       "      <td>None</td>\n",
       "    </tr>\n",
       "    <tr>\n",
       "      <th>480</th>\n",
       "      <td>Nic Claxton</td>\n",
       "      <td>2023</td>\n",
       "      <td>0.562649</td>\n",
       "      <td>None</td>\n",
       "    </tr>\n",
       "    <tr>\n",
       "      <th>164</th>\n",
       "      <td>Brook Lopez</td>\n",
       "      <td>2023</td>\n",
       "      <td>0.512965</td>\n",
       "      <td>None</td>\n",
       "    </tr>\n",
       "  </tbody>\n",
       "</table>\n",
       "</div>"
      ],
      "text/plain": [
       "               Player  year  prob_all_nba all_nba_tm\n",
       "509       Joel Embiid  2023      0.999951        1st\n",
       "472      Nikola Jokić  2023      0.999930        2nd\n",
       "329     Anthony Davis  2023      0.994146       None\n",
       "373  Domantas Sabonis  2023      0.977464        3rd\n",
       "34        Bam Adebayo  2023      0.614939       None\n",
       "169     Jarrett Allen  2023      0.587108       None\n",
       "480       Nic Claxton  2023      0.562649       None\n",
       "164       Brook Lopez  2023      0.512965       None"
      ]
     },
     "execution_count": 19,
     "metadata": {},
     "output_type": "execute_result"
    }
   ],
   "source": [
    "\n",
    "pred_all_nba_df(nba_filt_test,2023, log_model)[['Player', 'year', 'prob_all_nba','all_nba_tm']]"
   ]
  },
  {
   "attachments": {},
   "cell_type": "markdown",
   "metadata": {},
   "source": [
    "# Random Forest Model"
   ]
  },
  {
   "attachments": {},
   "cell_type": "markdown",
   "metadata": {},
   "source": [
    "A random forest is considered an \"Ensemble\" Model. These types of models take in a large number of different models that are performing slightly better than chance, and then combine them into a stronger model. For a random forest, this means that `n-estimator` total decision trees are created, then their results are combined (by  picking the result the majority of trees agree with). Each tree is trained on random subsets of the data, with random subsets of the features."
   ]
  },
  {
   "attachments": {},
   "cell_type": "markdown",
   "metadata": {},
   "source": [
    "This also begs the question, why do these models work? We can consider a simple example, where we can imagine that we have a `n` total models that predict the correct results, say 51% of the time. If we assume each model is independent in their predictions, then we can utilize a bernoulli model and apply the law of large numbers. In simpler terms, we can imagine every model is like a coin flip, where the true result is a heads (with 51% chance), and the incorrect result is tails (49%). If we consider an ensemble of 10 models, then we will simply consider how many heads we have vs tails. If we have more heads, we pick that result, and more tails we pick the other result. Clearly, this will lead to quite a bit of variance in our results, and we will often pick the wrong result. But imagine we are flipping 1000 coins, or even 100000 coins. We see that we will have, with probability approaching 1, that as our number of models grow, the number of heads will be greater than the number of tails. In our case, the independence assumption is violated since we utilize the same data, however, we can still yield good results even without this assumption. "
   ]
  },
  {
   "attachments": {},
   "cell_type": "markdown",
   "metadata": {},
   "source": [
    "### Fitting Random Forest Model to NBA Data"
   ]
  },
  {
   "attachments": {},
   "cell_type": "markdown",
   "metadata": {},
   "source": [
    "To fit this model we will consider a grid of hyper-parameters. Since this grid is quite large (7200), we will utilize a randomized search where we consider 3000 random subsets of the hyper-parameters.\n",
    "\n",
    "We can also consider what these hyper-parameters mean.\n",
    "1) n_estimators: How many decision trees will be created in total\n",
    "2) max_depth: The longest path between the root node and the leaf. This is essentially controlling how many splits are allowed.\n",
    "3) min_samples_lead: Minimum number of samples to required for a leaf node. This determines how specific a leaf can be.\n",
    "4) min_samples_split: Minimum number of samples a node must have for it to be split\n",
    "5) max_features: Maximum number features randomly selected for each tree."
   ]
  },
  {
   "cell_type": "code",
   "execution_count": 20,
   "metadata": {},
   "outputs": [],
   "source": [
    "from sklearn.ensemble import RandomForestClassifier\n",
    "\n",
    "#Now we will fit a random forest model to the data. We will fit this data into a pipeline to scale the data and then fit the model.\n",
    "num_features = ['Age','G', \n",
    "                'GS', 'MP',\n",
    "                'FG', 'FGA', \n",
    "                'FG%', \n",
    "                '3P', '3PA', '3P%',\n",
    "                '2P', '2PA', \n",
    "                '2P%', 'eFG%', \n",
    "                'FT', 'FTA', 'FT%', \n",
    "                'ORB', \n",
    "                'DRB', \n",
    "                'TRB',\n",
    "                'AST', 'STL', 'BLK', 'TOV', 'PF', 'PTS', 'PER', \n",
    "                'TS%', '3PAr', 'FTr',\n",
    "                'ORB%', 'DRB%', 'TRB%', 'AST%', 'STL%', 'BLK%', 'TOV%', 'USG%', \n",
    "                'OWS',\n",
    "                'DWS',\n",
    "                'WS', \n",
    "                'WS/48', \n",
    "                'OBPM', \n",
    "                'DBPM', \n",
    "                'BPM', \n",
    "                'VORP', 'W',\n",
    "                'num_all_nba',\n",
    "                'seed'\n",
    "                ]\n",
    "\n",
    "#cat_features = ['Tm']\n",
    "\n",
    "#Now I will create a pipeline where I extract my_features, and apply OHE to cat_features\n",
    "ct2 = ColumnTransformer(\n",
    "    [(\"select\", \"passthrough\", num_features),\n",
    "     #(\"ohe\", OneHotEncoder(handle_unknown=\"ignore\"), cat_features)\n",
    "     ],\n",
    "     remainder=\"drop\"\n",
    ")\n",
    "\n",
    "clf2 = Pipeline([('col_transform',ct2),\n",
    "                ('classifier',RandomForestClassifier(random_state=0))\n",
    "                ])\n",
    "\n",
    "\n"
   ]
  },
  {
   "cell_type": "code",
   "execution_count": 21,
   "metadata": {},
   "outputs": [
    {
     "data": {
      "text/html": [
       "<style>#sk-container-id-2 {color: black;background-color: white;}#sk-container-id-2 pre{padding: 0;}#sk-container-id-2 div.sk-toggleable {background-color: white;}#sk-container-id-2 label.sk-toggleable__label {cursor: pointer;display: block;width: 100%;margin-bottom: 0;padding: 0.3em;box-sizing: border-box;text-align: center;}#sk-container-id-2 label.sk-toggleable__label-arrow:before {content: \"▸\";float: left;margin-right: 0.25em;color: #696969;}#sk-container-id-2 label.sk-toggleable__label-arrow:hover:before {color: black;}#sk-container-id-2 div.sk-estimator:hover label.sk-toggleable__label-arrow:before {color: black;}#sk-container-id-2 div.sk-toggleable__content {max-height: 0;max-width: 0;overflow: hidden;text-align: left;background-color: #f0f8ff;}#sk-container-id-2 div.sk-toggleable__content pre {margin: 0.2em;color: black;border-radius: 0.25em;background-color: #f0f8ff;}#sk-container-id-2 input.sk-toggleable__control:checked~div.sk-toggleable__content {max-height: 200px;max-width: 100%;overflow: auto;}#sk-container-id-2 input.sk-toggleable__control:checked~label.sk-toggleable__label-arrow:before {content: \"▾\";}#sk-container-id-2 div.sk-estimator input.sk-toggleable__control:checked~label.sk-toggleable__label {background-color: #d4ebff;}#sk-container-id-2 div.sk-label input.sk-toggleable__control:checked~label.sk-toggleable__label {background-color: #d4ebff;}#sk-container-id-2 input.sk-hidden--visually {border: 0;clip: rect(1px 1px 1px 1px);clip: rect(1px, 1px, 1px, 1px);height: 1px;margin: -1px;overflow: hidden;padding: 0;position: absolute;width: 1px;}#sk-container-id-2 div.sk-estimator {font-family: monospace;background-color: #f0f8ff;border: 1px dotted black;border-radius: 0.25em;box-sizing: border-box;margin-bottom: 0.5em;}#sk-container-id-2 div.sk-estimator:hover {background-color: #d4ebff;}#sk-container-id-2 div.sk-parallel-item::after {content: \"\";width: 100%;border-bottom: 1px solid gray;flex-grow: 1;}#sk-container-id-2 div.sk-label:hover label.sk-toggleable__label {background-color: #d4ebff;}#sk-container-id-2 div.sk-serial::before {content: \"\";position: absolute;border-left: 1px solid gray;box-sizing: border-box;top: 0;bottom: 0;left: 50%;z-index: 0;}#sk-container-id-2 div.sk-serial {display: flex;flex-direction: column;align-items: center;background-color: white;padding-right: 0.2em;padding-left: 0.2em;position: relative;}#sk-container-id-2 div.sk-item {position: relative;z-index: 1;}#sk-container-id-2 div.sk-parallel {display: flex;align-items: stretch;justify-content: center;background-color: white;position: relative;}#sk-container-id-2 div.sk-item::before, #sk-container-id-2 div.sk-parallel-item::before {content: \"\";position: absolute;border-left: 1px solid gray;box-sizing: border-box;top: 0;bottom: 0;left: 50%;z-index: -1;}#sk-container-id-2 div.sk-parallel-item {display: flex;flex-direction: column;z-index: 1;position: relative;background-color: white;}#sk-container-id-2 div.sk-parallel-item:first-child::after {align-self: flex-end;width: 50%;}#sk-container-id-2 div.sk-parallel-item:last-child::after {align-self: flex-start;width: 50%;}#sk-container-id-2 div.sk-parallel-item:only-child::after {width: 0;}#sk-container-id-2 div.sk-dashed-wrapped {border: 1px dashed gray;margin: 0 0.4em 0.5em 0.4em;box-sizing: border-box;padding-bottom: 0.4em;background-color: white;}#sk-container-id-2 div.sk-label label {font-family: monospace;font-weight: bold;display: inline-block;line-height: 1.2em;}#sk-container-id-2 div.sk-label-container {text-align: center;}#sk-container-id-2 div.sk-container {/* jupyter's `normalize.less` sets `[hidden] { display: none; }` but bootstrap.min.css set `[hidden] { display: none !important; }` so we also need the `!important` here to be able to override the default hidden behavior on the sphinx rendered scikit-learn.org. See: https://github.com/scikit-learn/scikit-learn/issues/21755 */display: inline-block !important;position: relative;}#sk-container-id-2 div.sk-text-repr-fallback {display: none;}</style><div id=\"sk-container-id-2\" class=\"sk-top-container\"><div class=\"sk-text-repr-fallback\"><pre>RandomizedSearchCV(cv=5,\n",
       "                   estimator=Pipeline(steps=[(&#x27;col_transform&#x27;,\n",
       "                                              ColumnTransformer(transformers=[(&#x27;select&#x27;,\n",
       "                                                                               &#x27;passthrough&#x27;,\n",
       "                                                                               [&#x27;Age&#x27;,\n",
       "                                                                                &#x27;G&#x27;,\n",
       "                                                                                &#x27;GS&#x27;,\n",
       "                                                                                &#x27;MP&#x27;,\n",
       "                                                                                &#x27;FG&#x27;,\n",
       "                                                                                &#x27;FGA&#x27;,\n",
       "                                                                                &#x27;FG%&#x27;,\n",
       "                                                                                &#x27;3P&#x27;,\n",
       "                                                                                &#x27;3PA&#x27;,\n",
       "                                                                                &#x27;3P%&#x27;,\n",
       "                                                                                &#x27;2P&#x27;,\n",
       "                                                                                &#x27;2PA&#x27;,\n",
       "                                                                                &#x27;2P%&#x27;,\n",
       "                                                                                &#x27;eFG%&#x27;,\n",
       "                                                                                &#x27;FT&#x27;,\n",
       "                                                                                &#x27;FTA&#x27;,\n",
       "                                                                                &#x27;FT%&#x27;,\n",
       "                                                                                &#x27;ORB&#x27;,\n",
       "                                                                                &#x27;DRB&#x27;,\n",
       "                                                                                &#x27;TRB&#x27;,\n",
       "                                                                                &#x27;AST&#x27;,\n",
       "                                                                                &#x27;STL&#x27;,\n",
       "                                                                                &#x27;BLK&#x27;,\n",
       "                                                                                &#x27;TOV&#x27;,\n",
       "                                                                                &#x27;PF&#x27;,\n",
       "                                                                                &#x27;PTS&#x27;,\n",
       "                                                                                &#x27;PER&#x27;,\n",
       "                                                                                &#x27;TS%&#x27;,\n",
       "                                                                                &#x27;3PAr&#x27;,\n",
       "                                                                                &#x27;FTr&#x27;, ...])])),\n",
       "                                             (&#x27;classifier&#x27;,\n",
       "                                              RandomForestClassifier(random_...\n",
       "                   param_distributions={&#x27;classifier__class_weight&#x27;: [&#x27;balanced&#x27;,\n",
       "                                                                     &#x27;balanced_subsample&#x27;,\n",
       "                                                                     None],\n",
       "                                        &#x27;classifier__max_depth&#x27;: [5, 10, 15, 20,\n",
       "                                                                  25],\n",
       "                                        &#x27;classifier__max_features&#x27;: [&#x27;sqrt&#x27;,\n",
       "                                                                     &#x27;log2&#x27;,\n",
       "                                                                     0.2, 0.4],\n",
       "                                        &#x27;classifier__min_samples_leaf&#x27;: [5, 10,\n",
       "                                                                         15,\n",
       "                                                                         20],\n",
       "                                        &#x27;classifier__min_samples_split&#x27;: [2, 5,\n",
       "                                                                          10,\n",
       "                                                                          15,\n",
       "                                                                          20,\n",
       "                                                                          25,\n",
       "                                                                          30,\n",
       "                                                                          40],\n",
       "                                        &#x27;classifier__n_estimators&#x27;: [100, 200,\n",
       "                                                                     300, 400,\n",
       "                                                                     500]},\n",
       "                   random_state=0,\n",
       "                   scoring=&lt;function all_nba_f1 at 0x143987280&gt;)</pre><b>In a Jupyter environment, please rerun this cell to show the HTML representation or trust the notebook. <br />On GitHub, the HTML representation is unable to render, please try loading this page with nbviewer.org.</b></div><div class=\"sk-container\" hidden><div class=\"sk-item sk-dashed-wrapped\"><div class=\"sk-label-container\"><div class=\"sk-label sk-toggleable\"><input class=\"sk-toggleable__control sk-hidden--visually\" id=\"sk-estimator-id-7\" type=\"checkbox\" ><label for=\"sk-estimator-id-7\" class=\"sk-toggleable__label sk-toggleable__label-arrow\">RandomizedSearchCV</label><div class=\"sk-toggleable__content\"><pre>RandomizedSearchCV(cv=5,\n",
       "                   estimator=Pipeline(steps=[(&#x27;col_transform&#x27;,\n",
       "                                              ColumnTransformer(transformers=[(&#x27;select&#x27;,\n",
       "                                                                               &#x27;passthrough&#x27;,\n",
       "                                                                               [&#x27;Age&#x27;,\n",
       "                                                                                &#x27;G&#x27;,\n",
       "                                                                                &#x27;GS&#x27;,\n",
       "                                                                                &#x27;MP&#x27;,\n",
       "                                                                                &#x27;FG&#x27;,\n",
       "                                                                                &#x27;FGA&#x27;,\n",
       "                                                                                &#x27;FG%&#x27;,\n",
       "                                                                                &#x27;3P&#x27;,\n",
       "                                                                                &#x27;3PA&#x27;,\n",
       "                                                                                &#x27;3P%&#x27;,\n",
       "                                                                                &#x27;2P&#x27;,\n",
       "                                                                                &#x27;2PA&#x27;,\n",
       "                                                                                &#x27;2P%&#x27;,\n",
       "                                                                                &#x27;eFG%&#x27;,\n",
       "                                                                                &#x27;FT&#x27;,\n",
       "                                                                                &#x27;FTA&#x27;,\n",
       "                                                                                &#x27;FT%&#x27;,\n",
       "                                                                                &#x27;ORB&#x27;,\n",
       "                                                                                &#x27;DRB&#x27;,\n",
       "                                                                                &#x27;TRB&#x27;,\n",
       "                                                                                &#x27;AST&#x27;,\n",
       "                                                                                &#x27;STL&#x27;,\n",
       "                                                                                &#x27;BLK&#x27;,\n",
       "                                                                                &#x27;TOV&#x27;,\n",
       "                                                                                &#x27;PF&#x27;,\n",
       "                                                                                &#x27;PTS&#x27;,\n",
       "                                                                                &#x27;PER&#x27;,\n",
       "                                                                                &#x27;TS%&#x27;,\n",
       "                                                                                &#x27;3PAr&#x27;,\n",
       "                                                                                &#x27;FTr&#x27;, ...])])),\n",
       "                                             (&#x27;classifier&#x27;,\n",
       "                                              RandomForestClassifier(random_...\n",
       "                   param_distributions={&#x27;classifier__class_weight&#x27;: [&#x27;balanced&#x27;,\n",
       "                                                                     &#x27;balanced_subsample&#x27;,\n",
       "                                                                     None],\n",
       "                                        &#x27;classifier__max_depth&#x27;: [5, 10, 15, 20,\n",
       "                                                                  25],\n",
       "                                        &#x27;classifier__max_features&#x27;: [&#x27;sqrt&#x27;,\n",
       "                                                                     &#x27;log2&#x27;,\n",
       "                                                                     0.2, 0.4],\n",
       "                                        &#x27;classifier__min_samples_leaf&#x27;: [5, 10,\n",
       "                                                                         15,\n",
       "                                                                         20],\n",
       "                                        &#x27;classifier__min_samples_split&#x27;: [2, 5,\n",
       "                                                                          10,\n",
       "                                                                          15,\n",
       "                                                                          20,\n",
       "                                                                          25,\n",
       "                                                                          30,\n",
       "                                                                          40],\n",
       "                                        &#x27;classifier__n_estimators&#x27;: [100, 200,\n",
       "                                                                     300, 400,\n",
       "                                                                     500]},\n",
       "                   random_state=0,\n",
       "                   scoring=&lt;function all_nba_f1 at 0x143987280&gt;)</pre></div></div></div><div class=\"sk-parallel\"><div class=\"sk-parallel-item\"><div class=\"sk-item\"><div class=\"sk-label-container\"><div class=\"sk-label sk-toggleable\"><input class=\"sk-toggleable__control sk-hidden--visually\" id=\"sk-estimator-id-8\" type=\"checkbox\" ><label for=\"sk-estimator-id-8\" class=\"sk-toggleable__label sk-toggleable__label-arrow\">estimator: Pipeline</label><div class=\"sk-toggleable__content\"><pre>Pipeline(steps=[(&#x27;col_transform&#x27;,\n",
       "                 ColumnTransformer(transformers=[(&#x27;select&#x27;, &#x27;passthrough&#x27;,\n",
       "                                                  [&#x27;Age&#x27;, &#x27;G&#x27;, &#x27;GS&#x27;, &#x27;MP&#x27;, &#x27;FG&#x27;,\n",
       "                                                   &#x27;FGA&#x27;, &#x27;FG%&#x27;, &#x27;3P&#x27;, &#x27;3PA&#x27;,\n",
       "                                                   &#x27;3P%&#x27;, &#x27;2P&#x27;, &#x27;2PA&#x27;, &#x27;2P%&#x27;,\n",
       "                                                   &#x27;eFG%&#x27;, &#x27;FT&#x27;, &#x27;FTA&#x27;, &#x27;FT%&#x27;,\n",
       "                                                   &#x27;ORB&#x27;, &#x27;DRB&#x27;, &#x27;TRB&#x27;, &#x27;AST&#x27;,\n",
       "                                                   &#x27;STL&#x27;, &#x27;BLK&#x27;, &#x27;TOV&#x27;, &#x27;PF&#x27;,\n",
       "                                                   &#x27;PTS&#x27;, &#x27;PER&#x27;, &#x27;TS%&#x27;, &#x27;3PAr&#x27;,\n",
       "                                                   &#x27;FTr&#x27;, ...])])),\n",
       "                (&#x27;classifier&#x27;, RandomForestClassifier(random_state=0))])</pre></div></div></div><div class=\"sk-serial\"><div class=\"sk-item\"><div class=\"sk-serial\"><div class=\"sk-item sk-dashed-wrapped\"><div class=\"sk-label-container\"><div class=\"sk-label sk-toggleable\"><input class=\"sk-toggleable__control sk-hidden--visually\" id=\"sk-estimator-id-9\" type=\"checkbox\" ><label for=\"sk-estimator-id-9\" class=\"sk-toggleable__label sk-toggleable__label-arrow\">col_transform: ColumnTransformer</label><div class=\"sk-toggleable__content\"><pre>ColumnTransformer(transformers=[(&#x27;select&#x27;, &#x27;passthrough&#x27;,\n",
       "                                 [&#x27;Age&#x27;, &#x27;G&#x27;, &#x27;GS&#x27;, &#x27;MP&#x27;, &#x27;FG&#x27;, &#x27;FGA&#x27;, &#x27;FG%&#x27;,\n",
       "                                  &#x27;3P&#x27;, &#x27;3PA&#x27;, &#x27;3P%&#x27;, &#x27;2P&#x27;, &#x27;2PA&#x27;, &#x27;2P%&#x27;,\n",
       "                                  &#x27;eFG%&#x27;, &#x27;FT&#x27;, &#x27;FTA&#x27;, &#x27;FT%&#x27;, &#x27;ORB&#x27;, &#x27;DRB&#x27;,\n",
       "                                  &#x27;TRB&#x27;, &#x27;AST&#x27;, &#x27;STL&#x27;, &#x27;BLK&#x27;, &#x27;TOV&#x27;, &#x27;PF&#x27;,\n",
       "                                  &#x27;PTS&#x27;, &#x27;PER&#x27;, &#x27;TS%&#x27;, &#x27;3PAr&#x27;, &#x27;FTr&#x27;, ...])])</pre></div></div></div><div class=\"sk-parallel\"><div class=\"sk-parallel-item\"><div class=\"sk-item\"><div class=\"sk-label-container\"><div class=\"sk-label sk-toggleable\"><input class=\"sk-toggleable__control sk-hidden--visually\" id=\"sk-estimator-id-10\" type=\"checkbox\" ><label for=\"sk-estimator-id-10\" class=\"sk-toggleable__label sk-toggleable__label-arrow\">select</label><div class=\"sk-toggleable__content\"><pre>[&#x27;Age&#x27;, &#x27;G&#x27;, &#x27;GS&#x27;, &#x27;MP&#x27;, &#x27;FG&#x27;, &#x27;FGA&#x27;, &#x27;FG%&#x27;, &#x27;3P&#x27;, &#x27;3PA&#x27;, &#x27;3P%&#x27;, &#x27;2P&#x27;, &#x27;2PA&#x27;, &#x27;2P%&#x27;, &#x27;eFG%&#x27;, &#x27;FT&#x27;, &#x27;FTA&#x27;, &#x27;FT%&#x27;, &#x27;ORB&#x27;, &#x27;DRB&#x27;, &#x27;TRB&#x27;, &#x27;AST&#x27;, &#x27;STL&#x27;, &#x27;BLK&#x27;, &#x27;TOV&#x27;, &#x27;PF&#x27;, &#x27;PTS&#x27;, &#x27;PER&#x27;, &#x27;TS%&#x27;, &#x27;3PAr&#x27;, &#x27;FTr&#x27;, &#x27;ORB%&#x27;, &#x27;DRB%&#x27;, &#x27;TRB%&#x27;, &#x27;AST%&#x27;, &#x27;STL%&#x27;, &#x27;BLK%&#x27;, &#x27;TOV%&#x27;, &#x27;USG%&#x27;, &#x27;OWS&#x27;, &#x27;DWS&#x27;, &#x27;WS&#x27;, &#x27;WS/48&#x27;, &#x27;OBPM&#x27;, &#x27;DBPM&#x27;, &#x27;BPM&#x27;, &#x27;VORP&#x27;, &#x27;W&#x27;, &#x27;num_all_nba&#x27;, &#x27;seed&#x27;]</pre></div></div></div><div class=\"sk-serial\"><div class=\"sk-item\"><div class=\"sk-estimator sk-toggleable\"><input class=\"sk-toggleable__control sk-hidden--visually\" id=\"sk-estimator-id-11\" type=\"checkbox\" ><label for=\"sk-estimator-id-11\" class=\"sk-toggleable__label sk-toggleable__label-arrow\">passthrough</label><div class=\"sk-toggleable__content\"><pre>passthrough</pre></div></div></div></div></div></div></div></div><div class=\"sk-item\"><div class=\"sk-estimator sk-toggleable\"><input class=\"sk-toggleable__control sk-hidden--visually\" id=\"sk-estimator-id-12\" type=\"checkbox\" ><label for=\"sk-estimator-id-12\" class=\"sk-toggleable__label sk-toggleable__label-arrow\">RandomForestClassifier</label><div class=\"sk-toggleable__content\"><pre>RandomForestClassifier(random_state=0)</pre></div></div></div></div></div></div></div></div></div></div></div></div>"
      ],
      "text/plain": [
       "RandomizedSearchCV(cv=5,\n",
       "                   estimator=Pipeline(steps=[('col_transform',\n",
       "                                              ColumnTransformer(transformers=[('select',\n",
       "                                                                               'passthrough',\n",
       "                                                                               ['Age',\n",
       "                                                                                'G',\n",
       "                                                                                'GS',\n",
       "                                                                                'MP',\n",
       "                                                                                'FG',\n",
       "                                                                                'FGA',\n",
       "                                                                                'FG%',\n",
       "                                                                                '3P',\n",
       "                                                                                '3PA',\n",
       "                                                                                '3P%',\n",
       "                                                                                '2P',\n",
       "                                                                                '2PA',\n",
       "                                                                                '2P%',\n",
       "                                                                                'eFG%',\n",
       "                                                                                'FT',\n",
       "                                                                                'FTA',\n",
       "                                                                                'FT%',\n",
       "                                                                                'ORB',\n",
       "                                                                                'DRB',\n",
       "                                                                                'TRB',\n",
       "                                                                                'AST',\n",
       "                                                                                'STL',\n",
       "                                                                                'BLK',\n",
       "                                                                                'TOV',\n",
       "                                                                                'PF',\n",
       "                                                                                'PTS',\n",
       "                                                                                'PER',\n",
       "                                                                                'TS%',\n",
       "                                                                                '3PAr',\n",
       "                                                                                'FTr', ...])])),\n",
       "                                             ('classifier',\n",
       "                                              RandomForestClassifier(random_...\n",
       "                   param_distributions={'classifier__class_weight': ['balanced',\n",
       "                                                                     'balanced_subsample',\n",
       "                                                                     None],\n",
       "                                        'classifier__max_depth': [5, 10, 15, 20,\n",
       "                                                                  25],\n",
       "                                        'classifier__max_features': ['sqrt',\n",
       "                                                                     'log2',\n",
       "                                                                     0.2, 0.4],\n",
       "                                        'classifier__min_samples_leaf': [5, 10,\n",
       "                                                                         15,\n",
       "                                                                         20],\n",
       "                                        'classifier__min_samples_split': [2, 5,\n",
       "                                                                          10,\n",
       "                                                                          15,\n",
       "                                                                          20,\n",
       "                                                                          25,\n",
       "                                                                          30,\n",
       "                                                                          40],\n",
       "                                        'classifier__n_estimators': [100, 200,\n",
       "                                                                     300, 400,\n",
       "                                                                     500]},\n",
       "                   random_state=0,\n",
       "                   scoring=<function all_nba_f1 at 0x143987280>)"
      ]
     },
     "execution_count": 21,
     "metadata": {},
     "output_type": "execute_result"
    }
   ],
   "source": [
    "#Now we can fit our Random Forest model to the data.\n",
    "\n",
    "from sklearn.model_selection import RandomizedSearchCV\n",
    "rf_param_grid = {\n",
    "   'classifier__n_estimators': [100, 200, 300, 400, 500],\n",
    "   'classifier__max_depth': [5, 10, 15, 20, 25],\n",
    "   'classifier__min_samples_split': [2, 5, 10, 15, 20, 25, 30, 40],\n",
    "   'classifier__min_samples_leaf': [5, 10, 15, 20],\n",
    "   'classifier__max_features': [ 'sqrt', 'log2', 0.2, .4],\n",
    "   'classifier__class_weight': ['balanced', 'balanced_subsample', None]\n",
    "}\n",
    "\n",
    "\n",
    "rf_model = RandomizedSearchCV(estimator=clf2, param_distributions=rf_param_grid, cv= 5,\n",
    "                            random_state=0, n_iter = 3000,\n",
    "                            scoring=all_nba_f1,\n",
    "                            n_jobs=-1)\n",
    "rf_model.fit(nba_filt_train, y_train)\n"
   ]
  },
  {
   "cell_type": "code",
   "execution_count": 22,
   "metadata": {},
   "outputs": [
    {
     "data": {
      "text/plain": [
       "{'classifier__n_estimators': 400,\n",
       " 'classifier__min_samples_split': 5,\n",
       " 'classifier__min_samples_leaf': 5,\n",
       " 'classifier__max_features': 0.2,\n",
       " 'classifier__max_depth': 15,\n",
       " 'classifier__class_weight': None}"
      ]
     },
     "execution_count": 22,
     "metadata": {},
     "output_type": "execute_result"
    }
   ],
   "source": [
    "rf_model.best_params_"
   ]
  },
  {
   "attachments": {},
   "cell_type": "markdown",
   "metadata": {},
   "source": [
    "### Results"
   ]
  },
  {
   "attachments": {},
   "cell_type": "markdown",
   "metadata": {},
   "source": [
    "Now we may look at how our model did on our test set. "
   ]
  },
  {
   "cell_type": "code",
   "execution_count": 23,
   "metadata": {},
   "outputs": [],
   "source": [
    "rf_c_preds = predicted_all_nba(nba_filt_test, rf_model)\n",
    "rf_preds = rf_c_preds['pred_all_nba']\n",
    "\n",
    "rf_c_preds.to_csv(\"test_preds/rf_preds_c.csv\")"
   ]
  },
  {
   "attachments": {},
   "cell_type": "markdown",
   "metadata": {},
   "source": [
    "We see that we have 92% Precision, and 92% recall. This is similar to the results we had from our logistic regression prior, albeit slightly better."
   ]
  },
  {
   "cell_type": "code",
   "execution_count": 24,
   "metadata": {},
   "outputs": [
    {
     "name": "stdout",
     "output_type": "stream",
     "text": [
      "              precision    recall  f1-score   support\n",
      "\n",
      " Not All-NBA       0.98      0.98      0.98       128\n",
      "     All-NBA       0.92      0.92      0.92        24\n",
      "\n",
      "    accuracy                           0.97       152\n",
      "   macro avg       0.95      0.95      0.95       152\n",
      "weighted avg       0.97      0.97      0.97       152\n",
      "\n"
     ]
    }
   ],
   "source": [
    "print(classification_report(y_test, rf_preds, target_names=['Not All-NBA', 'All-NBA']))"
   ]
  },
  {
   "attachments": {},
   "cell_type": "markdown",
   "metadata": {},
   "source": [
    "Looking at our confusion matrix we have the following:"
   ]
  },
  {
   "cell_type": "code",
   "execution_count": 25,
   "metadata": {},
   "outputs": [
    {
     "data": {
      "text/html": [
       "<div>\n",
       "<style scoped>\n",
       "    .dataframe tbody tr th:only-of-type {\n",
       "        vertical-align: middle;\n",
       "    }\n",
       "\n",
       "    .dataframe tbody tr th {\n",
       "        vertical-align: top;\n",
       "    }\n",
       "\n",
       "    .dataframe thead th {\n",
       "        text-align: right;\n",
       "    }\n",
       "</style>\n",
       "<table border=\"1\" class=\"dataframe\">\n",
       "  <thead>\n",
       "    <tr style=\"text-align: right;\">\n",
       "      <th>Predicted</th>\n",
       "      <th>0</th>\n",
       "      <th>1</th>\n",
       "      <th>All</th>\n",
       "    </tr>\n",
       "    <tr>\n",
       "      <th>Actual</th>\n",
       "      <th></th>\n",
       "      <th></th>\n",
       "      <th></th>\n",
       "    </tr>\n",
       "  </thead>\n",
       "  <tbody>\n",
       "    <tr>\n",
       "      <th>0</th>\n",
       "      <td>126</td>\n",
       "      <td>2</td>\n",
       "      <td>128</td>\n",
       "    </tr>\n",
       "    <tr>\n",
       "      <th>1</th>\n",
       "      <td>2</td>\n",
       "      <td>22</td>\n",
       "      <td>24</td>\n",
       "    </tr>\n",
       "    <tr>\n",
       "      <th>All</th>\n",
       "      <td>128</td>\n",
       "      <td>24</td>\n",
       "      <td>152</td>\n",
       "    </tr>\n",
       "  </tbody>\n",
       "</table>\n",
       "</div>"
      ],
      "text/plain": [
       "Predicted    0   1  All\n",
       "Actual                 \n",
       "0          126   2  128\n",
       "1            2  22   24\n",
       "All        128  24  152"
      ]
     },
     "execution_count": 25,
     "metadata": {},
     "output_type": "execute_result"
    }
   ],
   "source": [
    "pd.crosstab(y_test, rf_preds, rownames=['Actual'], colnames=['Predicted'], margins=True)"
   ]
  },
  {
   "attachments": {},
   "cell_type": "markdown",
   "metadata": {},
   "source": [
    "We can view our false positives as:"
   ]
  },
  {
   "cell_type": "code",
   "execution_count": 26,
   "metadata": {},
   "outputs": [
    {
     "data": {
      "text/html": [
       "<div>\n",
       "<style scoped>\n",
       "    .dataframe tbody tr th:only-of-type {\n",
       "        vertical-align: middle;\n",
       "    }\n",
       "\n",
       "    .dataframe tbody tr th {\n",
       "        vertical-align: top;\n",
       "    }\n",
       "\n",
       "    .dataframe thead th {\n",
       "        text-align: right;\n",
       "    }\n",
       "</style>\n",
       "<table border=\"1\" class=\"dataframe\">\n",
       "  <thead>\n",
       "    <tr style=\"text-align: right;\">\n",
       "      <th></th>\n",
       "      <th>Player</th>\n",
       "      <th>year</th>\n",
       "    </tr>\n",
       "  </thead>\n",
       "  <tbody>\n",
       "    <tr>\n",
       "      <th>329</th>\n",
       "      <td>Anthony Davis</td>\n",
       "      <td>2023</td>\n",
       "    </tr>\n",
       "    <tr>\n",
       "      <th>3190</th>\n",
       "      <td>Al Jefferson</td>\n",
       "      <td>2012</td>\n",
       "    </tr>\n",
       "  </tbody>\n",
       "</table>\n",
       "</div>"
      ],
      "text/plain": [
       "             Player  year\n",
       "329   Anthony Davis  2023\n",
       "3190   Al Jefferson  2012"
      ]
     },
     "execution_count": 26,
     "metadata": {},
     "output_type": "execute_result"
    }
   ],
   "source": [
    "#False Positives\n",
    "nba_filt_test[(rf_preds==1) & (y_test==0)][['Player','year']].sort_values(by='year', ascending=False)"
   ]
  },
  {
   "attachments": {},
   "cell_type": "markdown",
   "metadata": {},
   "source": [
    "For our False negatives we have:"
   ]
  },
  {
   "cell_type": "code",
   "execution_count": 27,
   "metadata": {},
   "outputs": [
    {
     "data": {
      "text/html": [
       "<div>\n",
       "<style scoped>\n",
       "    .dataframe tbody tr th:only-of-type {\n",
       "        vertical-align: middle;\n",
       "    }\n",
       "\n",
       "    .dataframe tbody tr th {\n",
       "        vertical-align: top;\n",
       "    }\n",
       "\n",
       "    .dataframe thead th {\n",
       "        text-align: right;\n",
       "    }\n",
       "</style>\n",
       "<table border=\"1\" class=\"dataframe\">\n",
       "  <thead>\n",
       "    <tr style=\"text-align: right;\">\n",
       "      <th></th>\n",
       "      <th>Player</th>\n",
       "      <th>year</th>\n",
       "    </tr>\n",
       "  </thead>\n",
       "  <tbody>\n",
       "    <tr>\n",
       "      <th>373</th>\n",
       "      <td>Domantas Sabonis</td>\n",
       "      <td>2023</td>\n",
       "    </tr>\n",
       "    <tr>\n",
       "      <th>3365</th>\n",
       "      <td>Tyson Chandler</td>\n",
       "      <td>2012</td>\n",
       "    </tr>\n",
       "  </tbody>\n",
       "</table>\n",
       "</div>"
      ],
      "text/plain": [
       "                Player  year\n",
       "373   Domantas Sabonis  2023\n",
       "3365    Tyson Chandler  2012"
      ]
     },
     "execution_count": 27,
     "metadata": {},
     "output_type": "execute_result"
    }
   ],
   "source": [
    "#False Negatives\n",
    "nba_filt_test[(rf_preds==0) & (y_test==1)][['Player','year']].sort_values(by='year', ascending=False)"
   ]
  },
  {
   "cell_type": "code",
   "execution_count": 28,
   "metadata": {},
   "outputs": [],
   "source": [
    "\n",
    "feature_names = rf_model.best_estimator_.named_steps['col_transform'].get_feature_names_out()\n",
    "coef_df = pd.DataFrame({'coefs':rf_model.best_estimator_.named_steps['classifier'].feature_importances_,\n",
    "                          'features':feature_names})\n",
    "coef_df_nz = coef_df[coef_df['coefs']!=0]\n",
    "coef_df_nz.sort_values(by='coefs', ascending=False, inplace=True)"
   ]
  },
  {
   "attachments": {},
   "cell_type": "markdown",
   "metadata": {},
   "source": [
    "We can also view which coefficients made the most impact on the model. We see that VORP and PER were two of the strongest features in predicting All-NBA status, similar to the full dataset model. "
   ]
  },
  {
   "cell_type": "code",
   "execution_count": 29,
   "metadata": {},
   "outputs": [
    {
     "data": {
      "text/html": [
       "\n",
       "<div id=\"altair-viz-4e475eabf4e74132bfca60a5ad3d424e\"></div>\n",
       "<script type=\"text/javascript\">\n",
       "  var VEGA_DEBUG = (typeof VEGA_DEBUG == \"undefined\") ? {} : VEGA_DEBUG;\n",
       "  (function(spec, embedOpt){\n",
       "    let outputDiv = document.currentScript.previousElementSibling;\n",
       "    if (outputDiv.id !== \"altair-viz-4e475eabf4e74132bfca60a5ad3d424e\") {\n",
       "      outputDiv = document.getElementById(\"altair-viz-4e475eabf4e74132bfca60a5ad3d424e\");\n",
       "    }\n",
       "    const paths = {\n",
       "      \"vega\": \"https://cdn.jsdelivr.net/npm//vega@5?noext\",\n",
       "      \"vega-lib\": \"https://cdn.jsdelivr.net/npm//vega-lib?noext\",\n",
       "      \"vega-lite\": \"https://cdn.jsdelivr.net/npm//vega-lite@4.17.0?noext\",\n",
       "      \"vega-embed\": \"https://cdn.jsdelivr.net/npm//vega-embed@6?noext\",\n",
       "    };\n",
       "\n",
       "    function maybeLoadScript(lib, version) {\n",
       "      var key = `${lib.replace(\"-\", \"\")}_version`;\n",
       "      return (VEGA_DEBUG[key] == version) ?\n",
       "        Promise.resolve(paths[lib]) :\n",
       "        new Promise(function(resolve, reject) {\n",
       "          var s = document.createElement('script');\n",
       "          document.getElementsByTagName(\"head\")[0].appendChild(s);\n",
       "          s.async = true;\n",
       "          s.onload = () => {\n",
       "            VEGA_DEBUG[key] = version;\n",
       "            return resolve(paths[lib]);\n",
       "          };\n",
       "          s.onerror = () => reject(`Error loading script: ${paths[lib]}`);\n",
       "          s.src = paths[lib];\n",
       "        });\n",
       "    }\n",
       "\n",
       "    function showError(err) {\n",
       "      outputDiv.innerHTML = `<div class=\"error\" style=\"color:red;\">${err}</div>`;\n",
       "      throw err;\n",
       "    }\n",
       "\n",
       "    function displayChart(vegaEmbed) {\n",
       "      vegaEmbed(outputDiv, spec, embedOpt)\n",
       "        .catch(err => showError(`Javascript Error: ${err.message}<br>This usually means there's a typo in your chart specification. See the javascript console for the full traceback.`));\n",
       "    }\n",
       "\n",
       "    if(typeof define === \"function\" && define.amd) {\n",
       "      requirejs.config({paths});\n",
       "      require([\"vega-embed\"], displayChart, err => showError(`Error loading script: ${err.message}`));\n",
       "    } else {\n",
       "      maybeLoadScript(\"vega\", \"5\")\n",
       "        .then(() => maybeLoadScript(\"vega-lite\", \"4.17.0\"))\n",
       "        .then(() => maybeLoadScript(\"vega-embed\", \"6\"))\n",
       "        .catch(showError)\n",
       "        .then(() => displayChart(vegaEmbed));\n",
       "    }\n",
       "  })({\"config\": {\"view\": {\"continuousWidth\": 400, \"continuousHeight\": 300}}, \"data\": {\"name\": \"data-24678632f37e57ffd1b99bdde9310174\"}, \"mark\": \"bar\", \"encoding\": {\"x\": {\"field\": \"features\", \"sort\": \"-y\", \"type\": \"nominal\"}, \"y\": {\"field\": \"coefs\", \"type\": \"quantitative\"}}, \"$schema\": \"https://vega.github.io/schema/vega-lite/v4.17.0.json\", \"datasets\": {\"data-24678632f37e57ffd1b99bdde9310174\": [{\"coefs\": 0.11056609943906481, \"features\": \"select__PER\"}, {\"coefs\": 0.10847535272532369, \"features\": \"select__VORP\"}, {\"coefs\": 0.07763340989023051, \"features\": \"select__PTS\"}, {\"coefs\": 0.07211108118728002, \"features\": \"select__WS\"}, {\"coefs\": 0.06577237841265823, \"features\": \"select__FTA\"}, {\"coefs\": 0.05312739359907079, \"features\": \"select__DWS\"}, {\"coefs\": 0.04149771794549625, \"features\": \"select__W\"}, {\"coefs\": 0.041417321229164396, \"features\": \"select__FG\"}, {\"coefs\": 0.0394774843291786, \"features\": \"select__num_all_nba\"}, {\"coefs\": 0.035018264904443805, \"features\": \"select__seed\"}, {\"coefs\": 0.026808361086894644, \"features\": \"select__BPM\"}, {\"coefs\": 0.022782761751735724, \"features\": \"select__USG%\"}, {\"coefs\": 0.02189306406315043, \"features\": \"select__WS/48\"}, {\"coefs\": 0.017805941513835945, \"features\": \"select__2P\"}, {\"coefs\": 0.017497454914233813, \"features\": \"select__OWS\"}, {\"coefs\": 0.0148836352362371, \"features\": \"select__FT\"}, {\"coefs\": 0.01471301571517906, \"features\": \"select__TOV\"}, {\"coefs\": 0.01279931361621026, \"features\": \"select__BLK\"}, {\"coefs\": 0.012024118994020136, \"features\": \"select__MP\"}, {\"coefs\": 0.011148617697462226, \"features\": \"select__FGA\"}, {\"coefs\": 0.010600135352283876, \"features\": \"select__TRB\"}, {\"coefs\": 0.010402387265025709, \"features\": \"select__2PA\"}, {\"coefs\": 0.009624814144611919, \"features\": \"select__DRB\"}, {\"coefs\": 0.008704520132116096, \"features\": \"select__BLK%\"}, {\"coefs\": 0.008550342901578262, \"features\": \"select__OBPM\"}, {\"coefs\": 0.008133136878215003, \"features\": \"select__DBPM\"}, {\"coefs\": 0.0073851942610653675, \"features\": \"select__TS%\"}, {\"coefs\": 0.007341041862686219, \"features\": \"select__3PAr\"}, {\"coefs\": 0.007261979817472678, \"features\": \"select__G\"}, {\"coefs\": 0.007135218674147931, \"features\": \"select__FTr\"}, {\"coefs\": 0.007125983092973734, \"features\": \"select__3P%\"}, {\"coefs\": 0.007045456597760934, \"features\": \"select__FT%\"}, {\"coefs\": 0.00680408024283727, \"features\": \"select__TRB%\"}, {\"coefs\": 0.006500751571113096, \"features\": \"select__2P%\"}, {\"coefs\": 0.006304729351767596, \"features\": \"select__GS\"}, {\"coefs\": 0.005991128719748084, \"features\": \"select__Age\"}, {\"coefs\": 0.0054714730819547626, \"features\": \"select__PF\"}, {\"coefs\": 0.005407851474969171, \"features\": \"select__3PA\"}, {\"coefs\": 0.005323070225118647, \"features\": \"select__FG%\"}, {\"coefs\": 0.005293219487873182, \"features\": \"select__AST%\"}]}}, {\"mode\": \"vega-lite\"});\n",
       "</script>"
      ],
      "text/plain": [
       "alt.Chart(...)"
      ]
     },
     "execution_count": 29,
     "metadata": {},
     "output_type": "execute_result"
    }
   ],
   "source": [
    "alt.Chart(coef_df_nz[0:40]).mark_bar().encode(\n",
    "    y='coefs',\n",
    "    x=alt.Y('features', sort='-y'))"
   ]
  },
  {
   "attachments": {},
   "cell_type": "markdown",
   "metadata": {},
   "source": [
    "We can also examine what the 2023 predicted All_NBA team looks like versus the actual team."
   ]
  },
  {
   "cell_type": "code",
   "execution_count": 30,
   "metadata": {},
   "outputs": [
    {
     "data": {
      "text/html": [
       "<div>\n",
       "<style scoped>\n",
       "    .dataframe tbody tr th:only-of-type {\n",
       "        vertical-align: middle;\n",
       "    }\n",
       "\n",
       "    .dataframe tbody tr th {\n",
       "        vertical-align: top;\n",
       "    }\n",
       "\n",
       "    .dataframe thead th {\n",
       "        text-align: right;\n",
       "    }\n",
       "</style>\n",
       "<table border=\"1\" class=\"dataframe\">\n",
       "  <thead>\n",
       "    <tr style=\"text-align: right;\">\n",
       "      <th></th>\n",
       "      <th>Player</th>\n",
       "      <th>year</th>\n",
       "      <th>all_nba_tm</th>\n",
       "    </tr>\n",
       "  </thead>\n",
       "  <tbody>\n",
       "    <tr>\n",
       "      <th>509</th>\n",
       "      <td>Joel Embiid</td>\n",
       "      <td>2023</td>\n",
       "      <td>1st</td>\n",
       "    </tr>\n",
       "    <tr>\n",
       "      <th>472</th>\n",
       "      <td>Nikola Jokić</td>\n",
       "      <td>2023</td>\n",
       "      <td>2nd</td>\n",
       "    </tr>\n",
       "    <tr>\n",
       "      <th>373</th>\n",
       "      <td>Domantas Sabonis</td>\n",
       "      <td>2023</td>\n",
       "      <td>3rd</td>\n",
       "    </tr>\n",
       "  </tbody>\n",
       "</table>\n",
       "</div>"
      ],
      "text/plain": [
       "               Player  year all_nba_tm\n",
       "509       Joel Embiid  2023        1st\n",
       "472      Nikola Jokić  2023        2nd\n",
       "373  Domantas Sabonis  2023        3rd"
      ]
     },
     "execution_count": 30,
     "metadata": {},
     "output_type": "execute_result"
    }
   ],
   "source": [
    "true_all_nba(nba_filt_test, 2023)"
   ]
  },
  {
   "cell_type": "code",
   "execution_count": 31,
   "metadata": {},
   "outputs": [
    {
     "data": {
      "text/html": [
       "<div>\n",
       "<style scoped>\n",
       "    .dataframe tbody tr th:only-of-type {\n",
       "        vertical-align: middle;\n",
       "    }\n",
       "\n",
       "    .dataframe tbody tr th {\n",
       "        vertical-align: top;\n",
       "    }\n",
       "\n",
       "    .dataframe thead th {\n",
       "        text-align: right;\n",
       "    }\n",
       "</style>\n",
       "<table border=\"1\" class=\"dataframe\">\n",
       "  <thead>\n",
       "    <tr style=\"text-align: right;\">\n",
       "      <th></th>\n",
       "      <th>Player</th>\n",
       "      <th>year</th>\n",
       "      <th>Position</th>\n",
       "      <th>all_nba_tm</th>\n",
       "      <th>prob_all_nba</th>\n",
       "      <th>pred_all_nba</th>\n",
       "      <th>all_nba_c_year</th>\n",
       "      <th>4th Team</th>\n",
       "    </tr>\n",
       "  </thead>\n",
       "  <tbody>\n",
       "    <tr>\n",
       "      <th>509</th>\n",
       "      <td>Joel Embiid</td>\n",
       "      <td>2023</td>\n",
       "      <td>C</td>\n",
       "      <td>1st</td>\n",
       "      <td>0.961803</td>\n",
       "      <td>1</td>\n",
       "      <td>1</td>\n",
       "      <td>0</td>\n",
       "    </tr>\n",
       "    <tr>\n",
       "      <th>472</th>\n",
       "      <td>Nikola Jokić</td>\n",
       "      <td>2023</td>\n",
       "      <td>C</td>\n",
       "      <td>2nd</td>\n",
       "      <td>0.836940</td>\n",
       "      <td>1</td>\n",
       "      <td>1</td>\n",
       "      <td>0</td>\n",
       "    </tr>\n",
       "    <tr>\n",
       "      <th>329</th>\n",
       "      <td>Anthony Davis</td>\n",
       "      <td>2023</td>\n",
       "      <td>C</td>\n",
       "      <td>None</td>\n",
       "      <td>0.639257</td>\n",
       "      <td>1</td>\n",
       "      <td>0</td>\n",
       "      <td>0</td>\n",
       "    </tr>\n",
       "    <tr>\n",
       "      <th>373</th>\n",
       "      <td>Domantas Sabonis</td>\n",
       "      <td>2023</td>\n",
       "      <td>C</td>\n",
       "      <td>3rd</td>\n",
       "      <td>0.561769</td>\n",
       "      <td>0</td>\n",
       "      <td>1</td>\n",
       "      <td>1</td>\n",
       "    </tr>\n",
       "    <tr>\n",
       "      <th>432</th>\n",
       "      <td>Nikola Vučević</td>\n",
       "      <td>2023</td>\n",
       "      <td>C</td>\n",
       "      <td>None</td>\n",
       "      <td>0.200652</td>\n",
       "      <td>0</td>\n",
       "      <td>0</td>\n",
       "      <td>0</td>\n",
       "    </tr>\n",
       "    <tr>\n",
       "      <th>480</th>\n",
       "      <td>Nic Claxton</td>\n",
       "      <td>2023</td>\n",
       "      <td>C</td>\n",
       "      <td>None</td>\n",
       "      <td>0.187048</td>\n",
       "      <td>0</td>\n",
       "      <td>0</td>\n",
       "      <td>0</td>\n",
       "    </tr>\n",
       "    <tr>\n",
       "      <th>262</th>\n",
       "      <td>Kristaps Porziņģis</td>\n",
       "      <td>2023</td>\n",
       "      <td>C</td>\n",
       "      <td>None</td>\n",
       "      <td>0.129512</td>\n",
       "      <td>0</td>\n",
       "      <td>0</td>\n",
       "      <td>0</td>\n",
       "    </tr>\n",
       "    <tr>\n",
       "      <th>169</th>\n",
       "      <td>Jarrett Allen</td>\n",
       "      <td>2023</td>\n",
       "      <td>C</td>\n",
       "      <td>None</td>\n",
       "      <td>0.100322</td>\n",
       "      <td>0</td>\n",
       "      <td>0</td>\n",
       "      <td>0</td>\n",
       "    </tr>\n",
       "  </tbody>\n",
       "</table>\n",
       "</div>"
      ],
      "text/plain": [
       "                 Player  year Position all_nba_tm  prob_all_nba  pred_all_nba  \\\n",
       "509         Joel Embiid  2023        C        1st      0.961803             1   \n",
       "472        Nikola Jokić  2023        C        2nd      0.836940             1   \n",
       "329       Anthony Davis  2023        C       None      0.639257             1   \n",
       "373    Domantas Sabonis  2023        C        3rd      0.561769             0   \n",
       "432      Nikola Vučević  2023        C       None      0.200652             0   \n",
       "480         Nic Claxton  2023        C       None      0.187048             0   \n",
       "262  Kristaps Porziņģis  2023        C       None      0.129512             0   \n",
       "169       Jarrett Allen  2023        C       None      0.100322             0   \n",
       "\n",
       "     all_nba_c_year  4th Team  \n",
       "509               1         0  \n",
       "472               1         0  \n",
       "329               0         0  \n",
       "373               1         1  \n",
       "432               0         0  \n",
       "480               0         0  \n",
       "262               0         0  \n",
       "169               0         0  "
      ]
     },
     "execution_count": 31,
     "metadata": {},
     "output_type": "execute_result"
    }
   ],
   "source": [
    "pred_all_nba_df(nba_filt_test, 2023, rf_model)"
   ]
  },
  {
   "attachments": {},
   "cell_type": "markdown",
   "metadata": {},
   "source": [
    "# XGBoost"
   ]
  },
  {
   "attachments": {},
   "cell_type": "markdown",
   "metadata": {},
   "source": [
    "XGboost is a more recent classification algorithm that also makes use of ensemble learners. In this algorithm, we similarly create decision trees, but rather than each tree being independent, each successive tree tries to improve on its predecessor. This is done by trying to fit to residual values, and find any underlying patterns that may be there. The algorithm is stopped when the residuals are sufficiently random and no more patterns can be found. Similar to Random Forests, we have quite a bit of hyper parameters to tune, so a randomized CV search is utilized. "
   ]
  },
  {
   "cell_type": "code",
   "execution_count": 32,
   "metadata": {},
   "outputs": [],
   "source": [
    "import xgboost as xgb\n",
    "from sklearn.model_selection import RandomizedSearchCV\n",
    "\n",
    "\n",
    "#Now we will fit a random forest model to the data. We will fit this data into a pipeline to scale the data and then fit the model.\n",
    "\n",
    "scale_pos = (len(y_train) - sum(y_train))/sum(y_train)\n",
    "\n",
    "num_features = ['Age','G', \n",
    "                'GS', 'MP',\n",
    "                'FG', 'FGA', \n",
    "                'FG%', \n",
    "                '3P', '3PA', '3P%',\n",
    "                '2P', '2PA', \n",
    "                '2P%', 'eFG%', \n",
    "                'FT', 'FTA', 'FT%', \n",
    "                'ORB', \n",
    "                'DRB', \n",
    "                'TRB',\n",
    "                'AST', 'STL', 'BLK', 'TOV', 'PF', 'PTS', 'PER', \n",
    "                'TS%', '3PAr', 'FTr',\n",
    "                'ORB%', 'DRB%', 'TRB%', 'AST%', 'STL%', 'BLK%', 'TOV%', 'USG%', \n",
    "                'OWS',\n",
    "                'DWS',\n",
    "                'WS', \n",
    "                'WS/48', \n",
    "                'OBPM', \n",
    "                'DBPM', \n",
    "                'BPM', \n",
    "                'VORP', 'W',\n",
    "                'num_all_nba',\n",
    "                'seed'\n",
    "                ]\n",
    "\n",
    "#cat_features = ['Tm']\n",
    "\n",
    "#Now I will create a pipeline where I extract my_features, and apply OHE to cat_features\n",
    "ct3 = ColumnTransformer(\n",
    "    [(\"select\", \"passthrough\", num_features),\n",
    "     #(\"ohe\", OneHotEncoder(handle_unknown=\"ignore\"), cat_features)\n",
    "     ],\n",
    "     remainder=\"drop\"\n",
    ")\n",
    "\n",
    "clf3 = Pipeline([('col_transform',ct3),\n",
    "                     ('classifier',xgb.XGBClassifier(random_state=0, scale_pos_weight = scale_pos))\n",
    "                     ])\n",
    "xgb_param_grid = {\n",
    "    'classifier__n_estimators': [100, 200, 300, 400, 500],\n",
    "    'classifier__max_depth': [5, 10, 15, 20, 25],\n",
    "    'classifier__learning_rate': [0.01, 0.05, 0.1, 0.15, 0.2, .3],\n",
    "    'classifier__min_child_weight': [1, 2, 5, 10, 15],\n",
    "    'classifier__gamma': [0, 0.1, 0.2, 0.3, 0.4],\n",
    "    'classifier__colsample_bytree': [0.3, 0.4, 0.5, 0.6, 0.7],\n",
    "    'classifier__subsample': [0.3, 0.4, 0.5, 0.6, 0.7,1]\n",
    "}\n",
    "\n",
    "xgb_model = RandomizedSearchCV(estimator=clf3, param_distributions=xgb_param_grid, cv= 5, n_iter = 3000,\n",
    "                           random_state=0,\n",
    "                           scoring=all_nba_f1,\n",
    "                           n_jobs = -1\n",
    "                           )"
   ]
  },
  {
   "cell_type": "code",
   "execution_count": 33,
   "metadata": {},
   "outputs": [
    {
     "data": {
      "text/html": [
       "<style>#sk-container-id-3 {color: black;background-color: white;}#sk-container-id-3 pre{padding: 0;}#sk-container-id-3 div.sk-toggleable {background-color: white;}#sk-container-id-3 label.sk-toggleable__label {cursor: pointer;display: block;width: 100%;margin-bottom: 0;padding: 0.3em;box-sizing: border-box;text-align: center;}#sk-container-id-3 label.sk-toggleable__label-arrow:before {content: \"▸\";float: left;margin-right: 0.25em;color: #696969;}#sk-container-id-3 label.sk-toggleable__label-arrow:hover:before {color: black;}#sk-container-id-3 div.sk-estimator:hover label.sk-toggleable__label-arrow:before {color: black;}#sk-container-id-3 div.sk-toggleable__content {max-height: 0;max-width: 0;overflow: hidden;text-align: left;background-color: #f0f8ff;}#sk-container-id-3 div.sk-toggleable__content pre {margin: 0.2em;color: black;border-radius: 0.25em;background-color: #f0f8ff;}#sk-container-id-3 input.sk-toggleable__control:checked~div.sk-toggleable__content {max-height: 200px;max-width: 100%;overflow: auto;}#sk-container-id-3 input.sk-toggleable__control:checked~label.sk-toggleable__label-arrow:before {content: \"▾\";}#sk-container-id-3 div.sk-estimator input.sk-toggleable__control:checked~label.sk-toggleable__label {background-color: #d4ebff;}#sk-container-id-3 div.sk-label input.sk-toggleable__control:checked~label.sk-toggleable__label {background-color: #d4ebff;}#sk-container-id-3 input.sk-hidden--visually {border: 0;clip: rect(1px 1px 1px 1px);clip: rect(1px, 1px, 1px, 1px);height: 1px;margin: -1px;overflow: hidden;padding: 0;position: absolute;width: 1px;}#sk-container-id-3 div.sk-estimator {font-family: monospace;background-color: #f0f8ff;border: 1px dotted black;border-radius: 0.25em;box-sizing: border-box;margin-bottom: 0.5em;}#sk-container-id-3 div.sk-estimator:hover {background-color: #d4ebff;}#sk-container-id-3 div.sk-parallel-item::after {content: \"\";width: 100%;border-bottom: 1px solid gray;flex-grow: 1;}#sk-container-id-3 div.sk-label:hover label.sk-toggleable__label {background-color: #d4ebff;}#sk-container-id-3 div.sk-serial::before {content: \"\";position: absolute;border-left: 1px solid gray;box-sizing: border-box;top: 0;bottom: 0;left: 50%;z-index: 0;}#sk-container-id-3 div.sk-serial {display: flex;flex-direction: column;align-items: center;background-color: white;padding-right: 0.2em;padding-left: 0.2em;position: relative;}#sk-container-id-3 div.sk-item {position: relative;z-index: 1;}#sk-container-id-3 div.sk-parallel {display: flex;align-items: stretch;justify-content: center;background-color: white;position: relative;}#sk-container-id-3 div.sk-item::before, #sk-container-id-3 div.sk-parallel-item::before {content: \"\";position: absolute;border-left: 1px solid gray;box-sizing: border-box;top: 0;bottom: 0;left: 50%;z-index: -1;}#sk-container-id-3 div.sk-parallel-item {display: flex;flex-direction: column;z-index: 1;position: relative;background-color: white;}#sk-container-id-3 div.sk-parallel-item:first-child::after {align-self: flex-end;width: 50%;}#sk-container-id-3 div.sk-parallel-item:last-child::after {align-self: flex-start;width: 50%;}#sk-container-id-3 div.sk-parallel-item:only-child::after {width: 0;}#sk-container-id-3 div.sk-dashed-wrapped {border: 1px dashed gray;margin: 0 0.4em 0.5em 0.4em;box-sizing: border-box;padding-bottom: 0.4em;background-color: white;}#sk-container-id-3 div.sk-label label {font-family: monospace;font-weight: bold;display: inline-block;line-height: 1.2em;}#sk-container-id-3 div.sk-label-container {text-align: center;}#sk-container-id-3 div.sk-container {/* jupyter's `normalize.less` sets `[hidden] { display: none; }` but bootstrap.min.css set `[hidden] { display: none !important; }` so we also need the `!important` here to be able to override the default hidden behavior on the sphinx rendered scikit-learn.org. See: https://github.com/scikit-learn/scikit-learn/issues/21755 */display: inline-block !important;position: relative;}#sk-container-id-3 div.sk-text-repr-fallback {display: none;}</style><div id=\"sk-container-id-3\" class=\"sk-top-container\"><div class=\"sk-text-repr-fallback\"><pre>RandomizedSearchCV(cv=5,\n",
       "                   estimator=Pipeline(steps=[(&#x27;col_transform&#x27;,\n",
       "                                              ColumnTransformer(transformers=[(&#x27;select&#x27;,\n",
       "                                                                               &#x27;passthrough&#x27;,\n",
       "                                                                               [&#x27;Age&#x27;,\n",
       "                                                                                &#x27;G&#x27;,\n",
       "                                                                                &#x27;GS&#x27;,\n",
       "                                                                                &#x27;MP&#x27;,\n",
       "                                                                                &#x27;FG&#x27;,\n",
       "                                                                                &#x27;FGA&#x27;,\n",
       "                                                                                &#x27;FG%&#x27;,\n",
       "                                                                                &#x27;3P&#x27;,\n",
       "                                                                                &#x27;3PA&#x27;,\n",
       "                                                                                &#x27;3P%&#x27;,\n",
       "                                                                                &#x27;2P&#x27;,\n",
       "                                                                                &#x27;2PA&#x27;,\n",
       "                                                                                &#x27;2P%&#x27;,\n",
       "                                                                                &#x27;eFG%&#x27;,\n",
       "                                                                                &#x27;FT&#x27;,\n",
       "                                                                                &#x27;FTA&#x27;,\n",
       "                                                                                &#x27;FT%&#x27;,\n",
       "                                                                                &#x27;ORB&#x27;,\n",
       "                                                                                &#x27;DRB&#x27;,\n",
       "                                                                                &#x27;TRB&#x27;,\n",
       "                                                                                &#x27;AST&#x27;,\n",
       "                                                                                &#x27;STL&#x27;,\n",
       "                                                                                &#x27;BLK&#x27;,\n",
       "                                                                                &#x27;TOV&#x27;,\n",
       "                                                                                &#x27;PF&#x27;,\n",
       "                                                                                &#x27;PTS&#x27;,\n",
       "                                                                                &#x27;PER&#x27;,\n",
       "                                                                                &#x27;TS%&#x27;,\n",
       "                                                                                &#x27;3PAr&#x27;,\n",
       "                                                                                &#x27;FTr&#x27;, ...])])),\n",
       "                                             (&#x27;classifier&#x27;,\n",
       "                                              XGBClassifier(base_score=None,...\n",
       "                                                                         0.5,\n",
       "                                                                         0.6,\n",
       "                                                                         0.7],\n",
       "                                        &#x27;classifier__gamma&#x27;: [0, 0.1, 0.2, 0.3,\n",
       "                                                              0.4],\n",
       "                                        &#x27;classifier__learning_rate&#x27;: [0.01,\n",
       "                                                                      0.05, 0.1,\n",
       "                                                                      0.15, 0.2,\n",
       "                                                                      0.3],\n",
       "                                        &#x27;classifier__max_depth&#x27;: [5, 10, 15, 20,\n",
       "                                                                  25],\n",
       "                                        &#x27;classifier__min_child_weight&#x27;: [1, 2,\n",
       "                                                                         5, 10,\n",
       "                                                                         15],\n",
       "                                        &#x27;classifier__n_estimators&#x27;: [100, 200,\n",
       "                                                                     300, 400,\n",
       "                                                                     500],\n",
       "                                        &#x27;classifier__subsample&#x27;: [0.3, 0.4, 0.5,\n",
       "                                                                  0.6, 0.7,\n",
       "                                                                  1]},\n",
       "                   random_state=0,\n",
       "                   scoring=&lt;function all_nba_f1 at 0x143987280&gt;)</pre><b>In a Jupyter environment, please rerun this cell to show the HTML representation or trust the notebook. <br />On GitHub, the HTML representation is unable to render, please try loading this page with nbviewer.org.</b></div><div class=\"sk-container\" hidden><div class=\"sk-item sk-dashed-wrapped\"><div class=\"sk-label-container\"><div class=\"sk-label sk-toggleable\"><input class=\"sk-toggleable__control sk-hidden--visually\" id=\"sk-estimator-id-13\" type=\"checkbox\" ><label for=\"sk-estimator-id-13\" class=\"sk-toggleable__label sk-toggleable__label-arrow\">RandomizedSearchCV</label><div class=\"sk-toggleable__content\"><pre>RandomizedSearchCV(cv=5,\n",
       "                   estimator=Pipeline(steps=[(&#x27;col_transform&#x27;,\n",
       "                                              ColumnTransformer(transformers=[(&#x27;select&#x27;,\n",
       "                                                                               &#x27;passthrough&#x27;,\n",
       "                                                                               [&#x27;Age&#x27;,\n",
       "                                                                                &#x27;G&#x27;,\n",
       "                                                                                &#x27;GS&#x27;,\n",
       "                                                                                &#x27;MP&#x27;,\n",
       "                                                                                &#x27;FG&#x27;,\n",
       "                                                                                &#x27;FGA&#x27;,\n",
       "                                                                                &#x27;FG%&#x27;,\n",
       "                                                                                &#x27;3P&#x27;,\n",
       "                                                                                &#x27;3PA&#x27;,\n",
       "                                                                                &#x27;3P%&#x27;,\n",
       "                                                                                &#x27;2P&#x27;,\n",
       "                                                                                &#x27;2PA&#x27;,\n",
       "                                                                                &#x27;2P%&#x27;,\n",
       "                                                                                &#x27;eFG%&#x27;,\n",
       "                                                                                &#x27;FT&#x27;,\n",
       "                                                                                &#x27;FTA&#x27;,\n",
       "                                                                                &#x27;FT%&#x27;,\n",
       "                                                                                &#x27;ORB&#x27;,\n",
       "                                                                                &#x27;DRB&#x27;,\n",
       "                                                                                &#x27;TRB&#x27;,\n",
       "                                                                                &#x27;AST&#x27;,\n",
       "                                                                                &#x27;STL&#x27;,\n",
       "                                                                                &#x27;BLK&#x27;,\n",
       "                                                                                &#x27;TOV&#x27;,\n",
       "                                                                                &#x27;PF&#x27;,\n",
       "                                                                                &#x27;PTS&#x27;,\n",
       "                                                                                &#x27;PER&#x27;,\n",
       "                                                                                &#x27;TS%&#x27;,\n",
       "                                                                                &#x27;3PAr&#x27;,\n",
       "                                                                                &#x27;FTr&#x27;, ...])])),\n",
       "                                             (&#x27;classifier&#x27;,\n",
       "                                              XGBClassifier(base_score=None,...\n",
       "                                                                         0.5,\n",
       "                                                                         0.6,\n",
       "                                                                         0.7],\n",
       "                                        &#x27;classifier__gamma&#x27;: [0, 0.1, 0.2, 0.3,\n",
       "                                                              0.4],\n",
       "                                        &#x27;classifier__learning_rate&#x27;: [0.01,\n",
       "                                                                      0.05, 0.1,\n",
       "                                                                      0.15, 0.2,\n",
       "                                                                      0.3],\n",
       "                                        &#x27;classifier__max_depth&#x27;: [5, 10, 15, 20,\n",
       "                                                                  25],\n",
       "                                        &#x27;classifier__min_child_weight&#x27;: [1, 2,\n",
       "                                                                         5, 10,\n",
       "                                                                         15],\n",
       "                                        &#x27;classifier__n_estimators&#x27;: [100, 200,\n",
       "                                                                     300, 400,\n",
       "                                                                     500],\n",
       "                                        &#x27;classifier__subsample&#x27;: [0.3, 0.4, 0.5,\n",
       "                                                                  0.6, 0.7,\n",
       "                                                                  1]},\n",
       "                   random_state=0,\n",
       "                   scoring=&lt;function all_nba_f1 at 0x143987280&gt;)</pre></div></div></div><div class=\"sk-parallel\"><div class=\"sk-parallel-item\"><div class=\"sk-item\"><div class=\"sk-label-container\"><div class=\"sk-label sk-toggleable\"><input class=\"sk-toggleable__control sk-hidden--visually\" id=\"sk-estimator-id-14\" type=\"checkbox\" ><label for=\"sk-estimator-id-14\" class=\"sk-toggleable__label sk-toggleable__label-arrow\">estimator: Pipeline</label><div class=\"sk-toggleable__content\"><pre>Pipeline(steps=[(&#x27;col_transform&#x27;,\n",
       "                 ColumnTransformer(transformers=[(&#x27;select&#x27;, &#x27;passthrough&#x27;,\n",
       "                                                  [&#x27;Age&#x27;, &#x27;G&#x27;, &#x27;GS&#x27;, &#x27;MP&#x27;, &#x27;FG&#x27;,\n",
       "                                                   &#x27;FGA&#x27;, &#x27;FG%&#x27;, &#x27;3P&#x27;, &#x27;3PA&#x27;,\n",
       "                                                   &#x27;3P%&#x27;, &#x27;2P&#x27;, &#x27;2PA&#x27;, &#x27;2P%&#x27;,\n",
       "                                                   &#x27;eFG%&#x27;, &#x27;FT&#x27;, &#x27;FTA&#x27;, &#x27;FT%&#x27;,\n",
       "                                                   &#x27;ORB&#x27;, &#x27;DRB&#x27;, &#x27;TRB&#x27;, &#x27;AST&#x27;,\n",
       "                                                   &#x27;STL&#x27;, &#x27;BLK&#x27;, &#x27;TOV&#x27;, &#x27;PF&#x27;,\n",
       "                                                   &#x27;PTS&#x27;, &#x27;PER&#x27;, &#x27;TS%&#x27;, &#x27;3PAr&#x27;,\n",
       "                                                   &#x27;FTr&#x27;, ...])])),\n",
       "                (&#x27;classifier&#x27;,\n",
       "                 XGBClassifier(base_score=None, booster=None, callbacks=None,\n",
       "                               colsam...\n",
       "                               feature_types=None, gamma=None, gpu_id=None,\n",
       "                               grow_policy=None, importance_type=None,\n",
       "                               interaction_constraints=None, learning_rate=None,\n",
       "                               max_bin=None, max_cat_threshold=None,\n",
       "                               max_cat_to_onehot=None, max_delta_step=None,\n",
       "                               max_depth=None, max_leaves=None,\n",
       "                               min_child_weight=None, missing=nan,\n",
       "                               monotone_constraints=None, n_estimators=100,\n",
       "                               n_jobs=None, num_parallel_tree=None,\n",
       "                               predictor=None, random_state=0, ...))])</pre></div></div></div><div class=\"sk-serial\"><div class=\"sk-item\"><div class=\"sk-serial\"><div class=\"sk-item sk-dashed-wrapped\"><div class=\"sk-label-container\"><div class=\"sk-label sk-toggleable\"><input class=\"sk-toggleable__control sk-hidden--visually\" id=\"sk-estimator-id-15\" type=\"checkbox\" ><label for=\"sk-estimator-id-15\" class=\"sk-toggleable__label sk-toggleable__label-arrow\">col_transform: ColumnTransformer</label><div class=\"sk-toggleable__content\"><pre>ColumnTransformer(transformers=[(&#x27;select&#x27;, &#x27;passthrough&#x27;,\n",
       "                                 [&#x27;Age&#x27;, &#x27;G&#x27;, &#x27;GS&#x27;, &#x27;MP&#x27;, &#x27;FG&#x27;, &#x27;FGA&#x27;, &#x27;FG%&#x27;,\n",
       "                                  &#x27;3P&#x27;, &#x27;3PA&#x27;, &#x27;3P%&#x27;, &#x27;2P&#x27;, &#x27;2PA&#x27;, &#x27;2P%&#x27;,\n",
       "                                  &#x27;eFG%&#x27;, &#x27;FT&#x27;, &#x27;FTA&#x27;, &#x27;FT%&#x27;, &#x27;ORB&#x27;, &#x27;DRB&#x27;,\n",
       "                                  &#x27;TRB&#x27;, &#x27;AST&#x27;, &#x27;STL&#x27;, &#x27;BLK&#x27;, &#x27;TOV&#x27;, &#x27;PF&#x27;,\n",
       "                                  &#x27;PTS&#x27;, &#x27;PER&#x27;, &#x27;TS%&#x27;, &#x27;3PAr&#x27;, &#x27;FTr&#x27;, ...])])</pre></div></div></div><div class=\"sk-parallel\"><div class=\"sk-parallel-item\"><div class=\"sk-item\"><div class=\"sk-label-container\"><div class=\"sk-label sk-toggleable\"><input class=\"sk-toggleable__control sk-hidden--visually\" id=\"sk-estimator-id-16\" type=\"checkbox\" ><label for=\"sk-estimator-id-16\" class=\"sk-toggleable__label sk-toggleable__label-arrow\">select</label><div class=\"sk-toggleable__content\"><pre>[&#x27;Age&#x27;, &#x27;G&#x27;, &#x27;GS&#x27;, &#x27;MP&#x27;, &#x27;FG&#x27;, &#x27;FGA&#x27;, &#x27;FG%&#x27;, &#x27;3P&#x27;, &#x27;3PA&#x27;, &#x27;3P%&#x27;, &#x27;2P&#x27;, &#x27;2PA&#x27;, &#x27;2P%&#x27;, &#x27;eFG%&#x27;, &#x27;FT&#x27;, &#x27;FTA&#x27;, &#x27;FT%&#x27;, &#x27;ORB&#x27;, &#x27;DRB&#x27;, &#x27;TRB&#x27;, &#x27;AST&#x27;, &#x27;STL&#x27;, &#x27;BLK&#x27;, &#x27;TOV&#x27;, &#x27;PF&#x27;, &#x27;PTS&#x27;, &#x27;PER&#x27;, &#x27;TS%&#x27;, &#x27;3PAr&#x27;, &#x27;FTr&#x27;, &#x27;ORB%&#x27;, &#x27;DRB%&#x27;, &#x27;TRB%&#x27;, &#x27;AST%&#x27;, &#x27;STL%&#x27;, &#x27;BLK%&#x27;, &#x27;TOV%&#x27;, &#x27;USG%&#x27;, &#x27;OWS&#x27;, &#x27;DWS&#x27;, &#x27;WS&#x27;, &#x27;WS/48&#x27;, &#x27;OBPM&#x27;, &#x27;DBPM&#x27;, &#x27;BPM&#x27;, &#x27;VORP&#x27;, &#x27;W&#x27;, &#x27;num_all_nba&#x27;, &#x27;seed&#x27;]</pre></div></div></div><div class=\"sk-serial\"><div class=\"sk-item\"><div class=\"sk-estimator sk-toggleable\"><input class=\"sk-toggleable__control sk-hidden--visually\" id=\"sk-estimator-id-17\" type=\"checkbox\" ><label for=\"sk-estimator-id-17\" class=\"sk-toggleable__label sk-toggleable__label-arrow\">passthrough</label><div class=\"sk-toggleable__content\"><pre>passthrough</pre></div></div></div></div></div></div></div></div><div class=\"sk-item\"><div class=\"sk-estimator sk-toggleable\"><input class=\"sk-toggleable__control sk-hidden--visually\" id=\"sk-estimator-id-18\" type=\"checkbox\" ><label for=\"sk-estimator-id-18\" class=\"sk-toggleable__label sk-toggleable__label-arrow\">XGBClassifier</label><div class=\"sk-toggleable__content\"><pre>XGBClassifier(base_score=None, booster=None, callbacks=None,\n",
       "              colsample_bylevel=None, colsample_bynode=None,\n",
       "              colsample_bytree=None, early_stopping_rounds=None,\n",
       "              enable_categorical=False, eval_metric=None, feature_types=None,\n",
       "              gamma=None, gpu_id=None, grow_policy=None, importance_type=None,\n",
       "              interaction_constraints=None, learning_rate=None, max_bin=None,\n",
       "              max_cat_threshold=None, max_cat_to_onehot=None,\n",
       "              max_delta_step=None, max_depth=None, max_leaves=None,\n",
       "              min_child_weight=None, missing=nan, monotone_constraints=None,\n",
       "              n_estimators=100, n_jobs=None, num_parallel_tree=None,\n",
       "              predictor=None, random_state=0, ...)</pre></div></div></div></div></div></div></div></div></div></div></div></div>"
      ],
      "text/plain": [
       "RandomizedSearchCV(cv=5,\n",
       "                   estimator=Pipeline(steps=[('col_transform',\n",
       "                                              ColumnTransformer(transformers=[('select',\n",
       "                                                                               'passthrough',\n",
       "                                                                               ['Age',\n",
       "                                                                                'G',\n",
       "                                                                                'GS',\n",
       "                                                                                'MP',\n",
       "                                                                                'FG',\n",
       "                                                                                'FGA',\n",
       "                                                                                'FG%',\n",
       "                                                                                '3P',\n",
       "                                                                                '3PA',\n",
       "                                                                                '3P%',\n",
       "                                                                                '2P',\n",
       "                                                                                '2PA',\n",
       "                                                                                '2P%',\n",
       "                                                                                'eFG%',\n",
       "                                                                                'FT',\n",
       "                                                                                'FTA',\n",
       "                                                                                'FT%',\n",
       "                                                                                'ORB',\n",
       "                                                                                'DRB',\n",
       "                                                                                'TRB',\n",
       "                                                                                'AST',\n",
       "                                                                                'STL',\n",
       "                                                                                'BLK',\n",
       "                                                                                'TOV',\n",
       "                                                                                'PF',\n",
       "                                                                                'PTS',\n",
       "                                                                                'PER',\n",
       "                                                                                'TS%',\n",
       "                                                                                '3PAr',\n",
       "                                                                                'FTr', ...])])),\n",
       "                                             ('classifier',\n",
       "                                              XGBClassifier(base_score=None,...\n",
       "                                                                         0.5,\n",
       "                                                                         0.6,\n",
       "                                                                         0.7],\n",
       "                                        'classifier__gamma': [0, 0.1, 0.2, 0.3,\n",
       "                                                              0.4],\n",
       "                                        'classifier__learning_rate': [0.01,\n",
       "                                                                      0.05, 0.1,\n",
       "                                                                      0.15, 0.2,\n",
       "                                                                      0.3],\n",
       "                                        'classifier__max_depth': [5, 10, 15, 20,\n",
       "                                                                  25],\n",
       "                                        'classifier__min_child_weight': [1, 2,\n",
       "                                                                         5, 10,\n",
       "                                                                         15],\n",
       "                                        'classifier__n_estimators': [100, 200,\n",
       "                                                                     300, 400,\n",
       "                                                                     500],\n",
       "                                        'classifier__subsample': [0.3, 0.4, 0.5,\n",
       "                                                                  0.6, 0.7,\n",
       "                                                                  1]},\n",
       "                   random_state=0,\n",
       "                   scoring=<function all_nba_f1 at 0x143987280>)"
      ]
     },
     "execution_count": 33,
     "metadata": {},
     "output_type": "execute_result"
    }
   ],
   "source": [
    "xgb_model.fit(nba_filt_train, y_train)"
   ]
  },
  {
   "cell_type": "code",
   "execution_count": 34,
   "metadata": {},
   "outputs": [
    {
     "data": {
      "text/plain": [
       "{'classifier__subsample': 1,\n",
       " 'classifier__n_estimators': 100,\n",
       " 'classifier__min_child_weight': 10,\n",
       " 'classifier__max_depth': 15,\n",
       " 'classifier__learning_rate': 0.01,\n",
       " 'classifier__gamma': 0.1,\n",
       " 'classifier__colsample_bytree': 0.3}"
      ]
     },
     "execution_count": 34,
     "metadata": {},
     "output_type": "execute_result"
    }
   ],
   "source": [
    "xgb_model.best_params_"
   ]
  },
  {
   "attachments": {},
   "cell_type": "markdown",
   "metadata": {},
   "source": [
    "### Results"
   ]
  },
  {
   "cell_type": "code",
   "execution_count": 35,
   "metadata": {},
   "outputs": [],
   "source": [
    "xg_c_preds = predicted_all_nba(nba_filt_test, xgb_model)\n",
    "xgb_preds = xg_c_preds['pred_all_nba']\n",
    "\n",
    "xg_c_preds.to_csv(\"test_preds/xg_preds_c.csv\")"
   ]
  },
  {
   "attachments": {},
   "cell_type": "markdown",
   "metadata": {},
   "source": [
    "We see that this algorithm gives us not too bad of metrics, similar to the logistic regression tested prior."
   ]
  },
  {
   "cell_type": "code",
   "execution_count": 36,
   "metadata": {},
   "outputs": [
    {
     "name": "stdout",
     "output_type": "stream",
     "text": [
      "              precision    recall  f1-score   support\n",
      "\n",
      " Not All-NBA       0.98      0.98      0.98       128\n",
      "     All-NBA       0.88      0.88      0.88        24\n",
      "\n",
      "    accuracy                           0.96       152\n",
      "   macro avg       0.93      0.93      0.93       152\n",
      "weighted avg       0.96      0.96      0.96       152\n",
      "\n"
     ]
    }
   ],
   "source": [
    "print(classification_report(y_test, xgb_preds, target_names=['Not All-NBA', 'All-NBA']))"
   ]
  },
  {
   "cell_type": "code",
   "execution_count": 37,
   "metadata": {},
   "outputs": [
    {
     "data": {
      "text/html": [
       "<div>\n",
       "<style scoped>\n",
       "    .dataframe tbody tr th:only-of-type {\n",
       "        vertical-align: middle;\n",
       "    }\n",
       "\n",
       "    .dataframe tbody tr th {\n",
       "        vertical-align: top;\n",
       "    }\n",
       "\n",
       "    .dataframe thead th {\n",
       "        text-align: right;\n",
       "    }\n",
       "</style>\n",
       "<table border=\"1\" class=\"dataframe\">\n",
       "  <thead>\n",
       "    <tr style=\"text-align: right;\">\n",
       "      <th>Predicted</th>\n",
       "      <th>0</th>\n",
       "      <th>1</th>\n",
       "    </tr>\n",
       "    <tr>\n",
       "      <th>Actual</th>\n",
       "      <th></th>\n",
       "      <th></th>\n",
       "    </tr>\n",
       "  </thead>\n",
       "  <tbody>\n",
       "    <tr>\n",
       "      <th>0</th>\n",
       "      <td>125</td>\n",
       "      <td>3</td>\n",
       "    </tr>\n",
       "    <tr>\n",
       "      <th>1</th>\n",
       "      <td>3</td>\n",
       "      <td>21</td>\n",
       "    </tr>\n",
       "  </tbody>\n",
       "</table>\n",
       "</div>"
      ],
      "text/plain": [
       "Predicted    0   1\n",
       "Actual            \n",
       "0          125   3\n",
       "1            3  21"
      ]
     },
     "execution_count": 37,
     "metadata": {},
     "output_type": "execute_result"
    }
   ],
   "source": [
    "pd.crosstab(y_test, xgb_preds, rownames=['Actual'], colnames=['Predicted'])"
   ]
  },
  {
   "attachments": {},
   "cell_type": "markdown",
   "metadata": {},
   "source": [
    "For our feature importance, we see that the advanced statistic VORP is the most impactful, with PER being the second most so, similar to the RF."
   ]
  },
  {
   "cell_type": "code",
   "execution_count": 38,
   "metadata": {},
   "outputs": [
    {
     "data": {
      "text/html": [
       "\n",
       "<div id=\"altair-viz-6e802a054aec4e2baccf6138eae5830b\"></div>\n",
       "<script type=\"text/javascript\">\n",
       "  var VEGA_DEBUG = (typeof VEGA_DEBUG == \"undefined\") ? {} : VEGA_DEBUG;\n",
       "  (function(spec, embedOpt){\n",
       "    let outputDiv = document.currentScript.previousElementSibling;\n",
       "    if (outputDiv.id !== \"altair-viz-6e802a054aec4e2baccf6138eae5830b\") {\n",
       "      outputDiv = document.getElementById(\"altair-viz-6e802a054aec4e2baccf6138eae5830b\");\n",
       "    }\n",
       "    const paths = {\n",
       "      \"vega\": \"https://cdn.jsdelivr.net/npm//vega@5?noext\",\n",
       "      \"vega-lib\": \"https://cdn.jsdelivr.net/npm//vega-lib?noext\",\n",
       "      \"vega-lite\": \"https://cdn.jsdelivr.net/npm//vega-lite@4.17.0?noext\",\n",
       "      \"vega-embed\": \"https://cdn.jsdelivr.net/npm//vega-embed@6?noext\",\n",
       "    };\n",
       "\n",
       "    function maybeLoadScript(lib, version) {\n",
       "      var key = `${lib.replace(\"-\", \"\")}_version`;\n",
       "      return (VEGA_DEBUG[key] == version) ?\n",
       "        Promise.resolve(paths[lib]) :\n",
       "        new Promise(function(resolve, reject) {\n",
       "          var s = document.createElement('script');\n",
       "          document.getElementsByTagName(\"head\")[0].appendChild(s);\n",
       "          s.async = true;\n",
       "          s.onload = () => {\n",
       "            VEGA_DEBUG[key] = version;\n",
       "            return resolve(paths[lib]);\n",
       "          };\n",
       "          s.onerror = () => reject(`Error loading script: ${paths[lib]}`);\n",
       "          s.src = paths[lib];\n",
       "        });\n",
       "    }\n",
       "\n",
       "    function showError(err) {\n",
       "      outputDiv.innerHTML = `<div class=\"error\" style=\"color:red;\">${err}</div>`;\n",
       "      throw err;\n",
       "    }\n",
       "\n",
       "    function displayChart(vegaEmbed) {\n",
       "      vegaEmbed(outputDiv, spec, embedOpt)\n",
       "        .catch(err => showError(`Javascript Error: ${err.message}<br>This usually means there's a typo in your chart specification. See the javascript console for the full traceback.`));\n",
       "    }\n",
       "\n",
       "    if(typeof define === \"function\" && define.amd) {\n",
       "      requirejs.config({paths});\n",
       "      require([\"vega-embed\"], displayChart, err => showError(`Error loading script: ${err.message}`));\n",
       "    } else {\n",
       "      maybeLoadScript(\"vega\", \"5\")\n",
       "        .then(() => maybeLoadScript(\"vega-lite\", \"4.17.0\"))\n",
       "        .then(() => maybeLoadScript(\"vega-embed\", \"6\"))\n",
       "        .catch(showError)\n",
       "        .then(() => displayChart(vegaEmbed));\n",
       "    }\n",
       "  })({\"config\": {\"view\": {\"continuousWidth\": 400, \"continuousHeight\": 300}}, \"data\": {\"name\": \"data-6758a80ee40779176037901864b9ea83\"}, \"mark\": \"bar\", \"encoding\": {\"x\": {\"field\": \"features\", \"sort\": \"-y\", \"type\": \"nominal\"}, \"y\": {\"field\": \"coefs\", \"type\": \"quantitative\"}}, \"$schema\": \"https://vega.github.io/schema/vega-lite/v4.17.0.json\", \"datasets\": {\"data-6758a80ee40779176037901864b9ea83\": [{\"coefs\": 0.004242946859449148, \"features\": \"select__Age\"}, {\"coefs\": 0.009264159947633743, \"features\": \"select__G\"}, {\"coefs\": 0.010243192315101624, \"features\": \"select__GS\"}, {\"coefs\": 0.011449277400970459, \"features\": \"select__MP\"}, {\"coefs\": 0.022050833329558372, \"features\": \"select__FG\"}, {\"coefs\": 0.01258451584726572, \"features\": \"select__FGA\"}, {\"coefs\": 0.006549661047756672, \"features\": \"select__FG%\"}, {\"coefs\": 0.009599439799785614, \"features\": \"select__3P\"}, {\"coefs\": 0.013753218576312065, \"features\": \"select__3PA\"}, {\"coefs\": 0.004675816744565964, \"features\": \"select__3P%\"}, {\"coefs\": 0.010692819952964783, \"features\": \"select__2P\"}, {\"coefs\": 0.012408409267663956, \"features\": \"select__2PA\"}, {\"coefs\": 0.0029494662303477526, \"features\": \"select__2P%\"}, {\"coefs\": 0.005555161740630865, \"features\": \"select__eFG%\"}, {\"coefs\": 0.02786700613796711, \"features\": \"select__FT\"}, {\"coefs\": 0.06448526680469513, \"features\": \"select__FTA\"}, {\"coefs\": 0.009013703092932701, \"features\": \"select__FT%\"}, {\"coefs\": 0.005237859208136797, \"features\": \"select__ORB\"}, {\"coefs\": 0.023732272908091545, \"features\": \"select__DRB\"}, {\"coefs\": 0.021651728078722954, \"features\": \"select__TRB\"}, {\"coefs\": 0.0054733725264668465, \"features\": \"select__AST\"}, {\"coefs\": 0.006343975197523832, \"features\": \"select__STL\"}, {\"coefs\": 0.008395051583647728, \"features\": \"select__BLK\"}, {\"coefs\": 0.019932130351662636, \"features\": \"select__TOV\"}, {\"coefs\": 0.005423983093351126, \"features\": \"select__PF\"}, {\"coefs\": 0.030695101246237755, \"features\": \"select__PTS\"}, {\"coefs\": 0.07919950783252716, \"features\": \"select__PER\"}, {\"coefs\": 0.01982623152434826, \"features\": \"select__TS%\"}, {\"coefs\": 0.013596422038972378, \"features\": \"select__3PAr\"}, {\"coefs\": 0.009195751510560513, \"features\": \"select__FTr\"}, {\"coefs\": 0.004046949557960033, \"features\": \"select__DRB%\"}, {\"coefs\": 0.017366575077176094, \"features\": \"select__TRB%\"}, {\"coefs\": 0.002725904108956456, \"features\": \"select__AST%\"}, {\"coefs\": 0.0023648091591894627, \"features\": \"select__STL%\"}, {\"coefs\": 0.009153981693089008, \"features\": \"select__BLK%\"}, {\"coefs\": 0.001811434281989932, \"features\": \"select__TOV%\"}, {\"coefs\": 0.02413908764719963, \"features\": \"select__USG%\"}, {\"coefs\": 0.010249474085867405, \"features\": \"select__OWS\"}, {\"coefs\": 0.022724764421582222, \"features\": \"select__DWS\"}, {\"coefs\": 0.06622550636529922, \"features\": \"select__WS\"}, {\"coefs\": 0.06748951226472855, \"features\": \"select__WS/48\"}, {\"coefs\": 0.01695181615650654, \"features\": \"select__OBPM\"}, {\"coefs\": 0.013136430643498898, \"features\": \"select__DBPM\"}, {\"coefs\": 0.0394274964928627, \"features\": \"select__BPM\"}, {\"coefs\": 0.11397296190261841, \"features\": \"select__VORP\"}, {\"coefs\": 0.021482739597558975, \"features\": \"select__W\"}, {\"coefs\": 0.06144857779145241, \"features\": \"select__num_all_nba\"}, {\"coefs\": 0.019193805754184723, \"features\": \"select__seed\"}]}}, {\"mode\": \"vega-lite\"});\n",
       "</script>"
      ],
      "text/plain": [
       "alt.Chart(...)"
      ]
     },
     "execution_count": 38,
     "metadata": {},
     "output_type": "execute_result"
    }
   ],
   "source": [
    "feature_names = xgb_model.best_estimator_.named_steps['col_transform'].get_feature_names_out()\n",
    "coef_df = pd.DataFrame({'coefs':xgb_model.best_estimator_.named_steps['classifier'].feature_importances_,\n",
    "                          'features':feature_names})\n",
    "coef_df_nz = coef_df[coef_df['coefs']!=0]\n",
    "\n",
    "alt.Chart(coef_df_nz).mark_bar().encode(\n",
    "    y='coefs',\n",
    "    x=alt.Y('features', sort='-y'))"
   ]
  },
  {
   "attachments": {},
   "cell_type": "markdown",
   "metadata": {},
   "source": [
    "For our false positives we have:"
   ]
  },
  {
   "cell_type": "code",
   "execution_count": 39,
   "metadata": {},
   "outputs": [
    {
     "data": {
      "text/html": [
       "<div>\n",
       "<style scoped>\n",
       "    .dataframe tbody tr th:only-of-type {\n",
       "        vertical-align: middle;\n",
       "    }\n",
       "\n",
       "    .dataframe tbody tr th {\n",
       "        vertical-align: top;\n",
       "    }\n",
       "\n",
       "    .dataframe thead th {\n",
       "        text-align: right;\n",
       "    }\n",
       "</style>\n",
       "<table border=\"1\" class=\"dataframe\">\n",
       "  <thead>\n",
       "    <tr style=\"text-align: right;\">\n",
       "      <th></th>\n",
       "      <th>Player</th>\n",
       "      <th>year</th>\n",
       "    </tr>\n",
       "  </thead>\n",
       "  <tbody>\n",
       "    <tr>\n",
       "      <th>329</th>\n",
       "      <td>Anthony Davis</td>\n",
       "      <td>2023</td>\n",
       "    </tr>\n",
       "    <tr>\n",
       "      <th>2052</th>\n",
       "      <td>Patrick Ewing</td>\n",
       "      <td>1994</td>\n",
       "    </tr>\n",
       "    <tr>\n",
       "      <th>3190</th>\n",
       "      <td>Al Jefferson</td>\n",
       "      <td>2012</td>\n",
       "    </tr>\n",
       "  </tbody>\n",
       "</table>\n",
       "</div>"
      ],
      "text/plain": [
       "             Player  year\n",
       "329   Anthony Davis  2023\n",
       "2052  Patrick Ewing  1994\n",
       "3190   Al Jefferson  2012"
      ]
     },
     "execution_count": 39,
     "metadata": {},
     "output_type": "execute_result"
    }
   ],
   "source": [
    "nba_filt_test[(xgb_preds==1) & (y_test!=1)][['Player',\"year\"]]"
   ]
  },
  {
   "attachments": {},
   "cell_type": "markdown",
   "metadata": {},
   "source": [
    "For our false negatives we have:"
   ]
  },
  {
   "cell_type": "code",
   "execution_count": 40,
   "metadata": {},
   "outputs": [
    {
     "data": {
      "text/html": [
       "<div>\n",
       "<style scoped>\n",
       "    .dataframe tbody tr th:only-of-type {\n",
       "        vertical-align: middle;\n",
       "    }\n",
       "\n",
       "    .dataframe tbody tr th {\n",
       "        vertical-align: top;\n",
       "    }\n",
       "\n",
       "    .dataframe thead th {\n",
       "        text-align: right;\n",
       "    }\n",
       "</style>\n",
       "<table border=\"1\" class=\"dataframe\">\n",
       "  <thead>\n",
       "    <tr style=\"text-align: right;\">\n",
       "      <th></th>\n",
       "      <th>Player</th>\n",
       "      <th>year</th>\n",
       "    </tr>\n",
       "  </thead>\n",
       "  <tbody>\n",
       "    <tr>\n",
       "      <th>373</th>\n",
       "      <td>Domantas Sabonis</td>\n",
       "      <td>2023</td>\n",
       "    </tr>\n",
       "    <tr>\n",
       "      <th>2092</th>\n",
       "      <td>Shaquille O'Neal</td>\n",
       "      <td>1994</td>\n",
       "    </tr>\n",
       "    <tr>\n",
       "      <th>3365</th>\n",
       "      <td>Tyson Chandler</td>\n",
       "      <td>2012</td>\n",
       "    </tr>\n",
       "  </tbody>\n",
       "</table>\n",
       "</div>"
      ],
      "text/plain": [
       "                Player  year\n",
       "373   Domantas Sabonis  2023\n",
       "2092  Shaquille O'Neal  1994\n",
       "3365    Tyson Chandler  2012"
      ]
     },
     "execution_count": 40,
     "metadata": {},
     "output_type": "execute_result"
    }
   ],
   "source": [
    "nba_filt_test[(xgb_preds!=1) & (y_test==1)][['Player',\"year\"]]"
   ]
  },
  {
   "attachments": {},
   "cell_type": "markdown",
   "metadata": {},
   "source": [
    "We can also examine what the 2023 predicted All_NBA team looks like versus the actual team."
   ]
  },
  {
   "cell_type": "code",
   "execution_count": 41,
   "metadata": {},
   "outputs": [
    {
     "data": {
      "text/html": [
       "<div>\n",
       "<style scoped>\n",
       "    .dataframe tbody tr th:only-of-type {\n",
       "        vertical-align: middle;\n",
       "    }\n",
       "\n",
       "    .dataframe tbody tr th {\n",
       "        vertical-align: top;\n",
       "    }\n",
       "\n",
       "    .dataframe thead th {\n",
       "        text-align: right;\n",
       "    }\n",
       "</style>\n",
       "<table border=\"1\" class=\"dataframe\">\n",
       "  <thead>\n",
       "    <tr style=\"text-align: right;\">\n",
       "      <th></th>\n",
       "      <th>Player</th>\n",
       "      <th>year</th>\n",
       "      <th>all_nba_tm</th>\n",
       "    </tr>\n",
       "  </thead>\n",
       "  <tbody>\n",
       "    <tr>\n",
       "      <th>509</th>\n",
       "      <td>Joel Embiid</td>\n",
       "      <td>2023</td>\n",
       "      <td>1st</td>\n",
       "    </tr>\n",
       "    <tr>\n",
       "      <th>472</th>\n",
       "      <td>Nikola Jokić</td>\n",
       "      <td>2023</td>\n",
       "      <td>2nd</td>\n",
       "    </tr>\n",
       "    <tr>\n",
       "      <th>373</th>\n",
       "      <td>Domantas Sabonis</td>\n",
       "      <td>2023</td>\n",
       "      <td>3rd</td>\n",
       "    </tr>\n",
       "  </tbody>\n",
       "</table>\n",
       "</div>"
      ],
      "text/plain": [
       "               Player  year all_nba_tm\n",
       "509       Joel Embiid  2023        1st\n",
       "472      Nikola Jokić  2023        2nd\n",
       "373  Domantas Sabonis  2023        3rd"
      ]
     },
     "execution_count": 41,
     "metadata": {},
     "output_type": "execute_result"
    }
   ],
   "source": [
    "true_all_nba(nba_filt_test, 2023)"
   ]
  },
  {
   "cell_type": "code",
   "execution_count": 42,
   "metadata": {},
   "outputs": [
    {
     "data": {
      "text/html": [
       "<div>\n",
       "<style scoped>\n",
       "    .dataframe tbody tr th:only-of-type {\n",
       "        vertical-align: middle;\n",
       "    }\n",
       "\n",
       "    .dataframe tbody tr th {\n",
       "        vertical-align: top;\n",
       "    }\n",
       "\n",
       "    .dataframe thead th {\n",
       "        text-align: right;\n",
       "    }\n",
       "</style>\n",
       "<table border=\"1\" class=\"dataframe\">\n",
       "  <thead>\n",
       "    <tr style=\"text-align: right;\">\n",
       "      <th></th>\n",
       "      <th>Player</th>\n",
       "      <th>year</th>\n",
       "      <th>Position</th>\n",
       "      <th>all_nba_tm</th>\n",
       "      <th>prob_all_nba</th>\n",
       "      <th>pred_all_nba</th>\n",
       "      <th>all_nba_c_year</th>\n",
       "      <th>4th Team</th>\n",
       "    </tr>\n",
       "  </thead>\n",
       "  <tbody>\n",
       "    <tr>\n",
       "      <th>509</th>\n",
       "      <td>Joel Embiid</td>\n",
       "      <td>2023</td>\n",
       "      <td>C</td>\n",
       "      <td>1st</td>\n",
       "      <td>0.802566</td>\n",
       "      <td>1</td>\n",
       "      <td>1</td>\n",
       "      <td>0</td>\n",
       "    </tr>\n",
       "    <tr>\n",
       "      <th>472</th>\n",
       "      <td>Nikola Jokić</td>\n",
       "      <td>2023</td>\n",
       "      <td>C</td>\n",
       "      <td>2nd</td>\n",
       "      <td>0.775805</td>\n",
       "      <td>1</td>\n",
       "      <td>1</td>\n",
       "      <td>0</td>\n",
       "    </tr>\n",
       "    <tr>\n",
       "      <th>329</th>\n",
       "      <td>Anthony Davis</td>\n",
       "      <td>2023</td>\n",
       "      <td>C</td>\n",
       "      <td>None</td>\n",
       "      <td>0.715842</td>\n",
       "      <td>1</td>\n",
       "      <td>0</td>\n",
       "      <td>0</td>\n",
       "    </tr>\n",
       "    <tr>\n",
       "      <th>373</th>\n",
       "      <td>Domantas Sabonis</td>\n",
       "      <td>2023</td>\n",
       "      <td>C</td>\n",
       "      <td>3rd</td>\n",
       "      <td>0.618120</td>\n",
       "      <td>0</td>\n",
       "      <td>1</td>\n",
       "      <td>1</td>\n",
       "    </tr>\n",
       "    <tr>\n",
       "      <th>480</th>\n",
       "      <td>Nic Claxton</td>\n",
       "      <td>2023</td>\n",
       "      <td>C</td>\n",
       "      <td>None</td>\n",
       "      <td>0.507296</td>\n",
       "      <td>0</td>\n",
       "      <td>0</td>\n",
       "      <td>0</td>\n",
       "    </tr>\n",
       "    <tr>\n",
       "      <th>432</th>\n",
       "      <td>Nikola Vučević</td>\n",
       "      <td>2023</td>\n",
       "      <td>C</td>\n",
       "      <td>None</td>\n",
       "      <td>0.467344</td>\n",
       "      <td>0</td>\n",
       "      <td>0</td>\n",
       "      <td>0</td>\n",
       "    </tr>\n",
       "    <tr>\n",
       "      <th>262</th>\n",
       "      <td>Kristaps Porziņģis</td>\n",
       "      <td>2023</td>\n",
       "      <td>C</td>\n",
       "      <td>None</td>\n",
       "      <td>0.426592</td>\n",
       "      <td>0</td>\n",
       "      <td>0</td>\n",
       "      <td>0</td>\n",
       "    </tr>\n",
       "    <tr>\n",
       "      <th>169</th>\n",
       "      <td>Jarrett Allen</td>\n",
       "      <td>2023</td>\n",
       "      <td>C</td>\n",
       "      <td>None</td>\n",
       "      <td>0.349041</td>\n",
       "      <td>0</td>\n",
       "      <td>0</td>\n",
       "      <td>0</td>\n",
       "    </tr>\n",
       "  </tbody>\n",
       "</table>\n",
       "</div>"
      ],
      "text/plain": [
       "                 Player  year Position all_nba_tm  prob_all_nba  pred_all_nba  \\\n",
       "509         Joel Embiid  2023        C        1st      0.802566             1   \n",
       "472        Nikola Jokić  2023        C        2nd      0.775805             1   \n",
       "329       Anthony Davis  2023        C       None      0.715842             1   \n",
       "373    Domantas Sabonis  2023        C        3rd      0.618120             0   \n",
       "480         Nic Claxton  2023        C       None      0.507296             0   \n",
       "432      Nikola Vučević  2023        C       None      0.467344             0   \n",
       "262  Kristaps Porziņģis  2023        C       None      0.426592             0   \n",
       "169       Jarrett Allen  2023        C       None      0.349041             0   \n",
       "\n",
       "     all_nba_c_year  4th Team  \n",
       "509               1         0  \n",
       "472               1         0  \n",
       "329               0         0  \n",
       "373               1         1  \n",
       "480               0         0  \n",
       "432               0         0  \n",
       "262               0         0  \n",
       "169               0         0  "
      ]
     },
     "execution_count": 42,
     "metadata": {},
     "output_type": "execute_result"
    }
   ],
   "source": [
    "pred_all_nba_df(nba_filt_test, 2023, xgb_model)"
   ]
  },
  {
   "attachments": {},
   "cell_type": "markdown",
   "metadata": {},
   "source": [
    "# Ensemble Model"
   ]
  },
  {
   "attachments": {},
   "cell_type": "markdown",
   "metadata": {},
   "source": [
    "Now we will try to use an ensemble learner using all 3 methods utilized so far: Logistic Regression, Random Forests, and XGboost. We will use soft voting (averaging over all the predicted probabilities) to classify the players"
   ]
  },
  {
   "cell_type": "code",
   "execution_count": 43,
   "metadata": {},
   "outputs": [],
   "source": [
    "from sklearn.ensemble import VotingClassifier\n",
    "ensemb_clf = VotingClassifier(estimators=[('lr', log_model.best_estimator_), ('rf', rf_model.best_estimator_), ('xgb', xgb_model.best_estimator_)],\n",
    "                              voting='soft', weights=[1,1,1])\n"
   ]
  },
  {
   "cell_type": "code",
   "execution_count": 44,
   "metadata": {},
   "outputs": [
    {
     "data": {
      "text/html": [
       "<style>#sk-container-id-4 {color: black;background-color: white;}#sk-container-id-4 pre{padding: 0;}#sk-container-id-4 div.sk-toggleable {background-color: white;}#sk-container-id-4 label.sk-toggleable__label {cursor: pointer;display: block;width: 100%;margin-bottom: 0;padding: 0.3em;box-sizing: border-box;text-align: center;}#sk-container-id-4 label.sk-toggleable__label-arrow:before {content: \"▸\";float: left;margin-right: 0.25em;color: #696969;}#sk-container-id-4 label.sk-toggleable__label-arrow:hover:before {color: black;}#sk-container-id-4 div.sk-estimator:hover label.sk-toggleable__label-arrow:before {color: black;}#sk-container-id-4 div.sk-toggleable__content {max-height: 0;max-width: 0;overflow: hidden;text-align: left;background-color: #f0f8ff;}#sk-container-id-4 div.sk-toggleable__content pre {margin: 0.2em;color: black;border-radius: 0.25em;background-color: #f0f8ff;}#sk-container-id-4 input.sk-toggleable__control:checked~div.sk-toggleable__content {max-height: 200px;max-width: 100%;overflow: auto;}#sk-container-id-4 input.sk-toggleable__control:checked~label.sk-toggleable__label-arrow:before {content: \"▾\";}#sk-container-id-4 div.sk-estimator input.sk-toggleable__control:checked~label.sk-toggleable__label {background-color: #d4ebff;}#sk-container-id-4 div.sk-label input.sk-toggleable__control:checked~label.sk-toggleable__label {background-color: #d4ebff;}#sk-container-id-4 input.sk-hidden--visually {border: 0;clip: rect(1px 1px 1px 1px);clip: rect(1px, 1px, 1px, 1px);height: 1px;margin: -1px;overflow: hidden;padding: 0;position: absolute;width: 1px;}#sk-container-id-4 div.sk-estimator {font-family: monospace;background-color: #f0f8ff;border: 1px dotted black;border-radius: 0.25em;box-sizing: border-box;margin-bottom: 0.5em;}#sk-container-id-4 div.sk-estimator:hover {background-color: #d4ebff;}#sk-container-id-4 div.sk-parallel-item::after {content: \"\";width: 100%;border-bottom: 1px solid gray;flex-grow: 1;}#sk-container-id-4 div.sk-label:hover label.sk-toggleable__label {background-color: #d4ebff;}#sk-container-id-4 div.sk-serial::before {content: \"\";position: absolute;border-left: 1px solid gray;box-sizing: border-box;top: 0;bottom: 0;left: 50%;z-index: 0;}#sk-container-id-4 div.sk-serial {display: flex;flex-direction: column;align-items: center;background-color: white;padding-right: 0.2em;padding-left: 0.2em;position: relative;}#sk-container-id-4 div.sk-item {position: relative;z-index: 1;}#sk-container-id-4 div.sk-parallel {display: flex;align-items: stretch;justify-content: center;background-color: white;position: relative;}#sk-container-id-4 div.sk-item::before, #sk-container-id-4 div.sk-parallel-item::before {content: \"\";position: absolute;border-left: 1px solid gray;box-sizing: border-box;top: 0;bottom: 0;left: 50%;z-index: -1;}#sk-container-id-4 div.sk-parallel-item {display: flex;flex-direction: column;z-index: 1;position: relative;background-color: white;}#sk-container-id-4 div.sk-parallel-item:first-child::after {align-self: flex-end;width: 50%;}#sk-container-id-4 div.sk-parallel-item:last-child::after {align-self: flex-start;width: 50%;}#sk-container-id-4 div.sk-parallel-item:only-child::after {width: 0;}#sk-container-id-4 div.sk-dashed-wrapped {border: 1px dashed gray;margin: 0 0.4em 0.5em 0.4em;box-sizing: border-box;padding-bottom: 0.4em;background-color: white;}#sk-container-id-4 div.sk-label label {font-family: monospace;font-weight: bold;display: inline-block;line-height: 1.2em;}#sk-container-id-4 div.sk-label-container {text-align: center;}#sk-container-id-4 div.sk-container {/* jupyter's `normalize.less` sets `[hidden] { display: none; }` but bootstrap.min.css set `[hidden] { display: none !important; }` so we also need the `!important` here to be able to override the default hidden behavior on the sphinx rendered scikit-learn.org. See: https://github.com/scikit-learn/scikit-learn/issues/21755 */display: inline-block !important;position: relative;}#sk-container-id-4 div.sk-text-repr-fallback {display: none;}</style><div id=\"sk-container-id-4\" class=\"sk-top-container\"><div class=\"sk-text-repr-fallback\"><pre>VotingClassifier(estimators=[(&#x27;lr&#x27;,\n",
       "                              Pipeline(steps=[(&#x27;col_transform&#x27;,\n",
       "                                               ColumnTransformer(transformers=[(&#x27;select&#x27;,\n",
       "                                                                                &#x27;passthrough&#x27;,\n",
       "                                                                                [&#x27;Age&#x27;,\n",
       "                                                                                 &#x27;G&#x27;,\n",
       "                                                                                 &#x27;GS&#x27;,\n",
       "                                                                                 &#x27;MP&#x27;,\n",
       "                                                                                 &#x27;FG&#x27;,\n",
       "                                                                                 &#x27;FGA&#x27;,\n",
       "                                                                                 &#x27;FG%&#x27;,\n",
       "                                                                                 &#x27;3P&#x27;,\n",
       "                                                                                 &#x27;3PA&#x27;,\n",
       "                                                                                 &#x27;3P%&#x27;,\n",
       "                                                                                 &#x27;2P&#x27;,\n",
       "                                                                                 &#x27;2PA&#x27;,\n",
       "                                                                                 &#x27;2P%&#x27;,\n",
       "                                                                                 &#x27;eFG%&#x27;,\n",
       "                                                                                 &#x27;FT&#x27;,\n",
       "                                                                                 &#x27;FTA&#x27;,\n",
       "                                                                                 &#x27;FT%&#x27;,\n",
       "                                                                                 &#x27;ORB&#x27;,\n",
       "                                                                                 &#x27;DRB&#x27;,\n",
       "                                                                                 &#x27;TRB&#x27;,\n",
       "                                                                                 &#x27;AST&#x27;,\n",
       "                                                                                 &#x27;STL&#x27;,\n",
       "                                                                                 &#x27;BLK&#x27;,\n",
       "                                                                                 &#x27;TOV&#x27;,\n",
       "                                                                                 &#x27;PF&#x27;,\n",
       "                                                                                 &#x27;PTS&#x27;,\n",
       "                                                                                 &#x27;PER&#x27;,\n",
       "                                                                                 &#x27;TS%&#x27;,\n",
       "                                                                                 &#x27;3PAr&#x27;,\n",
       "                                                                                 &#x27;FTr&#x27;, ...])])),\n",
       "                                              (&#x27;classifier&#x27;,\n",
       "                                               LogisticRegression(C=5,\n",
       "                                                                  class_...\n",
       "                                                             importance_type=None,\n",
       "                                                             interaction_constraints=None,\n",
       "                                                             learning_rate=0.01,\n",
       "                                                             max_bin=None,\n",
       "                                                             max_cat_threshold=None,\n",
       "                                                             max_cat_to_onehot=None,\n",
       "                                                             max_delta_step=None,\n",
       "                                                             max_depth=15,\n",
       "                                                             max_leaves=None,\n",
       "                                                             min_child_weight=10,\n",
       "                                                             missing=nan,\n",
       "                                                             monotone_constraints=None,\n",
       "                                                             n_estimators=100,\n",
       "                                                             n_jobs=None,\n",
       "                                                             num_parallel_tree=None,\n",
       "                                                             predictor=None,\n",
       "                                                             random_state=0, ...))]))],\n",
       "                 voting=&#x27;soft&#x27;, weights=[1, 1, 1])</pre><b>In a Jupyter environment, please rerun this cell to show the HTML representation or trust the notebook. <br />On GitHub, the HTML representation is unable to render, please try loading this page with nbviewer.org.</b></div><div class=\"sk-container\" hidden><div class=\"sk-item sk-dashed-wrapped\"><div class=\"sk-label-container\"><div class=\"sk-label sk-toggleable\"><input class=\"sk-toggleable__control sk-hidden--visually\" id=\"sk-estimator-id-19\" type=\"checkbox\" ><label for=\"sk-estimator-id-19\" class=\"sk-toggleable__label sk-toggleable__label-arrow\">VotingClassifier</label><div class=\"sk-toggleable__content\"><pre>VotingClassifier(estimators=[(&#x27;lr&#x27;,\n",
       "                              Pipeline(steps=[(&#x27;col_transform&#x27;,\n",
       "                                               ColumnTransformer(transformers=[(&#x27;select&#x27;,\n",
       "                                                                                &#x27;passthrough&#x27;,\n",
       "                                                                                [&#x27;Age&#x27;,\n",
       "                                                                                 &#x27;G&#x27;,\n",
       "                                                                                 &#x27;GS&#x27;,\n",
       "                                                                                 &#x27;MP&#x27;,\n",
       "                                                                                 &#x27;FG&#x27;,\n",
       "                                                                                 &#x27;FGA&#x27;,\n",
       "                                                                                 &#x27;FG%&#x27;,\n",
       "                                                                                 &#x27;3P&#x27;,\n",
       "                                                                                 &#x27;3PA&#x27;,\n",
       "                                                                                 &#x27;3P%&#x27;,\n",
       "                                                                                 &#x27;2P&#x27;,\n",
       "                                                                                 &#x27;2PA&#x27;,\n",
       "                                                                                 &#x27;2P%&#x27;,\n",
       "                                                                                 &#x27;eFG%&#x27;,\n",
       "                                                                                 &#x27;FT&#x27;,\n",
       "                                                                                 &#x27;FTA&#x27;,\n",
       "                                                                                 &#x27;FT%&#x27;,\n",
       "                                                                                 &#x27;ORB&#x27;,\n",
       "                                                                                 &#x27;DRB&#x27;,\n",
       "                                                                                 &#x27;TRB&#x27;,\n",
       "                                                                                 &#x27;AST&#x27;,\n",
       "                                                                                 &#x27;STL&#x27;,\n",
       "                                                                                 &#x27;BLK&#x27;,\n",
       "                                                                                 &#x27;TOV&#x27;,\n",
       "                                                                                 &#x27;PF&#x27;,\n",
       "                                                                                 &#x27;PTS&#x27;,\n",
       "                                                                                 &#x27;PER&#x27;,\n",
       "                                                                                 &#x27;TS%&#x27;,\n",
       "                                                                                 &#x27;3PAr&#x27;,\n",
       "                                                                                 &#x27;FTr&#x27;, ...])])),\n",
       "                                              (&#x27;classifier&#x27;,\n",
       "                                               LogisticRegression(C=5,\n",
       "                                                                  class_...\n",
       "                                                             importance_type=None,\n",
       "                                                             interaction_constraints=None,\n",
       "                                                             learning_rate=0.01,\n",
       "                                                             max_bin=None,\n",
       "                                                             max_cat_threshold=None,\n",
       "                                                             max_cat_to_onehot=None,\n",
       "                                                             max_delta_step=None,\n",
       "                                                             max_depth=15,\n",
       "                                                             max_leaves=None,\n",
       "                                                             min_child_weight=10,\n",
       "                                                             missing=nan,\n",
       "                                                             monotone_constraints=None,\n",
       "                                                             n_estimators=100,\n",
       "                                                             n_jobs=None,\n",
       "                                                             num_parallel_tree=None,\n",
       "                                                             predictor=None,\n",
       "                                                             random_state=0, ...))]))],\n",
       "                 voting=&#x27;soft&#x27;, weights=[1, 1, 1])</pre></div></div></div><div class=\"sk-parallel\"><div class=\"sk-parallel-item\"><div class=\"sk-item\"><div class=\"sk-label-container\"><div class=\"sk-label sk-toggleable\"><label>lr</label></div></div><div class=\"sk-serial\"><div class=\"sk-item\"><div class=\"sk-serial\"><div class=\"sk-item sk-dashed-wrapped\"><div class=\"sk-label-container\"><div class=\"sk-label sk-toggleable\"><input class=\"sk-toggleable__control sk-hidden--visually\" id=\"sk-estimator-id-20\" type=\"checkbox\" ><label for=\"sk-estimator-id-20\" class=\"sk-toggleable__label sk-toggleable__label-arrow\">col_transform: ColumnTransformer</label><div class=\"sk-toggleable__content\"><pre>ColumnTransformer(transformers=[(&#x27;select&#x27;, &#x27;passthrough&#x27;,\n",
       "                                 [&#x27;Age&#x27;, &#x27;G&#x27;, &#x27;GS&#x27;, &#x27;MP&#x27;, &#x27;FG&#x27;, &#x27;FGA&#x27;, &#x27;FG%&#x27;,\n",
       "                                  &#x27;3P&#x27;, &#x27;3PA&#x27;, &#x27;3P%&#x27;, &#x27;2P&#x27;, &#x27;2PA&#x27;, &#x27;2P%&#x27;,\n",
       "                                  &#x27;eFG%&#x27;, &#x27;FT&#x27;, &#x27;FTA&#x27;, &#x27;FT%&#x27;, &#x27;ORB&#x27;, &#x27;DRB&#x27;,\n",
       "                                  &#x27;TRB&#x27;, &#x27;AST&#x27;, &#x27;STL&#x27;, &#x27;BLK&#x27;, &#x27;TOV&#x27;, &#x27;PF&#x27;,\n",
       "                                  &#x27;PTS&#x27;, &#x27;PER&#x27;, &#x27;TS%&#x27;, &#x27;3PAr&#x27;, &#x27;FTr&#x27;, ...])])</pre></div></div></div><div class=\"sk-parallel\"><div class=\"sk-parallel-item\"><div class=\"sk-item\"><div class=\"sk-label-container\"><div class=\"sk-label sk-toggleable\"><input class=\"sk-toggleable__control sk-hidden--visually\" id=\"sk-estimator-id-21\" type=\"checkbox\" ><label for=\"sk-estimator-id-21\" class=\"sk-toggleable__label sk-toggleable__label-arrow\">select</label><div class=\"sk-toggleable__content\"><pre>[&#x27;Age&#x27;, &#x27;G&#x27;, &#x27;GS&#x27;, &#x27;MP&#x27;, &#x27;FG&#x27;, &#x27;FGA&#x27;, &#x27;FG%&#x27;, &#x27;3P&#x27;, &#x27;3PA&#x27;, &#x27;3P%&#x27;, &#x27;2P&#x27;, &#x27;2PA&#x27;, &#x27;2P%&#x27;, &#x27;eFG%&#x27;, &#x27;FT&#x27;, &#x27;FTA&#x27;, &#x27;FT%&#x27;, &#x27;ORB&#x27;, &#x27;DRB&#x27;, &#x27;TRB&#x27;, &#x27;AST&#x27;, &#x27;STL&#x27;, &#x27;BLK&#x27;, &#x27;TOV&#x27;, &#x27;PF&#x27;, &#x27;PTS&#x27;, &#x27;PER&#x27;, &#x27;TS%&#x27;, &#x27;3PAr&#x27;, &#x27;FTr&#x27;, &#x27;ORB%&#x27;, &#x27;DRB%&#x27;, &#x27;TRB%&#x27;, &#x27;AST%&#x27;, &#x27;STL%&#x27;, &#x27;BLK%&#x27;, &#x27;TOV%&#x27;, &#x27;USG%&#x27;, &#x27;OWS&#x27;, &#x27;DWS&#x27;, &#x27;WS&#x27;, &#x27;WS/48&#x27;, &#x27;OBPM&#x27;, &#x27;DBPM&#x27;, &#x27;BPM&#x27;, &#x27;VORP&#x27;, &#x27;W&#x27;, &#x27;num_all_nba&#x27;, &#x27;seed&#x27;]</pre></div></div></div><div class=\"sk-serial\"><div class=\"sk-item\"><div class=\"sk-estimator sk-toggleable\"><input class=\"sk-toggleable__control sk-hidden--visually\" id=\"sk-estimator-id-22\" type=\"checkbox\" ><label for=\"sk-estimator-id-22\" class=\"sk-toggleable__label sk-toggleable__label-arrow\">passthrough</label><div class=\"sk-toggleable__content\"><pre>passthrough</pre></div></div></div></div></div></div></div></div><div class=\"sk-item\"><div class=\"sk-estimator sk-toggleable\"><input class=\"sk-toggleable__control sk-hidden--visually\" id=\"sk-estimator-id-23\" type=\"checkbox\" ><label for=\"sk-estimator-id-23\" class=\"sk-toggleable__label sk-toggleable__label-arrow\">LogisticRegression</label><div class=\"sk-toggleable__content\"><pre>LogisticRegression(C=5,\n",
       "                   class_weight={0: 0.034482758620689655,\n",
       "                                 1: 0.9655172413793104},\n",
       "                   max_iter=10000, penalty=&#x27;l1&#x27;, random_state=0,\n",
       "                   solver=&#x27;liblinear&#x27;)</pre></div></div></div></div></div></div></div></div><div class=\"sk-parallel-item\"><div class=\"sk-item\"><div class=\"sk-label-container\"><div class=\"sk-label sk-toggleable\"><label>rf</label></div></div><div class=\"sk-serial\"><div class=\"sk-item\"><div class=\"sk-serial\"><div class=\"sk-item sk-dashed-wrapped\"><div class=\"sk-label-container\"><div class=\"sk-label sk-toggleable\"><input class=\"sk-toggleable__control sk-hidden--visually\" id=\"sk-estimator-id-24\" type=\"checkbox\" ><label for=\"sk-estimator-id-24\" class=\"sk-toggleable__label sk-toggleable__label-arrow\">col_transform: ColumnTransformer</label><div class=\"sk-toggleable__content\"><pre>ColumnTransformer(transformers=[(&#x27;select&#x27;, &#x27;passthrough&#x27;,\n",
       "                                 [&#x27;Age&#x27;, &#x27;G&#x27;, &#x27;GS&#x27;, &#x27;MP&#x27;, &#x27;FG&#x27;, &#x27;FGA&#x27;, &#x27;FG%&#x27;,\n",
       "                                  &#x27;3P&#x27;, &#x27;3PA&#x27;, &#x27;3P%&#x27;, &#x27;2P&#x27;, &#x27;2PA&#x27;, &#x27;2P%&#x27;,\n",
       "                                  &#x27;eFG%&#x27;, &#x27;FT&#x27;, &#x27;FTA&#x27;, &#x27;FT%&#x27;, &#x27;ORB&#x27;, &#x27;DRB&#x27;,\n",
       "                                  &#x27;TRB&#x27;, &#x27;AST&#x27;, &#x27;STL&#x27;, &#x27;BLK&#x27;, &#x27;TOV&#x27;, &#x27;PF&#x27;,\n",
       "                                  &#x27;PTS&#x27;, &#x27;PER&#x27;, &#x27;TS%&#x27;, &#x27;3PAr&#x27;, &#x27;FTr&#x27;, ...])])</pre></div></div></div><div class=\"sk-parallel\"><div class=\"sk-parallel-item\"><div class=\"sk-item\"><div class=\"sk-label-container\"><div class=\"sk-label sk-toggleable\"><input class=\"sk-toggleable__control sk-hidden--visually\" id=\"sk-estimator-id-25\" type=\"checkbox\" ><label for=\"sk-estimator-id-25\" class=\"sk-toggleable__label sk-toggleable__label-arrow\">select</label><div class=\"sk-toggleable__content\"><pre>[&#x27;Age&#x27;, &#x27;G&#x27;, &#x27;GS&#x27;, &#x27;MP&#x27;, &#x27;FG&#x27;, &#x27;FGA&#x27;, &#x27;FG%&#x27;, &#x27;3P&#x27;, &#x27;3PA&#x27;, &#x27;3P%&#x27;, &#x27;2P&#x27;, &#x27;2PA&#x27;, &#x27;2P%&#x27;, &#x27;eFG%&#x27;, &#x27;FT&#x27;, &#x27;FTA&#x27;, &#x27;FT%&#x27;, &#x27;ORB&#x27;, &#x27;DRB&#x27;, &#x27;TRB&#x27;, &#x27;AST&#x27;, &#x27;STL&#x27;, &#x27;BLK&#x27;, &#x27;TOV&#x27;, &#x27;PF&#x27;, &#x27;PTS&#x27;, &#x27;PER&#x27;, &#x27;TS%&#x27;, &#x27;3PAr&#x27;, &#x27;FTr&#x27;, &#x27;ORB%&#x27;, &#x27;DRB%&#x27;, &#x27;TRB%&#x27;, &#x27;AST%&#x27;, &#x27;STL%&#x27;, &#x27;BLK%&#x27;, &#x27;TOV%&#x27;, &#x27;USG%&#x27;, &#x27;OWS&#x27;, &#x27;DWS&#x27;, &#x27;WS&#x27;, &#x27;WS/48&#x27;, &#x27;OBPM&#x27;, &#x27;DBPM&#x27;, &#x27;BPM&#x27;, &#x27;VORP&#x27;, &#x27;W&#x27;, &#x27;num_all_nba&#x27;, &#x27;seed&#x27;]</pre></div></div></div><div class=\"sk-serial\"><div class=\"sk-item\"><div class=\"sk-estimator sk-toggleable\"><input class=\"sk-toggleable__control sk-hidden--visually\" id=\"sk-estimator-id-26\" type=\"checkbox\" ><label for=\"sk-estimator-id-26\" class=\"sk-toggleable__label sk-toggleable__label-arrow\">passthrough</label><div class=\"sk-toggleable__content\"><pre>passthrough</pre></div></div></div></div></div></div></div></div><div class=\"sk-item\"><div class=\"sk-estimator sk-toggleable\"><input class=\"sk-toggleable__control sk-hidden--visually\" id=\"sk-estimator-id-27\" type=\"checkbox\" ><label for=\"sk-estimator-id-27\" class=\"sk-toggleable__label sk-toggleable__label-arrow\">RandomForestClassifier</label><div class=\"sk-toggleable__content\"><pre>RandomForestClassifier(max_depth=15, max_features=0.2, min_samples_leaf=5,\n",
       "                       min_samples_split=5, n_estimators=400, random_state=0)</pre></div></div></div></div></div></div></div></div><div class=\"sk-parallel-item\"><div class=\"sk-item\"><div class=\"sk-label-container\"><div class=\"sk-label sk-toggleable\"><label>xgb</label></div></div><div class=\"sk-serial\"><div class=\"sk-item\"><div class=\"sk-serial\"><div class=\"sk-item sk-dashed-wrapped\"><div class=\"sk-label-container\"><div class=\"sk-label sk-toggleable\"><input class=\"sk-toggleable__control sk-hidden--visually\" id=\"sk-estimator-id-28\" type=\"checkbox\" ><label for=\"sk-estimator-id-28\" class=\"sk-toggleable__label sk-toggleable__label-arrow\">col_transform: ColumnTransformer</label><div class=\"sk-toggleable__content\"><pre>ColumnTransformer(transformers=[(&#x27;select&#x27;, &#x27;passthrough&#x27;,\n",
       "                                 [&#x27;Age&#x27;, &#x27;G&#x27;, &#x27;GS&#x27;, &#x27;MP&#x27;, &#x27;FG&#x27;, &#x27;FGA&#x27;, &#x27;FG%&#x27;,\n",
       "                                  &#x27;3P&#x27;, &#x27;3PA&#x27;, &#x27;3P%&#x27;, &#x27;2P&#x27;, &#x27;2PA&#x27;, &#x27;2P%&#x27;,\n",
       "                                  &#x27;eFG%&#x27;, &#x27;FT&#x27;, &#x27;FTA&#x27;, &#x27;FT%&#x27;, &#x27;ORB&#x27;, &#x27;DRB&#x27;,\n",
       "                                  &#x27;TRB&#x27;, &#x27;AST&#x27;, &#x27;STL&#x27;, &#x27;BLK&#x27;, &#x27;TOV&#x27;, &#x27;PF&#x27;,\n",
       "                                  &#x27;PTS&#x27;, &#x27;PER&#x27;, &#x27;TS%&#x27;, &#x27;3PAr&#x27;, &#x27;FTr&#x27;, ...])])</pre></div></div></div><div class=\"sk-parallel\"><div class=\"sk-parallel-item\"><div class=\"sk-item\"><div class=\"sk-label-container\"><div class=\"sk-label sk-toggleable\"><input class=\"sk-toggleable__control sk-hidden--visually\" id=\"sk-estimator-id-29\" type=\"checkbox\" ><label for=\"sk-estimator-id-29\" class=\"sk-toggleable__label sk-toggleable__label-arrow\">select</label><div class=\"sk-toggleable__content\"><pre>[&#x27;Age&#x27;, &#x27;G&#x27;, &#x27;GS&#x27;, &#x27;MP&#x27;, &#x27;FG&#x27;, &#x27;FGA&#x27;, &#x27;FG%&#x27;, &#x27;3P&#x27;, &#x27;3PA&#x27;, &#x27;3P%&#x27;, &#x27;2P&#x27;, &#x27;2PA&#x27;, &#x27;2P%&#x27;, &#x27;eFG%&#x27;, &#x27;FT&#x27;, &#x27;FTA&#x27;, &#x27;FT%&#x27;, &#x27;ORB&#x27;, &#x27;DRB&#x27;, &#x27;TRB&#x27;, &#x27;AST&#x27;, &#x27;STL&#x27;, &#x27;BLK&#x27;, &#x27;TOV&#x27;, &#x27;PF&#x27;, &#x27;PTS&#x27;, &#x27;PER&#x27;, &#x27;TS%&#x27;, &#x27;3PAr&#x27;, &#x27;FTr&#x27;, &#x27;ORB%&#x27;, &#x27;DRB%&#x27;, &#x27;TRB%&#x27;, &#x27;AST%&#x27;, &#x27;STL%&#x27;, &#x27;BLK%&#x27;, &#x27;TOV%&#x27;, &#x27;USG%&#x27;, &#x27;OWS&#x27;, &#x27;DWS&#x27;, &#x27;WS&#x27;, &#x27;WS/48&#x27;, &#x27;OBPM&#x27;, &#x27;DBPM&#x27;, &#x27;BPM&#x27;, &#x27;VORP&#x27;, &#x27;W&#x27;, &#x27;num_all_nba&#x27;, &#x27;seed&#x27;]</pre></div></div></div><div class=\"sk-serial\"><div class=\"sk-item\"><div class=\"sk-estimator sk-toggleable\"><input class=\"sk-toggleable__control sk-hidden--visually\" id=\"sk-estimator-id-30\" type=\"checkbox\" ><label for=\"sk-estimator-id-30\" class=\"sk-toggleable__label sk-toggleable__label-arrow\">passthrough</label><div class=\"sk-toggleable__content\"><pre>passthrough</pre></div></div></div></div></div></div></div></div><div class=\"sk-item\"><div class=\"sk-estimator sk-toggleable\"><input class=\"sk-toggleable__control sk-hidden--visually\" id=\"sk-estimator-id-31\" type=\"checkbox\" ><label for=\"sk-estimator-id-31\" class=\"sk-toggleable__label sk-toggleable__label-arrow\">XGBClassifier</label><div class=\"sk-toggleable__content\"><pre>XGBClassifier(base_score=None, booster=None, callbacks=None,\n",
       "              colsample_bylevel=None, colsample_bynode=None,\n",
       "              colsample_bytree=0.3, early_stopping_rounds=None,\n",
       "              enable_categorical=False, eval_metric=None, feature_types=None,\n",
       "              gamma=0.1, gpu_id=None, grow_policy=None, importance_type=None,\n",
       "              interaction_constraints=None, learning_rate=0.01, max_bin=None,\n",
       "              max_cat_threshold=None, max_cat_to_onehot=None,\n",
       "              max_delta_step=None, max_depth=15, max_leaves=None,\n",
       "              min_child_weight=10, missing=nan, monotone_constraints=None,\n",
       "              n_estimators=100, n_jobs=None, num_parallel_tree=None,\n",
       "              predictor=None, random_state=0, ...)</pre></div></div></div></div></div></div></div></div></div></div></div></div>"
      ],
      "text/plain": [
       "VotingClassifier(estimators=[('lr',\n",
       "                              Pipeline(steps=[('col_transform',\n",
       "                                               ColumnTransformer(transformers=[('select',\n",
       "                                                                                'passthrough',\n",
       "                                                                                ['Age',\n",
       "                                                                                 'G',\n",
       "                                                                                 'GS',\n",
       "                                                                                 'MP',\n",
       "                                                                                 'FG',\n",
       "                                                                                 'FGA',\n",
       "                                                                                 'FG%',\n",
       "                                                                                 '3P',\n",
       "                                                                                 '3PA',\n",
       "                                                                                 '3P%',\n",
       "                                                                                 '2P',\n",
       "                                                                                 '2PA',\n",
       "                                                                                 '2P%',\n",
       "                                                                                 'eFG%',\n",
       "                                                                                 'FT',\n",
       "                                                                                 'FTA',\n",
       "                                                                                 'FT%',\n",
       "                                                                                 'ORB',\n",
       "                                                                                 'DRB',\n",
       "                                                                                 'TRB',\n",
       "                                                                                 'AST',\n",
       "                                                                                 'STL',\n",
       "                                                                                 'BLK',\n",
       "                                                                                 'TOV',\n",
       "                                                                                 'PF',\n",
       "                                                                                 'PTS',\n",
       "                                                                                 'PER',\n",
       "                                                                                 'TS%',\n",
       "                                                                                 '3PAr',\n",
       "                                                                                 'FTr', ...])])),\n",
       "                                              ('classifier',\n",
       "                                               LogisticRegression(C=5,\n",
       "                                                                  class_...\n",
       "                                                             importance_type=None,\n",
       "                                                             interaction_constraints=None,\n",
       "                                                             learning_rate=0.01,\n",
       "                                                             max_bin=None,\n",
       "                                                             max_cat_threshold=None,\n",
       "                                                             max_cat_to_onehot=None,\n",
       "                                                             max_delta_step=None,\n",
       "                                                             max_depth=15,\n",
       "                                                             max_leaves=None,\n",
       "                                                             min_child_weight=10,\n",
       "                                                             missing=nan,\n",
       "                                                             monotone_constraints=None,\n",
       "                                                             n_estimators=100,\n",
       "                                                             n_jobs=None,\n",
       "                                                             num_parallel_tree=None,\n",
       "                                                             predictor=None,\n",
       "                                                             random_state=0, ...))]))],\n",
       "                 voting='soft', weights=[1, 1, 1])"
      ]
     },
     "execution_count": 44,
     "metadata": {},
     "output_type": "execute_result"
    }
   ],
   "source": [
    "ensemb_clf.fit(nba_filt_train, y_train)"
   ]
  },
  {
   "attachments": {},
   "cell_type": "markdown",
   "metadata": {},
   "source": [
    "### Results"
   ]
  },
  {
   "attachments": {},
   "cell_type": "markdown",
   "metadata": {},
   "source": [
    "We have the following metrics for this ensemble learner:"
   ]
  },
  {
   "cell_type": "code",
   "execution_count": 45,
   "metadata": {},
   "outputs": [],
   "source": [
    "ens_c_preds = predicted_all_nba(nba_filt_test, ensemb_clf)\n",
    "ens_preds = ens_c_preds['pred_all_nba']\n",
    "ens_c_preds.to_csv(\"test_preds/ens_preds_c.csv\")"
   ]
  },
  {
   "cell_type": "code",
   "execution_count": 46,
   "metadata": {},
   "outputs": [
    {
     "name": "stdout",
     "output_type": "stream",
     "text": [
      "              precision    recall  f1-score   support\n",
      "\n",
      "           0       0.98      0.98      0.98       128\n",
      "           1       0.92      0.92      0.92        24\n",
      "\n",
      "    accuracy                           0.97       152\n",
      "   macro avg       0.95      0.95      0.95       152\n",
      "weighted avg       0.97      0.97      0.97       152\n",
      "\n"
     ]
    }
   ],
   "source": [
    "print(classification_report(y_test, ens_preds))"
   ]
  },
  {
   "attachments": {},
   "cell_type": "markdown",
   "metadata": {},
   "source": [
    "We see that we end up with similar precision andrecall as our RF, indicating we did not do that much better than the individual RF model."
   ]
  },
  {
   "attachments": {},
   "cell_type": "markdown",
   "metadata": {},
   "source": [
    "For our confusion matrix we have:"
   ]
  },
  {
   "cell_type": "code",
   "execution_count": 47,
   "metadata": {},
   "outputs": [
    {
     "data": {
      "text/html": [
       "<div>\n",
       "<style scoped>\n",
       "    .dataframe tbody tr th:only-of-type {\n",
       "        vertical-align: middle;\n",
       "    }\n",
       "\n",
       "    .dataframe tbody tr th {\n",
       "        vertical-align: top;\n",
       "    }\n",
       "\n",
       "    .dataframe thead th {\n",
       "        text-align: right;\n",
       "    }\n",
       "</style>\n",
       "<table border=\"1\" class=\"dataframe\">\n",
       "  <thead>\n",
       "    <tr style=\"text-align: right;\">\n",
       "      <th>Predicted</th>\n",
       "      <th>0</th>\n",
       "      <th>1</th>\n",
       "      <th>All</th>\n",
       "    </tr>\n",
       "    <tr>\n",
       "      <th>Actual</th>\n",
       "      <th></th>\n",
       "      <th></th>\n",
       "      <th></th>\n",
       "    </tr>\n",
       "  </thead>\n",
       "  <tbody>\n",
       "    <tr>\n",
       "      <th>0</th>\n",
       "      <td>126</td>\n",
       "      <td>2</td>\n",
       "      <td>128</td>\n",
       "    </tr>\n",
       "    <tr>\n",
       "      <th>1</th>\n",
       "      <td>2</td>\n",
       "      <td>22</td>\n",
       "      <td>24</td>\n",
       "    </tr>\n",
       "    <tr>\n",
       "      <th>All</th>\n",
       "      <td>128</td>\n",
       "      <td>24</td>\n",
       "      <td>152</td>\n",
       "    </tr>\n",
       "  </tbody>\n",
       "</table>\n",
       "</div>"
      ],
      "text/plain": [
       "Predicted    0   1  All\n",
       "Actual                 \n",
       "0          126   2  128\n",
       "1            2  22   24\n",
       "All        128  24  152"
      ]
     },
     "execution_count": 47,
     "metadata": {},
     "output_type": "execute_result"
    }
   ],
   "source": [
    "pd.crosstab(y_test, ens_preds, rownames=['Actual'], colnames=['Predicted'], margins=True)"
   ]
  },
  {
   "attachments": {},
   "cell_type": "markdown",
   "metadata": {},
   "source": [
    "As a final metric we can also view the ROC curve. This plots the true positive rate vs the false positive rate. To measure how effective our classifier is, we consider area under the curve (AUC). A perfect classifier would have an AUC of 1."
   ]
  },
  {
   "cell_type": "code",
   "execution_count": 48,
   "metadata": {},
   "outputs": [
    {
     "name": "stdout",
     "output_type": "stream",
     "text": [
      "Logistic Regression AUC:  0.9710286458333334\n",
      "Random Forest AUC:  0.9807942708333334\n",
      "XGBoost AUC:  0.9759114583333333\n",
      "Ensemble AUC:  0.9772135416666666\n"
     ]
    },
    {
     "data": {
      "image/png": "[encoded data removed]",
      "text/plain": [
       "<Figure size 1000x1000 with 1 Axes>"
      ]
     },
     "metadata": {},
     "output_type": "display_data"
    }
   ],
   "source": [
    "#Now we can draw the ROC curves for all 3 models and the ensemble model.\n",
    "from sklearn.metrics import roc_curve, auc\n",
    "import matplotlib.pyplot as plt\n",
    "#Now we may plot them,\n",
    "plt.figure(figsize=(10,10))\n",
    "plt.plot([0, 1], [0, 1], 'k--')\n",
    "plt.plot(*roc_curve(y_test, log_model.predict_proba(nba_filt_test)[:,1])[:2], label=\"Logistic Regression (area = %0.3f)\" % auc(*roc_curve(y_test, log_model.predict_proba(nba_filt_test)[:,1])[:2]))\n",
    "plt.plot(*roc_curve(y_test, rf_model.predict_proba(nba_filt_test)[:,1])[:2], label=\"Random Forest (area = %0.3f)\" % auc(*roc_curve(y_test, rf_model.predict_proba(nba_filt_test)[:,1])[:2]))\n",
    "plt.plot(*roc_curve(y_test, xgb_model.predict_proba(nba_filt_test)[:,1])[:2], label=\"XGBoost (area = %0.3f)\" % auc(*roc_curve(y_test, xgb_model.predict_proba(nba_filt_test)[:,1])[:2]))\n",
    "plt.plot(*roc_curve(y_test, ensemb_clf.predict_proba(nba_filt_test)[:,1])[:2], label=\"Ensemble(area = %0.3f)\" % auc(*roc_curve(y_test, ensemb_clf.predict_proba(nba_filt_test)[:,1])[:2]))\n",
    "plt.legend()\n",
    "plt.xlabel('False positive rate')\n",
    "plt.ylabel('True positive rate')\n",
    "plt.title('ROC curve')\n",
    "\n",
    "auc_scores = [auc(*roc_curve(y_test, log_model.predict_proba(nba_filt_test)[:,1])[:2]),\n",
    "                auc(*roc_curve(y_test, rf_model.predict_proba(nba_filt_test)[:,1])[:2]),\n",
    "                auc(*roc_curve(y_test, xgb_model.predict_proba(nba_filt_test)[:,1])[:2]),\n",
    "                auc(*roc_curve(y_test, ensemb_clf.predict_proba(nba_filt_test)[:,1])[:2])]\n",
    "              \n",
    "print(\"Logistic Regression AUC: \", auc_scores[0])\n",
    "print(\"Random Forest AUC: \", auc_scores[1])\n",
    "print(\"XGBoost AUC: \", auc_scores[2])\n",
    "print(\"Ensemble AUC: \", auc_scores[3])"
   ]
  },
  {
   "attachments": {},
   "cell_type": "markdown",
   "metadata": {},
   "source": [
    "We can also examine what the 2023 predicted All_NBA team looks like versus the actual team."
   ]
  },
  {
   "cell_type": "code",
   "execution_count": 49,
   "metadata": {},
   "outputs": [
    {
     "data": {
      "text/html": [
       "<div>\n",
       "<style scoped>\n",
       "    .dataframe tbody tr th:only-of-type {\n",
       "        vertical-align: middle;\n",
       "    }\n",
       "\n",
       "    .dataframe tbody tr th {\n",
       "        vertical-align: top;\n",
       "    }\n",
       "\n",
       "    .dataframe thead th {\n",
       "        text-align: right;\n",
       "    }\n",
       "</style>\n",
       "<table border=\"1\" class=\"dataframe\">\n",
       "  <thead>\n",
       "    <tr style=\"text-align: right;\">\n",
       "      <th></th>\n",
       "      <th>Player</th>\n",
       "      <th>year</th>\n",
       "      <th>all_nba_tm</th>\n",
       "    </tr>\n",
       "  </thead>\n",
       "  <tbody>\n",
       "    <tr>\n",
       "      <th>509</th>\n",
       "      <td>Joel Embiid</td>\n",
       "      <td>2023</td>\n",
       "      <td>1st</td>\n",
       "    </tr>\n",
       "    <tr>\n",
       "      <th>472</th>\n",
       "      <td>Nikola Jokić</td>\n",
       "      <td>2023</td>\n",
       "      <td>2nd</td>\n",
       "    </tr>\n",
       "    <tr>\n",
       "      <th>373</th>\n",
       "      <td>Domantas Sabonis</td>\n",
       "      <td>2023</td>\n",
       "      <td>3rd</td>\n",
       "    </tr>\n",
       "  </tbody>\n",
       "</table>\n",
       "</div>"
      ],
      "text/plain": [
       "               Player  year all_nba_tm\n",
       "509       Joel Embiid  2023        1st\n",
       "472      Nikola Jokić  2023        2nd\n",
       "373  Domantas Sabonis  2023        3rd"
      ]
     },
     "execution_count": 49,
     "metadata": {},
     "output_type": "execute_result"
    }
   ],
   "source": [
    "true_all_nba(nba_filt_test, 2023)"
   ]
  },
  {
   "cell_type": "code",
   "execution_count": 50,
   "metadata": {},
   "outputs": [
    {
     "data": {
      "text/html": [
       "<div>\n",
       "<style scoped>\n",
       "    .dataframe tbody tr th:only-of-type {\n",
       "        vertical-align: middle;\n",
       "    }\n",
       "\n",
       "    .dataframe tbody tr th {\n",
       "        vertical-align: top;\n",
       "    }\n",
       "\n",
       "    .dataframe thead th {\n",
       "        text-align: right;\n",
       "    }\n",
       "</style>\n",
       "<table border=\"1\" class=\"dataframe\">\n",
       "  <thead>\n",
       "    <tr style=\"text-align: right;\">\n",
       "      <th></th>\n",
       "      <th>Player</th>\n",
       "      <th>year</th>\n",
       "      <th>Position</th>\n",
       "      <th>all_nba_tm</th>\n",
       "      <th>prob_all_nba</th>\n",
       "      <th>pred_all_nba</th>\n",
       "      <th>all_nba_c_year</th>\n",
       "      <th>4th Team</th>\n",
       "    </tr>\n",
       "  </thead>\n",
       "  <tbody>\n",
       "    <tr>\n",
       "      <th>509</th>\n",
       "      <td>Joel Embiid</td>\n",
       "      <td>2023</td>\n",
       "      <td>C</td>\n",
       "      <td>1st</td>\n",
       "      <td>0.921440</td>\n",
       "      <td>1</td>\n",
       "      <td>1</td>\n",
       "      <td>0</td>\n",
       "    </tr>\n",
       "    <tr>\n",
       "      <th>472</th>\n",
       "      <td>Nikola Jokić</td>\n",
       "      <td>2023</td>\n",
       "      <td>C</td>\n",
       "      <td>2nd</td>\n",
       "      <td>0.870892</td>\n",
       "      <td>1</td>\n",
       "      <td>1</td>\n",
       "      <td>0</td>\n",
       "    </tr>\n",
       "    <tr>\n",
       "      <th>329</th>\n",
       "      <td>Anthony Davis</td>\n",
       "      <td>2023</td>\n",
       "      <td>C</td>\n",
       "      <td>None</td>\n",
       "      <td>0.783081</td>\n",
       "      <td>1</td>\n",
       "      <td>0</td>\n",
       "      <td>0</td>\n",
       "    </tr>\n",
       "    <tr>\n",
       "      <th>373</th>\n",
       "      <td>Domantas Sabonis</td>\n",
       "      <td>2023</td>\n",
       "      <td>C</td>\n",
       "      <td>3rd</td>\n",
       "      <td>0.719118</td>\n",
       "      <td>0</td>\n",
       "      <td>1</td>\n",
       "      <td>1</td>\n",
       "    </tr>\n",
       "    <tr>\n",
       "      <th>480</th>\n",
       "      <td>Nic Claxton</td>\n",
       "      <td>2023</td>\n",
       "      <td>C</td>\n",
       "      <td>None</td>\n",
       "      <td>0.418998</td>\n",
       "      <td>0</td>\n",
       "      <td>0</td>\n",
       "      <td>0</td>\n",
       "    </tr>\n",
       "    <tr>\n",
       "      <th>432</th>\n",
       "      <td>Nikola Vučević</td>\n",
       "      <td>2023</td>\n",
       "      <td>C</td>\n",
       "      <td>None</td>\n",
       "      <td>0.354804</td>\n",
       "      <td>0</td>\n",
       "      <td>0</td>\n",
       "      <td>0</td>\n",
       "    </tr>\n",
       "    <tr>\n",
       "      <th>169</th>\n",
       "      <td>Jarrett Allen</td>\n",
       "      <td>2023</td>\n",
       "      <td>C</td>\n",
       "      <td>None</td>\n",
       "      <td>0.345490</td>\n",
       "      <td>0</td>\n",
       "      <td>0</td>\n",
       "      <td>0</td>\n",
       "    </tr>\n",
       "    <tr>\n",
       "      <th>34</th>\n",
       "      <td>Bam Adebayo</td>\n",
       "      <td>2023</td>\n",
       "      <td>C</td>\n",
       "      <td>None</td>\n",
       "      <td>0.327155</td>\n",
       "      <td>0</td>\n",
       "      <td>0</td>\n",
       "      <td>0</td>\n",
       "    </tr>\n",
       "  </tbody>\n",
       "</table>\n",
       "</div>"
      ],
      "text/plain": [
       "               Player  year Position all_nba_tm  prob_all_nba  pred_all_nba  \\\n",
       "509       Joel Embiid  2023        C        1st      0.921440             1   \n",
       "472      Nikola Jokić  2023        C        2nd      0.870892             1   \n",
       "329     Anthony Davis  2023        C       None      0.783081             1   \n",
       "373  Domantas Sabonis  2023        C        3rd      0.719118             0   \n",
       "480       Nic Claxton  2023        C       None      0.418998             0   \n",
       "432    Nikola Vučević  2023        C       None      0.354804             0   \n",
       "169     Jarrett Allen  2023        C       None      0.345490             0   \n",
       "34        Bam Adebayo  2023        C       None      0.327155             0   \n",
       "\n",
       "     all_nba_c_year  4th Team  \n",
       "509               1         0  \n",
       "472               1         0  \n",
       "329               0         0  \n",
       "373               1         1  \n",
       "480               0         0  \n",
       "432               0         0  \n",
       "169               0         0  \n",
       "34                0         0  "
      ]
     },
     "execution_count": 50,
     "metadata": {},
     "output_type": "execute_result"
    }
   ],
   "source": [
    "pred_all_nba_df(nba_filt_test, 2023, ensemb_clf)"
   ]
  },
  {
   "attachments": {},
   "cell_type": "markdown",
   "metadata": {},
   "source": [
    "Now we may put all our results into a dataframe"
   ]
  },
  {
   "cell_type": "code",
   "execution_count": 51,
   "metadata": {},
   "outputs": [],
   "source": [
    "from sklearn.metrics import precision_score, recall_score, f1_score, accuracy_score\n",
    "\n",
    "#Putting precision and recall and ROC-AUC score into a dataframe for all 4 models\n",
    "model_names = ['Logistic Regression', 'Random Forest', 'XGBoost', 'Ensemble']\n",
    "precision = [0,0,0,0]\n",
    "recall = [0,0,0,0]\n",
    "roc_auc = [0,0,0,0]\n",
    "f1_scores = [0,0,0,0]\n",
    "accuracy = [0,0,0,0]\n",
    "for i, preds in enumerate([log_preds, rf_preds, xgb_preds, ens_preds]):\n",
    "    precision[i] = precision_score(y_test, preds)\n",
    "    recall[i] = recall_score(y_test, preds)\n",
    "    roc_auc[i] = auc_scores[i]\n",
    "    f1_scores[i] = f1_score(y_test, preds)\n",
    "    accuracy[i] = accuracy_score(y_test, preds)\n",
    "res_df = pd.DataFrame({'Model': model_names, 'Accuracy': accuracy, 'Precision': precision, 'Recall': recall, 'F-1 Score':f1_scores ,'ROC-AUC': roc_auc})\n",
    "res_df.to_csv('results_c.csv', index=False)"
   ]
  },
  {
   "cell_type": "code",
   "execution_count": 52,
   "metadata": {},
   "outputs": [
    {
     "data": {
      "text/html": [
       "<div>\n",
       "<style scoped>\n",
       "    .dataframe tbody tr th:only-of-type {\n",
       "        vertical-align: middle;\n",
       "    }\n",
       "\n",
       "    .dataframe tbody tr th {\n",
       "        vertical-align: top;\n",
       "    }\n",
       "\n",
       "    .dataframe thead th {\n",
       "        text-align: right;\n",
       "    }\n",
       "</style>\n",
       "<table border=\"1\" class=\"dataframe\">\n",
       "  <thead>\n",
       "    <tr style=\"text-align: right;\">\n",
       "      <th></th>\n",
       "      <th>Model</th>\n",
       "      <th>Accuracy</th>\n",
       "      <th>Precision</th>\n",
       "      <th>Recall</th>\n",
       "      <th>F-1 Score</th>\n",
       "      <th>ROC-AUC</th>\n",
       "    </tr>\n",
       "  </thead>\n",
       "  <tbody>\n",
       "    <tr>\n",
       "      <th>0</th>\n",
       "      <td>Logistic Regression</td>\n",
       "      <td>0.960526</td>\n",
       "      <td>0.875000</td>\n",
       "      <td>0.875000</td>\n",
       "      <td>0.875000</td>\n",
       "      <td>0.971029</td>\n",
       "    </tr>\n",
       "    <tr>\n",
       "      <th>1</th>\n",
       "      <td>Random Forest</td>\n",
       "      <td>0.973684</td>\n",
       "      <td>0.916667</td>\n",
       "      <td>0.916667</td>\n",
       "      <td>0.916667</td>\n",
       "      <td>0.980794</td>\n",
       "    </tr>\n",
       "    <tr>\n",
       "      <th>2</th>\n",
       "      <td>XGBoost</td>\n",
       "      <td>0.960526</td>\n",
       "      <td>0.875000</td>\n",
       "      <td>0.875000</td>\n",
       "      <td>0.875000</td>\n",
       "      <td>0.975911</td>\n",
       "    </tr>\n",
       "    <tr>\n",
       "      <th>3</th>\n",
       "      <td>Ensemble</td>\n",
       "      <td>0.973684</td>\n",
       "      <td>0.916667</td>\n",
       "      <td>0.916667</td>\n",
       "      <td>0.916667</td>\n",
       "      <td>0.977214</td>\n",
       "    </tr>\n",
       "  </tbody>\n",
       "</table>\n",
       "</div>"
      ],
      "text/plain": [
       "                 Model  Accuracy  Precision    Recall  F-1 Score   ROC-AUC\n",
       "0  Logistic Regression  0.960526   0.875000  0.875000   0.875000  0.971029\n",
       "1        Random Forest  0.973684   0.916667  0.916667   0.916667  0.980794\n",
       "2              XGBoost  0.960526   0.875000  0.875000   0.875000  0.975911\n",
       "3             Ensemble  0.973684   0.916667  0.916667   0.916667  0.977214"
      ]
     },
     "execution_count": 52,
     "metadata": {},
     "output_type": "execute_result"
    }
   ],
   "source": [
    "res_df"
   ]
  }
 ],
 "metadata": {
  "kernelspec": {
   "display_name": "base",
   "language": "python",
   "name": "python3"
  },
  "language_info": {
   "codemirror_mode": {
    "name": "ipython",
    "version": 3
   },
   "file_extension": ".py",
   "mimetype": "text/x-python",
   "name": "python",
   "nbconvert_exporter": "python",
   "pygments_lexer": "ipython3",
   "version": "3.9.12"
  },
  "orig_nbformat": 4
 },
 "nbformat": 4,
 "nbformat_minor": 2
}
